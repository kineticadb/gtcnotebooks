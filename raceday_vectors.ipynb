{
 "cells": [
  {
   "cell_type": "markdown",
   "source": [
    "# Vector Embedding"
   ],
   "metadata": {
    "collapsed": false
   },
   "id": "f0f5e000fa46ed37"
  },
  {
   "cell_type": "code",
   "outputs": [],
   "source": [
    "pip install --upgrade pip"
   ],
   "metadata": {
    "collapsed": false
   },
   "id": "a14369458c5212b3",
   "execution_count": null
  },
  {
   "cell_type": "code",
   "outputs": [],
   "source": [
    "pip install gpudb==7.2.0.0b0 pycatch22 pandas pyarrow typeguard"
   ],
   "metadata": {
    "collapsed": true
   },
   "id": "initial_id",
   "execution_count": null
  },
  {
   "cell_type": "code",
   "outputs": [],
   "source": [
    "import pycatch22\n",
    "import gpudb\n",
    "import json\n",
    "import math"
   ],
   "metadata": {
    "collapsed": false
   },
   "id": "6f475e1b627e627d",
   "execution_count": null
  },
  {
   "cell_type": "markdown",
   "source": [
    "Let's define our time-series vector embedding algorithms to use from the catch22 library [here](https://time-series-features.gitbook.io/catch22-features/).  Essentially, the idea is to use a variety of algorithms to represent our sensor data such that we can identify similar sensor data segments."
   ],
   "metadata": {
    "collapsed": false
   },
   "id": "5a5e8cfa95852217"
  },
  {
   "cell_type": "code",
   "outputs": [],
   "source": [
    "def c22(ts_data: list) -> list:\n",
    "    timeseries = [pycatch22.CO_f1ecac(ts_data),\n",
    "                  pycatch22.CO_trev_1_num(ts_data),\n",
    "                  pycatch22.CO_FirstMin_ac(ts_data),\n",
    "                  pycatch22.CO_HistogramAMI_even_2_5(ts_data),\n",
    "                  pycatch22.DN_Mean(ts_data),\n",
    "                  pycatch22.DN_Spread_Std(ts_data),\n",
    "                  pycatch22.DN_HistogramMode_5(ts_data),\n",
    "                  pycatch22.DN_HistogramMode_10(ts_data),\n",
    "                  pycatch22.DN_OutlierInclude_n_001_mdrmd(ts_data),\n",
    "                  pycatch22.SB_BinaryStats_diff_longstretch0(ts_data),\n",
    "                  pycatch22.SB_BinaryStats_mean_longstretch1(ts_data),\n",
    "                  pycatch22.SB_MotifThree_quantile_hh(ts_data),\n",
    "                  pycatch22.SB_TransitionMatrix_3ac_sumdiagcov(ts_data),\n",
    "                  pycatch22.SC_FluctAnal_2_dfa_50_1_2_logi_prop_r1(ts_data),\n",
    "                  pycatch22.SC_FluctAnal_2_rsrangefit_50_1_logi_prop_r1(ts_data),\n",
    "                  pycatch22.SP_Summaries_welch_rect_area_5_1(ts_data),\n",
    "                  pycatch22.SP_Summaries_welch_rect_centroid(ts_data),\n",
    "                  pycatch22.FC_LocalSimple_mean1_tauresrat(ts_data),\n",
    "                  pycatch22.FC_LocalSimple_mean3_stderr(ts_data),\n",
    "                  pycatch22.IN_AutoMutualInfoStats_40_gaussian_fmmi(ts_data),\n",
    "                  pycatch22.MD_hrv_classic_pnn40(ts_data),\n",
    "                  pycatch22.PD_PeriodicityWang_th0_01(ts_data)]\n",
    "\n",
    "    return timeseries"
   ],
   "metadata": {
    "collapsed": false
   },
   "id": "f90c5e62618fa5df",
   "execution_count": null
  },
  {
   "cell_type": "markdown",
   "source": [
    "Let's connect to our Kinetica database"
   ],
   "metadata": {
    "collapsed": false
   },
   "id": "fc32495dde042adf"
  },
  {
   "cell_type": "code",
   "outputs": [],
   "source": [
    "db = gpudb.GPUdb(host='https://demo72.kinetica.com/_gpudb',\n",
    "                 username='gtc',\n",
    "                 password='Kinetica123!')"
   ],
   "metadata": {
    "collapsed": false
   },
   "id": "62c39fdcbf817fb5",
   "execution_count": null
  },
  {
   "cell_type": "markdown",
   "source": [
    "Now, we need to create our table to store our vector embeddings using the Kinetica API"
   ],
   "metadata": {
    "collapsed": false
   },
   "id": "65efc17ace3f4cd7"
  },
  {
   "cell_type": "code",
   "outputs": [],
   "source": [
    "if db.has_table(\"raceday.vectors\")[\"table_exists\"]:\n",
    "    db.clear_table(table_name=\"raceday.vectors\")\n",
    "\n",
    "schema = [\n",
    "    [\"ts_bkt\", \"string\", \"datetime\"],\n",
    "    [\"TireSlipRatioFl_Vec\", \"bytes\", \"vector(22)\"],\n",
    "    [\"TireSlipRatioFr_Vec\", \"bytes\", \"vector(22)\"],\n",
    "    [\"TireSlipRatioRl_Vec\", \"bytes\", \"vector(22)\"],\n",
    "    [\"TireSlipRatioRr_Vec\", \"bytes\", \"vector(22)\"],\n",
    "    [\"AccelerationX_Vec\", \"bytes\", \"vector(22)\"],\n",
    "    [\"AccelerationY_Vec\", \"bytes\", \"vector(22)\"],\n",
    "    [\"AccelerationZ_Vec\", \"bytes\", \"vector(22)\"],\n",
    "    [\"VelocityX_Vec\", \"bytes\", \"vector(22)\"],\n",
    "    [\"VelocityY_Vec\", \"bytes\", \"vector(22)\"],\n",
    "    [\"VelocityZ_Vec\", \"bytes\", \"vector(22)\"],\n",
    "    [\"CombinedRace_Vec\", \"bytes\", \"vector(220)\"]\n",
    "]\n",
    "\n",
    "tableObj = gpudb.GPUdbTable(\n",
    "    _type=schema,\n",
    "    name=\"raceday.vectors\",\n",
    "    use_multihead_io=True,\n",
    "    multihead_ingest_batch_size=5000,\n",
    "    db=db\n",
    ")"
   ],
   "metadata": {
    "collapsed": false
   },
   "id": "945997fa3737affe",
   "execution_count": null
  },
  {
   "cell_type": "markdown",
   "source": [
    "Now that we have created our vector table, we need to loop through all the time-series data, convert to our 22-dimensional vector embedding space, then insert into Kinetica"
   ],
   "metadata": {
    "collapsed": false
   },
   "id": "3c847c583e781c37"
  },
  {
   "cell_type": "code",
   "outputs": [],
   "source": [
    "has_more = True\n",
    "offset = 0\n",
    "while has_more:\n",
    "    result = None\n",
    "    try:\n",
    "        result = db.execute_sql('''select\n",
    "       time_bucket(interval 5 second, timestamp) as ts_bkt,\n",
    "       TireSlipRatioFl,\n",
    "       TireSlipRatioFr,\n",
    "       TireSlipRatioRl,\n",
    "       TireSlipRatioRr,\n",
    "       AccelerationX,\n",
    "       AccelerationY,\n",
    "       AccelerationZ,\n",
    "       VelocityX,\n",
    "       VelocityY,\n",
    "       VelocityZ\n",
    "    from\n",
    "        raceday.dash1''',\n",
    "                                encoding='json',\n",
    "                                offset=offset)\n",
    "\n",
    "    except gpudb.GPUdbException as gpudberror:\n",
    "        print(str(gpudberror))\n",
    "        \n",
    "    if result is not None:\n",
    "        j = json.loads(result.json_encoded_response)\n",
    "        flat_result = {}\n",
    "        count = 0\n",
    "\n",
    "        has_more = result.has_more_records\n",
    "        offset += len(j['column_1'])\n",
    "        \n",
    "        for count in range(0, len(j['column_1'])):\n",
    "            if j['column_1'][count] not in flat_result:\n",
    "                flat_result[j['column_1'][count]] = {\n",
    "                    'TireSlipRatioFl_Vec': [],\n",
    "                    'TireSlipRatioFr_Vec': [],\n",
    "                    'TireSlipRatioRl_Vec': [],\n",
    "                    'TireSlipRatioRr_Vec': [],\n",
    "                    'AccelerationX_Vec':   [],\n",
    "                    'AccelerationY_Vec':   [],\n",
    "                    'AccelerationZ_Vec':   [],\n",
    "                    'VelocityX_Vec':       [],\n",
    "                    'VelocityY_Vec':       [],\n",
    "                    'VelocityZ_Vec':       [],\n",
    "                    'CombinedRace_Vec':    []\n",
    "                }\n",
    "\n",
    "            flat_result[j['column_1'][count]]['TireSlipRatioFl_Vec'].append(j['column_2'][count])\n",
    "            flat_result[j['column_1'][count]]['TireSlipRatioFr_Vec'].append(j['column_3'][count])\n",
    "            flat_result[j['column_1'][count]]['TireSlipRatioRl_Vec'].append(j['column_4'][count])\n",
    "            flat_result[j['column_1'][count]]['TireSlipRatioRr_Vec'].append(j['column_5'][count])\n",
    "            flat_result[j['column_1'][count]]['AccelerationX_Vec'].append(j['column_6'][count])\n",
    "            flat_result[j['column_1'][count]]['AccelerationY_Vec'].append(j['column_7'][count])\n",
    "            flat_result[j['column_1'][count]]['AccelerationZ_Vec'].append(j['column_8'][count])\n",
    "            flat_result[j['column_1'][count]]['VelocityX_Vec'].append(j['column_9'][count])\n",
    "            flat_result[j['column_1'][count]]['VelocityY_Vec'].append(j['column_10'][count])\n",
    "            flat_result[j['column_1'][count]]['VelocityZ_Vec'].append(j['column_11'][count])\n",
    "            \n",
    "        for key, value in flat_result.items():\n",
    "            for k2, v2 in value.items():\n",
    "                if k2 != 'CombinedRace_Vec':\n",
    "                    vec = c22(v2)\n",
    "                    vec = [0 if math.isnan(x) else x for x in vec]\n",
    "                    flat_result[key][k2] = vec\n",
    "                    flat_result[key]['CombinedRace_Vec'].extend(vec)\n",
    "                    \n",
    "        for key, value in flat_result.items():\n",
    "            json_record = json.dumps({'ts_bkt':              key,\n",
    "                                      'TireSlipRatioFl_Vec': value['TireSlipRatioFl_Vec'],\n",
    "                                      'TireSlipRatioFr_Vec': value['TireSlipRatioFr_Vec'],\n",
    "                                      'TireSlipRatioRl_Vec': value['TireSlipRatioRl_Vec'],\n",
    "                                      'TireSlipRatioRr_Vec': value['TireSlipRatioRr_Vec'],\n",
    "                                      'AccelerationX_Vec':   value['AccelerationX_Vec'],\n",
    "                                      'AccelerationY_Vec':   value['AccelerationY_Vec'],\n",
    "                                      'AccelerationZ_Vec':   value['AccelerationZ_Vec'],\n",
    "                                      'VelocityX_Vec':       value['VelocityX_Vec'],\n",
    "                                      'VelocityY_Vec':       value['VelocityY_Vec'],\n",
    "                                      'VelocityZ_Vec':       value['VelocityZ_Vec'],\n",
    "                                      'CombinedRace_Vec':    value['CombinedRace_Vec']\n",
    "                                      })\n",
    "            response = db.insert_records_from_json(\n",
    "                table_name='raceday.vectors',\n",
    "                json_records=json_record)\n",
    "tableObj.flush_data_to_server()"
   ],
   "metadata": {
    "collapsed": false
   },
   "id": "c3c6eb4d9be3928f",
   "execution_count": null
  },
  {
   "cell_type": "markdown",
   "source": [
    "# Kinetica LLM interactions\n",
    "Here we will set up our LLM context.  Consider adding or removing rules and/or samples to see what the effect will be on the resulting SQL query results:\n",
    "- high velocity turns have a Velocity along the Y axis of greater than 1.6\n",
    "- straightaways have an Acceleration along the X axis of greater than 5"
   ],
   "metadata": {
    "collapsed": false
   },
   "id": "b6aceac341e812ef"
  },
  {
   "cell_type": "code",
   "outputs": [],
   "source": [
    "# create separate code\n",
    "sqlcontext = '''\n",
    "CREATE OR REPLACE CONTEXT raceday.raceday_ui_ctxt\n",
    " (\n",
    "     TABLE = raceday.dash1,\n",
    "     RULES = (\n",
    "         'crashes are likely when tire slip ratio is lower than -0.4 and acceleration along the X axis is less than 0 and velocity along the Y axis is lower than 0', \n",
    "         'to retrieve videos use an asof join between the raceday.dash1 timestamp column and raceday.videos ts column with a tolerance of 0 seconds before the event and 5 seconds after making the minimum match',\n",
    "         'when I use the word \"distinct\" when asking for videos I mean to use the distinct sql function',\n",
    "         'when I say \"show me 1\", I want you to add a \"LIMIT 1 to the query\"',\n",
    "         'when I ask for 1 video, make sure that the you use the distinct function'),\n",
    "     COMMENTS = (\n",
    "         'EngineMaxRpm' = 'this is the maximum engine RPM',\n",
    "         'timestamp' = 'this is the timestamp column'\n",
    "     )\n",
    "),\n",
    "(\n",
    "    TABLE = raceday.videos\n",
    "),\n",
    "(\n",
    "    SAMPLES = (\n",
    "        'show me videos similar to https://kinetica-raceday.s3.amazonaws.com/raceday1/forza_images/output-2-15.mp4' = 'with crashvid as (\n",
    "    select * from raceday.videos where videopath = ''https://kinetica-raceday.s3.amazonaws.com/raceday1/forza_images/output-2-15.mp4''\n",
    "),\n",
    "query_vector as (\n",
    "    select\n",
    "    *\n",
    "    from\n",
    "        crashvid vid\n",
    "        join raceday.vectors vec\n",
    "        on asof(vid.ts, vec.ts_bkt, interval ''0'' seconds, interval ''5'' seconds, min)\n",
    "),\n",
    "vec_similar as (\n",
    "    SELECT\n",
    "        ts_bkt,\n",
    "        cosine_distance(VelocityX_Vec,(select string(VelocityX_Vec) from query_vector)) as d1\n",
    "    FROM\n",
    "        raceday.vectors\n",
    "    ORDER BY\n",
    "        d1\n",
    "    LIMIT\n",
    "        5\n",
    ")\n",
    "\n",
    "select *\n",
    "from\n",
    "    raceday.videos vid\n",
    "    join (select * from vec_similar) vec_s\n",
    "    on asof(vid.ts, vec_s.ts_bkt, interval ''0'' seconds, interval ''5'' seconds, min)\n",
    "order by d1'\n",
    "    )\n",
    ")\n",
    "'''\n",
    "response = db.execute_sql(sqlcontext)\n",
    "print(response['status_info']['status'])"
   ],
   "metadata": {
    "collapsed": false
   },
   "id": "5d1fb0f50556a568",
   "execution_count": null
  },
  {
   "cell_type": "markdown",
   "source": [
    "Now we can send our question to the LLM via SQL api\n",
    "\n",
    "Some questions to ask:\n",
    "- what is the average current engine RPM when acceleration along the X axis is between 0 and 1.5\n",
    "- show a video where a crash is likely to occur\n",
    "- show a video along a straightaway\n",
    "- show me videos similar to https://kinetica-raceday.s3.amazonaws.com/raceday1/forza_images/output-2-15.mp4"
   ],
   "metadata": {
    "collapsed": false
   },
   "id": "a21b96c6384b2b5a"
  },
  {
   "cell_type": "code",
   "outputs": [],
   "source": [
    "question = '''show me videos where a crash is likely to occur'''\n",
    "sql = f'''GENERATE SQL FOR '{question}' WITH OPTIONS (context_name = 'raceday.raceday_ui_ctxt');'''\n",
    "response = db.execute_sql(sql, encoding='json')\n",
    "newQuery = None\n",
    "if response['status_info']['status'] == 'OK':\n",
    "    newQuery = json.loads(response['json_encoded_response'])['column_1'][0]\n",
    "    print(json.loads(response['json_encoded_response'])['column_1'][0])\n",
    "\n",
    "else:\n",
    "    print(\"BAD RESPONSE, Try a different question or adjust your SQL Context\")"
   ],
   "metadata": {
    "collapsed": false
   },
   "id": "32013834a738f8e9",
   "execution_count": null
  },
  {
   "cell_type": "code",
   "outputs": [],
   "source": [
    "if newQuery is not None:\n",
    "    df = db.to_df(newQuery)\n",
    "    print(df)"
   ],
   "metadata": {
    "collapsed": false
   },
   "id": "d7501914dc321110",
   "execution_count": null
  }
 ],
 "metadata": {
  "kernelspec": {
   "display_name": "Python 3",
   "language": "python",
   "name": "python3"
  },
  "language_info": {
   "codemirror_mode": {
    "name": "ipython",
    "version": 2
   },
   "file_extension": ".py",
   "mimetype": "text/x-python",
   "name": "python",
   "nbconvert_exporter": "python",
   "pygments_lexer": "ipython2",
   "version": "2.7.6"
  }
 },
 "nbformat": 4,
 "nbformat_minor": 5
}
