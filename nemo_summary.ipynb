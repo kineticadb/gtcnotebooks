{
 "cells": [
  {
   "cell_type": "code",
   "execution_count": 31,
   "metadata": {},
   "outputs": [
    {
     "name": "stderr",
     "output_type": "stream",
     "text": [
      "\u001b[32mINFO   \u001b[0m [\u001b[94mNemoSummaryLLM\u001b[0m] \u001b[37muser: [{timebucket: \"1988-02-01 14:01:01\", session_count: 398}] (tokens: 177/3919)\u001b[0m\n",
      "\u001b[32mINFO   \u001b[0m [\u001b[94mNemoSummaryLLM\u001b[0m] \u001b[37massistant: The count was 398 at 1988-02-01 14:01:01\u001b[0m\n"
     ]
    },
    {
     "data": {
      "text/plain": [
       "'The count was 398 at 1988-02-01 14:01:01'"
      ]
     },
     "execution_count": 31,
     "metadata": {},
     "output_type": "execute_result"
    }
   ],
   "source": [
    "import kinetica.kineai\n",
    "import importlib\n",
    "importlib.reload(kinetica.kineai)\n",
    "\n",
    "nemollm = kinetica.kineai.NemoSummaryLLM()\n",
    "system = \"The following is a conversation between KineticaLLM and Nemo. Nemo's job is to explain the data as natural language.\"\n",
    "context = [dict(role=\"system\", content=system),\n",
    "            dict(role=\"user\", content ='[{timebucket: \"1988-02-01 01:05:01\", session_count: 400}]'),\n",
    "            dict(role=\"assistant\", content='The count was 400 at 1988-02-01 01:05:01'),\n",
    "           ]\n",
    "\n",
    "result = nemollm.summarize(context, '[{timebucket: \"1988-02-01 14:01:01\", session_count: 398}]')\n",
    "result\n"
   ]
  }
 ],
 "metadata": {
  "kernelspec": {
   "display_name": "langchain",
   "language": "python",
   "name": "python3"
  },
  "language_info": {
   "codemirror_mode": {
    "name": "ipython",
    "version": 3
   },
   "file_extension": ".py",
   "mimetype": "text/x-python",
   "name": "python",
   "nbconvert_exporter": "python",
   "pygments_lexer": "ipython3",
   "version": "3.9.18"
  }
 },
 "nbformat": 4,
 "nbformat_minor": 2
}
