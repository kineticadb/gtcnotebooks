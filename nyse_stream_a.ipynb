{
 "cells": [
  {
   "cell_type": "markdown",
   "id": "c61e4a97",
   "metadata": {},
   "source": [
    "https://python.langchain.com/docs/get_started/quickstart\n",
    "\n",
    "```\n",
    "conda create --name langchain python=3.10\n",
    "pip install --upgrade pip\n",
    "pip install ipykernel ipywidgets\n",
    "pip install gpudb\n",
    "pip install langchain\n",
    "#pip install langchain_openai\n",
    "```"
   ]
  },
  {
   "cell_type": "code",
   "execution_count": null,
   "id": "5a3cab1d",
   "metadata": {},
   "outputs": [],
   "source": [
    "from kinetica.llm_chat import KineticaChatLLM\n",
    "\n",
    "kdbc = KineticaChatLLM._create_kdbc(host=\"http://172.31.33.30:9191/\", login=\"demo\", password=\"Kinetica123!\")\n",
    "kinetica_llm = KineticaChatLLM(kdbc=kdbc)\n",
    "kinetica_llm._identifying_params"
   ]
  },
  {
   "cell_type": "code",
   "execution_count": null,
   "id": "a082e76c",
   "metadata": {},
   "outputs": [],
   "source": [
    "from langchain_core.prompts import ChatPromptTemplate\n",
    "from langchain_core.messages import AIMessage\n",
    "\n",
    "ctx_messages = kinetica_llm.load_messages_from_context('raceday.raceday_ui_ctxt')\n",
    "ctx_messages.append((\"human\", \"{input}\"))\n",
    "prompt_template = ChatPromptTemplate.from_messages(ctx_messages)\n",
    "prompt_template.pretty_print()"
   ]
  },
  {
   "cell_type": "code",
   "execution_count": null,
   "id": "initial_id",
   "metadata": {
    "collapsed": true
   },
   "outputs": [],
   "source": [
    "chain = prompt_template | kinetica_llm\n",
    "response: AIMessage = chain.invoke({\"input\": \"show a video where a crash is likely to occur\"})\n",
    "print(response.content)"
   ]
  },
  {
   "cell_type": "code",
   "execution_count": null,
   "id": "c5bd6ecc",
   "metadata": {},
   "outputs": [],
   "source": [
    "from kinetica.sql_output import KineticaSqlOutputParser\n",
    "\n",
    "chain = prompt_template | kinetica_llm | KineticaSqlOutputParser(kdbc=kdbc)\n",
    "response = chain.invoke({\"input\": \"show a video where a crash is likely to occur\"})\n",
    "print(f\"SQL: {response.sql}\")\n",
    "response.dataframe\n"
   ]
  }
 ],
 "metadata": {
  "kernelspec": {
   "display_name": "Python 3",
   "language": "python",
   "name": "python3"
  },
  "language_info": {
   "codemirror_mode": {
    "name": "ipython",
    "version": 3
   },
   "file_extension": ".py",
   "mimetype": "text/x-python",
   "name": "python",
   "nbconvert_exporter": "python",
   "pygments_lexer": "ipython3",
   "version": "3.10.13"
  }
 },
 "nbformat": 4,
 "nbformat_minor": 5
}
