{
 "cells": [
  {
   "cell_type": "markdown",
   "id": "c61e4a97",
   "metadata": {},
   "source": [
    "https://python.langchain.com/docs/get_started/quickstart\n",
    "\n",
    "```\n",
    "conda create --name langchain python=3.10\n",
    "pip install --upgrade pip\n",
    "pip install ipykernel ipywidgets\n",
    "pip install gpudb\n",
    "pip install langchain\n",
    "#pip install langchain_openai\n",
    "```"
   ]
  },
  {
   "cell_type": "code",
   "execution_count": 1,
   "id": "5a3cab1d",
   "metadata": {},
   "outputs": [
    {
     "name": "stderr",
     "output_type": "stream",
     "text": [
      "2024-02-05 14:42:30.700 WARNING  [GPUdb] Client version (7.1.9.10) does not match that of the server (7.2.0.0)\n",
      "2024-02-05 14:42:30.701 WARNING  [GPUdb] API and server versions don't match\n"
     ]
    },
    {
     "name": "stdout",
     "output_type": "stream",
     "text": [
      "Connected to Kinetica: http://172.31.33.30:9191. (api=7.1.9.10, server=7.2.0.0)\n"
     ]
    },
    {
     "data": {
      "text/plain": [
       "{'kinetica_version': '7.2.0.0', 'api_version': '7.1.9.10'}"
      ]
     },
     "execution_count": 1,
     "metadata": {},
     "output_type": "execute_result"
    }
   ],
   "source": [
    "import kinetica.llm_chat\n",
    "\n",
    "kdbc = kinetica.llm_chat.KineticaChatLLM._create_kdbc(host=\"http://172.31.33.30:9191/\", login=\"demo\", password=\"Kinetica123!\")\n",
    "kinetica_llm = kinetica.llm_chat.KineticaChatLLM(kdbc=kdbc)\n",
    "kinetica_llm._identifying_params"
   ]
  },
  {
   "cell_type": "code",
   "execution_count": 3,
   "id": "a082e76c",
   "metadata": {},
   "outputs": [
    {
     "data": {
      "text/plain": [
       "ChatPromptTemplate(input_variables=['input'], messages=[SystemMessage(content='CREATE TABLE raceday.dash1 AS\\n(\\n   IsRaceOn INTEGER,\\n   timestamp DATETIME  COMMENT \\'this is the timestamp column\\',\\n   EngineMaxRpm REAL  COMMENT \\'this is the maximum engine RPM\\',\\n   EngineIdleRpm REAL,\\n   CurrentEngineRpm REAL,\\n   AccelerationX REAL,\\n   AccelerationY REAL,\\n   AccelerationZ REAL,\\n   VelocityX REAL,\\n   VelocityY REAL,\\n   VelocityZ REAL,\\n   AngularVelocityX REAL,\\n   AngularVelocityY REAL,\\n   AngularVelocityZ REAL,\\n   Yaw REAL,\\n   Pitch REAL,\\n   Roll REAL,\\n   NormSuspensionTravelFl REAL,\\n   NormSuspensionTravelFr REAL,\\n   NormSuspensionTravelRl REAL,\\n   NormSuspensionTravelRr REAL,\\n   TireSlipRatioFl REAL,\\n   TireSlipRatioFr REAL,\\n   TireSlipRatioRl REAL,\\n   TireSlipRatioRr REAL,\\n   WheelRotationSpeedFl REAL,\\n   WheelRotationSpeedFr REAL,\\n   WheelRotationSpeedRl REAL,\\n   WheelRotationSpeedRr REAL,\\n   WheelOnRumbleStripFl INTEGER,\\n   WheelOnRumbleStripFr INTEGER,\\n   WheelOnRumbleStripRl INTEGER,\\n   WheelOnRumbleStripRr INTEGER,\\n   WheelInPuddleFl REAL,\\n   WheelInPuddleFr REAL,\\n   WheelInPuddleRl REAL,\\n   WheelInPuddleRr REAL,\\n   SurfaceRumbleFl REAL,\\n   SurfaceRumbleFr REAL,\\n   SurfaceRumbleRl REAL,\\n   SurfaceRumbleRr REAL,\\n   TireSlipAngleFl REAL,\\n   TireSlipAngleFr REAL,\\n   TireSlipAngleRl REAL,\\n   TireSlipAngleRr REAL,\\n   TireCombinedSlipFl REAL,\\n   TireCombinedSlipFr REAL,\\n   TireCombinedSlipRl REAL,\\n   TireCombinedSlipRr REAL,\\n   SuspensionTravelMetersFl REAL,\\n   SuspensionTravelMetersFr REAL,\\n   SuspensionTravelMetersRl REAL,\\n   SuspensionTravelMetersRr REAL,\\n   CarOrdinal INTEGER,\\n   CarClass INTEGER,\\n   CarPerformanceIndex INTEGER,\\n   DriveTrain INTEGER,\\n   NumCylinders INTEGER,\\n   PositionX REAL,\\n   PositionY REAL,\\n   PositionZ REAL,\\n   Speed REAL,\\n   Power REAL,\\n   Torque REAL,\\n   TireTempFl REAL,\\n   TireTempFr REAL,\\n   TireTempRl REAL,\\n   TireTempRr REAL,\\n   Boost REAL,\\n   Fuel REAL,\\n   Distance REAL,\\n   BestLapTime REAL,\\n   LastLapTime REAL,\\n   CurrentLapTime REAL,\\n   CurrentRaceTime REAL,\\n   Lap INTEGER,\\n   RacePosition INTEGER,\\n   Accelerator INTEGER,\\n   Brake INTEGER,\\n   Clutch INTEGER,\\n   Handbrake INTEGER,\\n   Gear INTEGER,\\n   Steer INTEGER,\\n   NormalDrivingLine INTEGER,\\n   TrackOrdinal INTEGER,\\n   NormalAiBrakeDifference INTEGER,\\n   TireWearFrontLeft REAL,\\n   TireWearFrontRight REAL,\\n   TireWearRearLeft REAL,\\n   TireWearRearRight REAL\\n);\\n-- When querying table raceday.dash1 the following rules apply:\\n-- * crashes are likely when tire slip ratio is lower than -0.4 and acceleration along the X axis is less than 0 and velocity along the Y axis is lower than 0\\n-- * to retrieve videos use an asof join between the raceday.dash1 timestamp column and raceday.videos ts column with a tolerance of 0 seconds before the event and 5 seconds after making the minimum match\\n-- * when I use the word \"distinct\" when asking for videos I mean to use the distinct sql function\\n-- * when I say \"show me 1\", I want you to add a \"LIMIT 1 to the query\"\\n-- * when I ask for 1 video, make sure that the you use the distinct function\\n\\nCREATE TABLE raceday.videos AS\\n(\\n   ts DATETIME NOT NULL,\\n   videopath VARCHAR (128) NOT NULL\\n);'), HumanMessage(content='show me videos similar to https://kinetica-raceday.s3.amazonaws.com/raceday1/forza_images/output-2-15.mp4'), AIMessage(content=\"with crashvid as (\\n    select * from raceday.videos where videopath = 'https://kinetica-raceday.s3.amazonaws.com/raceday1/forza_images/output-2-15.mp4'\\n),\\nquery_vector as (\\n    select\\n    *\\n    from\\n        crashvid vid\\n        join raceday.vectors vec\\n        on asof(vid.ts, vec.ts_bkt, interval '0' seconds, interval '5' seconds, min)\\n),\\nvec_similar as (\\n    SELECT\\n        ts_bkt,\\n        cosine_distance(VelocityX_Vec,(select string(VelocityX_Vec) from query_vector)) as d1\\n    FROM\\n        raceday.vectors\\n    ORDER BY\\n        d1\\n    LIMIT\\n        5\\n)\\n\\nselect *\\nfrom\\n    raceday.videos vid\\n    join (select * from vec_similar) vec_s\\n    on asof(vid.ts, vec_s.ts_bkt, interval '0' seconds, interval '5' seconds, min)\\norder by d1\"), HumanMessagePromptTemplate(prompt=PromptTemplate(input_variables=['input'], template='{input}'))])"
      ]
     },
     "execution_count": 3,
     "metadata": {},
     "output_type": "execute_result"
    }
   ],
   "source": [
    "from langchain_core.prompts import ChatPromptTemplate\n",
    "from langchain_core.messages import AIMessage\n",
    "\n",
    "ctx_messages = kinetica_llm.load_messages_from_context('raceday.raceday_ui_ctxt')\n",
    "ctx_messages.append((\"human\", \"{input}\"))\n",
    "prompt_template = ChatPromptTemplate.from_messages(ctx_messages)\n",
    "prompt_template"
   ]
  },
  {
   "cell_type": "code",
   "execution_count": 4,
   "id": "initial_id",
   "metadata": {
    "collapsed": true
   },
   "outputs": [
    {
     "name": "stdout",
     "output_type": "stream",
     "text": [
      "SELECT\n",
      "    *\n",
      "FROM\n",
      "    raceday.videos\n",
      "WHERE\n",
      "    videopath = 'https://kinetica-raceday.s3.amazonaws.com/raceday1/forza_images/output-2-15.mp4'\n",
      "LIMIT\n",
      "    1\n"
     ]
    }
   ],
   "source": [
    "chain = prompt_template | kinetica_llm\n",
    "response: AIMessage = chain.invoke({\"input\": \"show a video where a crash is likely to occur\"})\n",
    "print(response.content)"
   ]
  }
 ],
 "metadata": {
  "kernelspec": {
   "display_name": "Python 3",
   "language": "python",
   "name": "python3"
  },
  "language_info": {
   "codemirror_mode": {
    "name": "ipython",
    "version": 3
   },
   "file_extension": ".py",
   "mimetype": "text/x-python",
   "name": "python",
   "nbconvert_exporter": "python",
   "pygments_lexer": "ipython3",
   "version": "3.10.13"
  }
 },
 "nbformat": 4,
 "nbformat_minor": 5
}
