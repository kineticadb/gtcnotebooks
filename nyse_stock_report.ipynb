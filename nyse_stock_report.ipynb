{
 "cells": [
  {
   "cell_type": "code",
   "execution_count": null,
   "id": "initial_id",
   "metadata": {
    "collapsed": true
   },
   "outputs": [],
   "source": [
    "%pip install --upgrade gpudb==7.2.0.1 pandas pyarrow typeguard langchain langchain_openai nemollm colorlog langchain-community"
   ]
  },
  {
   "cell_type": "code",
   "outputs": [
    {
     "data": {
      "text/plain": "{'count_affected': 1,\n 'response_schema_str': '{\"name\":\"generic_response\",\"type\":\"record\",\"fields\":[{\"name\":\"column_1\",\"type\":{\"type\":\"array\",\"items\":\"string\"}},{\"name\":\"column_headers\",\"type\":{\"type\":\"array\",\"items\":\"string\"}},{\"name\":\"column_datatypes\",\"type\":{\"type\":\"array\",\"items\":\"string\"}}]}',\n 'binary_encoded_response': b'\\x00\\x02\\ndummy\\x00\\x02\\x0cstring\\x00',\n 'json_encoded_response': '',\n 'total_number_of_records': -1,\n 'has_more_records': False,\n 'paging_table': '',\n 'info': {'X-Kinetica-Group': 'DDL',\n  'count': '0',\n  'last_endpoint': '/create/context/internal',\n  'total_number_of_records': '0'},\n 'status_info': {'status': 'OK',\n  'message': '',\n  'data_type': 'execute_sql_response',\n  'response_time': 0.0168},\n 'record_type': kinetica.protocol.RecordType('', [('dummy', 'string')])}"
     },
     "execution_count": 49,
     "metadata": {},
     "output_type": "execute_result"
    }
   ],
   "source": [
    "import gpudb\n",
    "\n",
    "db = gpudb.GPUdb(host='https://demo72.kinetica.com/_gpudb',\n",
    "                     username='gtc',\n",
    "                     password='Kinetica123!')\n",
    "\n",
    "# We want to have our own individual context to work with, so create an extension to the context name as shown here\n",
    "extension = 'amparo'\n",
    "\n",
    "sqlcontext = f'''CREATE OR REPLACE CONTEXT nyse.nyse_report_ctxt_{extension}\n",
    "(\n",
    "    TABLE = nyse.prices,\n",
    "    COMMENT = 'Stock prices including ask, bid, and sale price and size',\n",
    "    RULES = (\n",
    "        'when I ask about stock prices, use the nyse.prices table',\n",
    "        'when I ask about stock prices today, filter on all results that occurred between now and an interval of 1 day',\n",
    "        'all stock symbols are in lower case',\n",
    "        'when I ask about today I mean that the timestamp should be greater than or equal to now minus an interval of 1 day',\n",
    "        'when I ask about any column, make sure there are no null values or NaN values',\n",
    "        'replace all NaN values with 0 using the IFNAN() function',\n",
    "        'all numeric results should be larger than 0',\n",
    "        'convert all stock symbols to lower case',\n",
    "        'always filter out null values'\n",
    "    ),\n",
    "    COMMENTS = (\n",
    "        'ap' = 'ask price',\n",
    "        'bp' = 'bid price',\n",
    "        'bs' = 'bid size',\n",
    "        'lp' = 'sale price',\n",
    "        'ls' = 'sale size',\n",
    "        's' = 'symbol',\n",
    "        't' = 'timestamp'\n",
    "    )\n",
    "),\n",
    "(\n",
    "    TABLE = nyse.vector_week,\n",
    "    COMMENT = 'Time-series vector embeddings for NYSE stock characteristics spanning 1 week intervals'\n",
    "),\n",
    "(\n",
    "    SAMPLES = (\n",
    "'find similar patterns to tsco for the previous week' = 'SELECT\n",
    "    ts_bkt,\n",
    "    symbol,\n",
    "    l1_distance(ap_vec,(select string(ap_vec) from (select * from nyse.vector_week where ts_bkt = date_trunc(week, now() - interval 1 week) and symbol = ''tsco'' limit 1))) as d1\n",
    "FROM\n",
    "    (select * from nyse.vector_week where ts_bkt = date_trunc(week, now() - interval 1 week)) filtered\n",
    "ORDER BY\n",
    "    d1 asc\n",
    "LIMIT\n",
    "    5;',\n",
    "'Show me a top 5 list of stocks from today whose value increased by at least 12%' = 'SELECT\n",
    "    s,\n",
    "    price_increase_percentage\n",
    "FROM\n",
    "    (\n",
    "        SELECT\n",
    "            s,\n",
    "            LAG(weekly.min_price) OVER (PARTITION BY s ORDER BY ts_bkt) AS previous_sale_price,\n",
    "            (((weekly.max_price - LAG(weekly.min_price) OVER (PARTITION BY s ORDER BY ts_bkt)) / LAG(weekly.min_price) OVER (PARTITION BY s ORDER BY ts_bkt)) * 100) AS price_increase_percentage\n",
    "        FROM \n",
    "            (select\n",
    "                date(date_trunc(week, t)) as ts_bkt,\n",
    "                s,\n",
    "                min(lp) as min_price,\n",
    "                max(lp) as max_price\n",
    "            from\n",
    "                nyse.prices\n",
    "            where\n",
    "                lp is not null\n",
    "                and date(date_trunc(week, t)) >= date(date_trunc(week, now() - interval 7 day))\n",
    "            group by\n",
    "                1,2\n",
    "            order by\n",
    "                s, ts_bkt) weekly) AS PriceChanges\n",
    "WHERE\n",
    "    price_increase_percentage > 12\n",
    "ORDER BY\n",
    "    price_increase_percentage desc\n",
    "LIMIT 5;',\n",
    "'Show me a top 5 list of stocks from today whose value decreased by at least 12%' = 'SELECT\n",
    "    s,\n",
    "    price_decrease_percentage\n",
    "FROM\n",
    "    (\n",
    "        SELECT\n",
    "            s,\n",
    "            LAG(weekly.min_price) OVER (PARTITION BY s ORDER BY ts_bkt) AS previous_sale_price,\n",
    "            (((weekly.max_price - LAG(weekly.min_price) OVER (PARTITION BY s ORDER BY ts_bkt)) / LAG(weekly.min_price) OVER (PARTITION BY s ORDER BY ts_bkt)) * 100) * -1 AS price_decrease_percentage\n",
    "        FROM \n",
    "            (select\n",
    "                date(date_trunc(week, t)) as ts_bkt,\n",
    "                s,\n",
    "                min(lp) as min_price,\n",
    "                max(lp) as max_price\n",
    "            from\n",
    "                nyse.prices\n",
    "            where\n",
    "                lp is not null\n",
    "                and date(date_trunc(week, t)) >= date(date_trunc(week, now() - interval 7 day))\n",
    "            group by\n",
    "                1,2\n",
    "            order by\n",
    "                s, ts_bkt) weekly) AS PriceChanges\n",
    "WHERE\n",
    "    price_decrease_percentage > 12\n",
    "ORDER BY\n",
    "    price_decrease_percentage desc\n",
    "LIMIT 5;'\n",
    "    )\n",
    ")\n",
    "    '''\n",
    "db.execute_sql(sqlcontext)"
   ],
   "metadata": {
    "collapsed": false,
    "ExecuteTime": {
     "end_time": "2024-02-29T15:39:42.995356Z",
     "start_time": "2024-02-29T15:39:42.720422Z"
    }
   },
   "id": "e5ffd650ed4e76de",
   "execution_count": 49
  },
  {
   "cell_type": "code",
   "outputs": [],
   "source": [
    "from langchain_core.prompts import ChatPromptTemplate\n",
    "from langchain_community.chat_models.kinetica import ChatKinetica, KineticaSqlOutputParser, KineticaSqlResponse, KineticaUtil\n",
    "from IPython.display import display, HTML\n",
    "\n",
    "# create the Kinetica connection\n",
    "kdbc = KineticaUtil.create_kdbc(url=\"https://demo72.kinetica.com/_gpudb\", user=\"gtc\", passwd=\"Kinetica123!\")\n",
    "\n",
    "# create the Kinetica LLM\n",
    "kinetica_llm = ChatKinetica(kdbc=kdbc)\n",
    "\n",
    "# Set the context to use\n",
    "kinetica_ctx = f'nyse.nyse_report_ctxt_{extension}'"
   ],
   "metadata": {
    "collapsed": false,
    "ExecuteTime": {
     "end_time": "2024-02-29T21:16:24.402313Z",
     "start_time": "2024-02-29T21:16:24.153377Z"
    }
   },
   "id": "5e899b6f49aefb01",
   "execution_count": 83
  },
  {
   "cell_type": "code",
   "outputs": [
    {
     "name": "stdout",
     "output_type": "stream",
     "text": [
      "================================\u001B[1m System Message \u001B[0m================================\n",
      "\n",
      "CREATE TABLE nyse.prices AS\n",
      "(\n",
      "   t DATETIME NOT NULL COMMENT 'timestamp',\n",
      "   s VARCHAR (8, dict, shard_key) NOT NULL COMMENT 'symbol',\n",
      "   type VARCHAR (4, dict) NOT NULL,\n",
      "   ap REAL  COMMENT 'ask price',\n",
      "   as INTEGER,\n",
      "   bp REAL  COMMENT 'bid price',\n",
      "   bs INTEGER  COMMENT 'bid size',\n",
      "   lp REAL  COMMENT 'sale price',\n",
      "   ls INTEGER  COMMENT 'sale size'\n",
      ");\n",
      "COMMENT ON TABLE nyse.prices IS 'Stock prices including ask, bid, and sale price and size';\n",
      "-- When querying table nyse.prices the following rules apply:\n",
      "-- * when I ask about stock prices, use the nyse.prices table\n",
      "-- * when I ask about stock prices today, filter on all results that occurred between now and an interval of 1 day\n",
      "-- * all stock symbols are in lower case\n",
      "-- * when I ask about today I mean that the timestamp should be greater than or equal to now minus an interval of 1 day\n",
      "-- * when I ask about any column, make sure there are no null values or NaN values\n",
      "-- * replace all NaN values with 0 using the IFNAN() function\n",
      "-- * all numeric results should be larger than 0\n",
      "-- * convert all stock symbols to lower case\n",
      "-- * always filter out null values\n",
      "\n",
      "CREATE TABLE nyse.vector_week AS\n",
      "(\n",
      "   ts_bkt DATETIME,\n",
      "   symbol VARCHAR (8, dict, shard_key),\n",
      "   ap_vec VECTOR(22)\n",
      ");\n",
      "COMMENT ON TABLE nyse.vector_week IS 'Time-series vector embeddings for NYSE stock characteristics spanning 1 week intervals';\n",
      "\n",
      "================================\u001B[1m Human Message \u001B[0m=================================\n",
      "\n",
      "Show me a top 5 list of stocks from today whose value decreased by at least 12%\n",
      "\n",
      "==================================\u001B[1m Ai Message \u001B[0m==================================\n",
      "\n",
      "SELECT\n",
      "    s,\n",
      "    price_decrease_percentage\n",
      "FROM\n",
      "    (\n",
      "        SELECT\n",
      "            s,\n",
      "            LAG(weekly.min_price) OVER (PARTITION BY s ORDER BY ts_bkt) AS previous_sale_price,\n",
      "            (((weekly.max_price - LAG(weekly.min_price) OVER (PARTITION BY s ORDER BY ts_bkt)) / LAG(weekly.min_price) OVER (PARTITION BY s ORDER BY ts_bkt)) * 100) * -1 AS price_decrease_percentage\n",
      "        FROM \n",
      "            (select\n",
      "                date(date_trunc(week, t)) as ts_bkt,\n",
      "                s,\n",
      "                min(lp) as min_price,\n",
      "                max(lp) as max_price\n",
      "            from\n",
      "                nyse.prices\n",
      "            where\n",
      "                lp is not null\n",
      "                and date(date_trunc(week, t)) >= date(date_trunc(week, now() - interval 7 day))\n",
      "            group by\n",
      "                1,2\n",
      "            order by\n",
      "                s, ts_bkt) weekly) AS PriceChanges\n",
      "WHERE\n",
      "    price_decrease_percentage > 12\n",
      "ORDER BY\n",
      "    price_decrease_percentage desc\n",
      "LIMIT 5;\n",
      "\n",
      "================================\u001B[1m Human Message \u001B[0m=================================\n",
      "\n",
      "Show me a top 5 list of stocks from today whose value increased by at least 12%\n",
      "\n",
      "==================================\u001B[1m Ai Message \u001B[0m==================================\n",
      "\n",
      "SELECT\n",
      "    s,\n",
      "    price_increase_percentage\n",
      "FROM\n",
      "    (\n",
      "        SELECT\n",
      "            s,\n",
      "            LAG(weekly.min_price) OVER (PARTITION BY s ORDER BY ts_bkt) AS previous_sale_price,\n",
      "            (((weekly.max_price - LAG(weekly.min_price) OVER (PARTITION BY s ORDER BY ts_bkt)) / LAG(weekly.min_price) OVER (PARTITION BY s ORDER BY ts_bkt)) * 100) AS price_increase_percentage\n",
      "        FROM \n",
      "            (select\n",
      "                date(date_trunc(week, t)) as ts_bkt,\n",
      "                s,\n",
      "                min(lp) as min_price,\n",
      "                max(lp) as max_price\n",
      "            from\n",
      "                nyse.prices\n",
      "            where\n",
      "                lp is not null\n",
      "                and date(date_trunc(week, t)) >= date(date_trunc(week, now() - interval 7 day))\n",
      "            group by\n",
      "                1,2\n",
      "            order by\n",
      "                s, ts_bkt) weekly) AS PriceChanges\n",
      "WHERE\n",
      "    price_increase_percentage > 12\n",
      "ORDER BY\n",
      "    price_increase_percentage desc\n",
      "LIMIT 5;\n",
      "\n",
      "================================\u001B[1m Human Message \u001B[0m=================================\n",
      "\n",
      "find similar patterns to tsco for the previous week\n",
      "\n",
      "==================================\u001B[1m Ai Message \u001B[0m==================================\n",
      "\n",
      "SELECT\n",
      "    ts_bkt,\n",
      "    symbol,\n",
      "    l1_distance(ap_vec,(select string(ap_vec) from (select * from nyse.vector_week where ts_bkt = date_trunc(week, now() - interval 1 week) and symbol = 'tsco' limit 1))) as d1\n",
      "FROM\n",
      "    (select * from nyse.vector_week where ts_bkt = date_trunc(week, now() - interval 1 week)) filtered\n",
      "ORDER BY\n",
      "    d1 asc\n",
      "LIMIT\n",
      "    5;\n",
      "\n",
      "================================\u001B[1m Human Message \u001B[0m=================================\n",
      "\n",
      "\u001B[33;1m\u001B[1;3m{input}\u001B[0m\n"
     ]
    }
   ],
   "source": [
    "# load the context from the database\n",
    "ctx_messages = kinetica_llm.load_messages_from_context(kinetica_ctx)\n",
    "\n",
    "# Add the input prompt. This is where input question will be substituted.\n",
    "ctx_messages.append((\"human\", \"{input}\"))\n",
    "\n",
    "# Create the prompt template.\n",
    "prompt_template = ChatPromptTemplate.from_messages(ctx_messages)\n",
    "prompt_template.pretty_print()\n",
    "\n",
    "# create the chain. \n",
    "# note: The KineticaSqlOutputParser will execute the SQL statement and is optional.\n",
    "chain = prompt_template | kinetica_llm | KineticaSqlOutputParser(kdbc=kdbc)"
   ],
   "metadata": {
    "collapsed": false,
    "ExecuteTime": {
     "end_time": "2024-02-29T21:16:25.128827Z",
     "start_time": "2024-02-29T21:16:25.041512Z"
    }
   },
   "id": "5cb6d08db9fd837",
   "execution_count": 84
  },
  {
   "cell_type": "code",
   "outputs": [
    {
     "data": {
      "text/plain": "<IPython.core.display.HTML object>",
      "text/html": "<table border=\"1\" class=\"dataframe\">\n  <thead>\n    <tr style=\"text-align: right;\">\n      <th>ts_bkt</th>\n      <th>symbol</th>\n      <th>ap_vec</th>\n    </tr>\n  </thead>\n  <tbody>\n    <tr>\n      <td>2023-06-11</td>\n      <td>aaau</td>\n      <td>[0.7810719, -2.1616833, 1.0, 0.0046902806, 19.233261, 1.8405352, -0.9047696, -0.37448904, 0.9782609, 2.0, 541.0, 0.47646618, 0.25454745, 0.8695652, 0.2826087, 0.37138253, 1.2640002, 0.14285715, 1.0096765, 4.0, 0.012704174, 3.0]</td>\n    </tr>\n    <tr>\n      <td>2023-06-11</td>\n      <td>aac</td>\n      <td>[0.0, 0.0, 0.0, 0.0, 0.0, 0.0, 0.0, 0.0, 0.0, 0.0, 0.0, 0.0, 0.0, 0.0, 0.0, 0.0, 0.0, 0.0, 0.0, 0.0, 0.0, 0.0]</td>\n    </tr>\n    <tr>\n      <td>2023-06-11</td>\n      <td>aact+</td>\n      <td>[0.0, 0.0, 0.0, 0.0, 0.36, 0.0, 0.0, 0.0, 0.0, 0.0, 0.0, 0.0, 0.0, 0.0, 0.0, 0.0, 0.0, 0.0, 0.0, 0.0, 0.0, 0.0]</td>\n    </tr>\n    <tr>\n      <td>2023-06-11</td>\n      <td>aaic</td>\n      <td>[0.7803834, -0.06278763, 3.0, 0.09323388, 4.504397, 0.27388838, -0.21686646, -0.39029485, 0.021276595, 3.0, 4.0, 1.705458, 0.06915564, 0.84615386, 0.15384616, 0.2830397, 1.1290098, 0.33333334, 1.1495441, 3.0, 0.19285715, 5.0]</td>\n    </tr>\n    <tr>\n      <td>2023-06-11</td>\n      <td>aal</td>\n      <td>[1.292521, -37.717945, 13.0, 0.0, 16.48949, 0.2140612, -7.2385406, -3.3611448, -0.68335664, 2.0, 4466.0, 1.1082165, 0.008230452, 0.66, 0.88, 0.4002872, 0.8107088, 0.0007698229, 0.84080994, 12.0, 0.0131774, 0.0]</td>\n    </tr>\n  </tbody>\n</table>"
     },
     "metadata": {},
     "output_type": "display_data"
    }
   ],
   "source": [
    "response: KineticaSqlResponse = chain.invoke({\"input\": '''show me a sample of the vector data'''})\n",
    "display(HTML(response.dataframe.to_html(index=False)))"
   ],
   "metadata": {
    "collapsed": false,
    "ExecuteTime": {
     "end_time": "2024-02-29T21:16:34.483028Z",
     "start_time": "2024-02-29T21:16:31.726243Z"
    }
   },
   "id": "711c517a9dcf30b7",
   "execution_count": 85
  },
  {
   "cell_type": "code",
   "outputs": [
    {
     "data": {
      "text/plain": "<Axes: xlabel='t'>"
     },
     "execution_count": 53,
     "metadata": {},
     "output_type": "execute_result"
    },
    {
     "data": {
      "text/plain": "<Figure size 640x480 with 1 Axes>",
      "image/png": "[encoded data removed]"
     },
     "metadata": {},
     "output_type": "display_data"
    }
   ],
   "source": [
    "response: KineticaSqlResponse = chain.invoke({\"input\": '''show me all sale prices for tsco for the last week where the sale price is recorded'''})\n",
    "response.dataframe.plot.line(x='t', y='lp')"
   ],
   "metadata": {
    "collapsed": false,
    "ExecuteTime": {
     "end_time": "2024-02-29T15:39:56.620909Z",
     "start_time": "2024-02-29T15:39:52.328894Z"
    }
   },
   "id": "1b995d155838195c",
   "execution_count": 53
  },
  {
   "cell_type": "code",
   "outputs": [
    {
     "name": "stderr",
     "output_type": "stream",
     "text": [
      "INFO:SqlAssistLLM:Connected to http://172.31.33.30:9191. (version 7.2.0.1)\n"
     ]
    }
   ],
   "source": [
    "import importlib\n",
    "import kinetica.kineai_summarize\n",
    "\n",
    "importlib.reload(kinetica.kineai_summarize)\n",
    "kineticallm = kinetica.kineai_summarize.KineticaLLM(f'nyse.nyse_report_ctxt_{extension}')"
   ],
   "metadata": {
    "collapsed": false,
    "ExecuteTime": {
     "end_time": "2024-02-29T21:16:41.830408Z",
     "start_time": "2024-02-29T21:16:41.572476Z"
    }
   },
   "id": "f551771cc27d5e84",
   "execution_count": 86
  },
  {
   "cell_type": "code",
   "outputs": [],
   "source": [
    "system = \"\"\" KineticAI is a cheerful AI assistant for engaging in a conversation between an LLM using the Nemo framework and the Kinetica LLM.  The Kinetica\n",
    "LLM is designed to translate natural language questions into SQL queries. \n",
    "\n",
    "The SqlAssist AI will respond with an answer to the question in JSON format from SqlAssist.\n",
    "\n",
    "Your job is to summarize multiple result sets in JSON form into a report suitable for a financial executive\n",
    "\"\"\"\n",
    "#firt 4 pair hwo to call Kinetika (this )\n",
    "# Ilustrate this better where you have a bigger paragraph\n",
    "# Have the content asnwer. \n",
    "context0 = [dict(role=\"system\", content=system),\n",
    "            dict(role=\"user\", content='KineticaLLM |  [{\"s\": \"tgl\", \"price_increase_percentage\": 6817.68798828125}, {\"s\": \"lyt\", \"price_increase_percentage\": 6435.08740234375}, {\"s\": \"phun\", \"price_increase_percentage\": 5944.6015625}, {\"s\": \"auud\", \"price_increase_percentage\": 2182.05126953125}, {\"s\": \"atnf\", \"price_increase_percentage\": 1742.1053466796875}]'),\n",
    "            dict(role=\"assistant\", content='it appears that tgl went up 6817%, lyt went up by 6435%, phun went up by 5944%, auud went up by 2182%, and atnf went up by 1742%')]"
   ],
   "metadata": {
    "collapsed": false,
    "ExecuteTime": {
     "end_time": "2024-02-29T21:16:45.455824Z",
     "start_time": "2024-02-29T21:16:45.451866Z"
    }
   },
   "id": "d93d66fd94363d30",
   "execution_count": 87
  },
  {
   "cell_type": "code",
   "outputs": [
    {
     "name": "stderr",
     "output_type": "stream",
     "text": [
      "INFO:SqlAssistLLM:Query: show me the top 5 stocks that have increased in value by 12% or more in the last week with percentage increases\n",
      "INFO:SqlAssistLLM:SQL: SELECT\n",
      "    s,\n",
      "    price_increase_percentage\n",
      "FROM\n",
      "    (\n",
      "        SELECT\n",
      "            s,\n",
      "            LAG(weekly.min_price) OVER (PARTITION BY s ORDER BY ts_bkt) AS previous_sale_price,\n",
      "            (((weekly.max_price - LAG(weekly.min_price) OVER (PARTITION BY s ORDER BY ts_bkt)) / LAG(weekly.min_price) OVER (PARTITION BY s ORDER BY ts_bkt)) * 100) AS price_increase_percentage\n",
      "        FROM \n",
      "            (select\n",
      "                date(date_trunc(week, t)) as ts_bkt,\n",
      "                s,\n",
      "                min(lp) as min_price,\n",
      "                max(lp) as max_price\n",
      "            from\n",
      "                nyse.prices\n",
      "            where\n",
      "                lp is not null\n",
      "                and date(date_trunc(week, t)) >= date(date_trunc(week, now() - interval 7 day))\n",
      "            group by\n",
      "                1,2\n",
      "            order by\n",
      "                s, ts_bkt) weekly) AS PriceChanges\n",
      "WHERE\n",
      "    price_increase_percentage >= 12\n",
      "ORDER BY\n",
      "    price_increase_percentage desc\n",
      "LIMIT 5;\n"
     ]
    },
    {
     "data": {
      "text/plain": "<IPython.core.display.HTML object>",
      "text/html": "<table border=\"1\" class=\"dataframe\">\n  <thead>\n    <tr style=\"text-align: right;\">\n      <th>s</th>\n      <th>price_increase_percentage</th>\n    </tr>\n  </thead>\n  <tbody>\n    <tr>\n      <td>tgl</td>\n      <td>6817.687988</td>\n    </tr>\n    <tr>\n      <td>lyt</td>\n      <td>6435.087402</td>\n    </tr>\n    <tr>\n      <td>phun</td>\n      <td>5944.601562</td>\n    </tr>\n    <tr>\n      <td>auud</td>\n      <td>2470.512939</td>\n    </tr>\n    <tr>\n      <td>atnf</td>\n      <td>1784.210449</td>\n    </tr>\n  </tbody>\n</table>"
     },
     "metadata": {},
     "output_type": "display_data"
    }
   ],
   "source": [
    "question = 'show me the top 5 stocks that have increased in value by 12% or more in the last week with percentage increases'\n",
    "out_ctxt = kineticallm.chat(context0, question)\n",
    "display(out_ctxt)\n"
   ],
   "metadata": {
    "collapsed": false,
    "ExecuteTime": {
     "end_time": "2024-02-29T21:16:59.777614Z",
     "start_time": "2024-02-29T21:16:47.027222Z"
    }
   },
   "id": "5e6f60a696c2c400",
   "execution_count": 88
  },
  {
   "cell_type": "code",
   "outputs": [
    {
     "name": "stderr",
     "output_type": "stream",
     "text": [
      "INFO:SqlAssistLLM:Query: show me the top 5 stocks that have decreased in value by 12% or more in the last week with percentage decreases\n",
      "INFO:SqlAssistLLM:SQL: SELECT\n",
      "    s,\n",
      "    price_decrease_percentage\n",
      "FROM\n",
      "    (\n",
      "        SELECT\n",
      "            s,\n",
      "            LAG(weekly.min_price) OVER (PARTITION BY s ORDER BY ts_bkt) AS previous_sale_price,\n",
      "            (((weekly.max_price - LAG(weekly.min_price) OVER (PARTITION BY s ORDER BY ts_bkt)) / LAG(weekly.min_price) OVER (PARTITION BY s ORDER BY ts_bkt)) * 100) * -1 AS price_decrease_percentage\n",
      "        FROM \n",
      "            (select\n",
      "                date(date_trunc(week, t)) as ts_bkt,\n",
      "                s,\n",
      "                min(lp) as min_price,\n",
      "                max(lp) as max_price\n",
      "            from\n",
      "                nyse.prices\n",
      "            where\n",
      "                lp is not null\n",
      "                and date(date_trunc(week, t)) >= date(date_trunc(week, now() - interval 7 day))\n",
      "            group by\n",
      "                1,2\n",
      "            order by\n",
      "                s, ts_bkt) weekly) AS PriceChanges\n",
      "WHERE\n",
      "    price_decrease_percentage > 12\n",
      "ORDER BY\n",
      "    price_decrease_percentage desc\n",
      "LIMIT 5;\n"
     ]
    },
    {
     "data": {
      "text/plain": "<IPython.core.display.HTML object>",
      "text/html": "<table border=\"1\" class=\"dataframe\">\n  <thead>\n    <tr style=\"text-align: right;\">\n      <th>s</th>\n      <th>price_decrease_percentage</th>\n    </tr>\n  </thead>\n  <tbody>\n    <tr>\n      <td>wmt</td>\n      <td>65.371597</td>\n    </tr>\n    <tr>\n      <td>acon</td>\n      <td>51.741184</td>\n    </tr>\n    <tr>\n      <td>htoow</td>\n      <td>42.857136</td>\n    </tr>\n    <tr>\n      <td>ccm</td>\n      <td>33.310383</td>\n    </tr>\n    <tr>\n      <td>pftaw</td>\n      <td>27.777779</td>\n    </tr>\n  </tbody>\n</table>"
     },
     "metadata": {},
     "output_type": "display_data"
    }
   ],
   "source": [
    "question = 'show me the top 5 stocks that have decreased in value by 12% or more in the last week with percentage decreases'\n",
    "out_ctxt = kineticallm.chat(context0, question)\n",
    "display(out_ctxt)"
   ],
   "metadata": {
    "collapsed": false,
    "ExecuteTime": {
     "end_time": "2024-02-29T16:23:47.476036Z",
     "start_time": "2024-02-29T16:23:34.344566Z"
    }
   },
   "id": "c1e4f4849a938b3d",
   "execution_count": 76
  },
  {
   "cell_type": "code",
   "outputs": [
    {
     "name": "stderr",
     "output_type": "stream",
     "text": [
      "INFO:SqlAssistLLM:Query: show me the top 5 stocks that have increased in value by 12% or more in the last week with percentage increases\n",
      "INFO:SqlAssistLLM:SQL: SELECT\n",
      "    s,\n",
      "    price_increase_percentage\n",
      "FROM\n",
      "    (\n",
      "        SELECT\n",
      "            s,\n",
      "            LAG(weekly.min_price) OVER (PARTITION BY s ORDER BY ts_bkt) AS previous_sale_price,\n",
      "            (((weekly.max_price - LAG(weekly.min_price) OVER (PARTITION BY s ORDER BY ts_bkt)) / LAG(weekly.min_price) OVER (PARTITION BY s ORDER BY ts_bkt)) * 100) AS price_increase_percentage\n",
      "        FROM \n",
      "            (select\n",
      "                date(date_trunc(week, t)) as ts_bkt,\n",
      "                s,\n",
      "                min(lp) as min_price,\n",
      "                max(lp) as max_price\n",
      "            from\n",
      "                nyse.prices\n",
      "            where\n",
      "                lp is not null\n",
      "                and date(date_trunc(week, t)) >= date(date_trunc(week, now() - interval 7 day))\n",
      "            group by\n",
      "                1,2\n",
      "            order by\n",
      "                s, ts_bkt) weekly) AS PriceChanges\n",
      "WHERE\n",
      "    price_increase_percentage >= 12\n",
      "ORDER BY\n",
      "    price_increase_percentage desc\n",
      "LIMIT 5;\n",
      "INFO:SqlAssistLLM:Query: show me the top 5 stocks that have decreased in value by 12% or more in the last week with percentage decreases\n",
      "INFO:SqlAssistLLM:SQL: SELECT\n",
      "    s,\n",
      "    price_decrease_percentage\n",
      "FROM\n",
      "    (\n",
      "        SELECT\n",
      "            s,\n",
      "            LAG(weekly.min_price) OVER (PARTITION BY s ORDER BY ts_bkt) AS previous_sale_price,\n",
      "            (((weekly.max_price - LAG(weekly.min_price) OVER (PARTITION BY s ORDER BY ts_bkt)) / LAG(weekly.min_price) OVER (PARTITION BY s ORDER BY ts_bkt)) * 100) * -1 AS price_decrease_percentage\n",
      "        FROM \n",
      "            (select\n",
      "                date(date_trunc(week, t)) as ts_bkt,\n",
      "                s,\n",
      "                min(lp) as min_price,\n",
      "                max(lp) as max_price\n",
      "            from\n",
      "                nyse.prices\n",
      "            where\n",
      "                lp is not null\n",
      "                and date(date_trunc(week, t)) >= date(date_trunc(week, now() - interval 7 day))\n",
      "            group by\n",
      "                1,2\n",
      "            order by\n",
      "                s, ts_bkt) weekly) AS PriceChanges\n",
      "WHERE\n",
      "    price_decrease_percentage > 12\n",
      "ORDER BY\n",
      "    price_decrease_percentage desc\n",
      "LIMIT 5;\n",
      "INFO:NemoSummaryLLM:user: can you please summarize the following JSON:\n",
      "\n",
      "TOP 5 Gains\n",
      "\n",
      "[{\"s\": \"tgl\", \"price_increase_percentage\": 6817.68798828125}, {\"s\": \"lyt\", \"price_increase_percentage\": 6435.08740234375}, {\"s\": \"phun\", \"price_increase_percentage\": 5944.6015625}, {\"s\": \"auud\", \"price_increase_percentage\": 2470.512939453125}, {\"s\": \"atnf\", \"price_increase_percentage\": 1784.21044921875}]\n",
      "\n",
      "TOP 5 Losses\n",
      "\n",
      "[{\"s\": \"wmt\", \"price_decrease_percentage\": 65.37159729003906}, {\"s\": \"acon\", \"price_decrease_percentage\": 51.74118423461914}, {\"s\": \"ccm\", \"price_decrease_percentage\": 33.31038284301758}, {\"s\": \"pftaw\", \"price_decrease_percentage\": 27.77777862548828}, {\"s\": \"abllw\", \"price_decrease_percentage\": 26.684280395507812}] (tokens: 723/3373)\n",
      "INFO:NemoSummaryLLM:assistant: The following is a summary of the JSON provided:\n",
      "\n",
      "TOP 5 Gains:\n",
      "\n",
      "- tgl: price_increase_percentage of 6817.68798828125\n",
      "- lyt: price_increase_percentage of 6435.08740234375\n",
      "- phun: price_increase_percentage of 5944.6015625\n",
      "- auud: price_increase_percentage of 2470.512939453125\n",
      "- atnf: price_increase_percentage of 1784.21044921875\n",
      "\n",
      "TOP 5 Losses:\n",
      "\n",
      "- wmt: price_decrease_percentage of 65.37159729003906\n",
      "- acon: price_decrease_percentage of 51.74118423461914\n",
      "- ccm: price_decrease_percentage of 33.31038284301758\n",
      "- pftaw: price_decrease_percentage of 27.77777862548828\n",
      "- abllw: price_decrease_percentage of 26.684280395507812\n",
      "\n",
      "Please note that the summary is based on the provided JSON and may not be accurate or complete.\n"
     ]
    },
    {
     "name": "stdout",
     "output_type": "stream",
     "text": [
      "The following is a summary of the JSON provided:\n",
      "\n",
      "TOP 5 Gains:\n",
      "\n",
      "- tgl: price_increase_percentage of 6817.68798828125\n",
      "- lyt: price_increase_percentage of 6435.08740234375\n",
      "- phun: price_increase_percentage of 5944.6015625\n",
      "- auud: price_increase_percentage of 2470.512939453125\n",
      "- atnf: price_increase_percentage of 1784.21044921875\n",
      "\n",
      "TOP 5 Losses:\n",
      "\n",
      "- wmt: price_decrease_percentage of 65.37159729003906\n",
      "- acon: price_decrease_percentage of 51.74118423461914\n",
      "- ccm: price_decrease_percentage of 33.31038284301758\n",
      "- pftaw: price_decrease_percentage of 27.77777862548828\n",
      "- abllw: price_decrease_percentage of 26.684280395507812\n",
      "\n",
      "Please note that the summary is based on the provided JSON and may not be accurate or complete.\n"
     ]
    }
   ],
   "source": [
    "percentage_change = 12\n",
    "out_ctxt = kineticallm.report(context0, percentage_change)\n",
    "print(out_ctxt)"
   ],
   "metadata": {
    "collapsed": false,
    "ExecuteTime": {
     "end_time": "2024-02-29T21:13:06.684346Z",
     "start_time": "2024-02-29T21:12:29.208213Z"
    }
   },
   "id": "d69e5b1dcd5af3b3",
   "execution_count": 82
  },
  {
   "cell_type": "code",
   "outputs": [],
   "source": [],
   "metadata": {
    "collapsed": false
   },
   "id": "44dae42b728ca94c"
  }
 ],
 "metadata": {
  "kernelspec": {
   "display_name": "Python 3",
   "language": "python",
   "name": "python3"
  },
  "language_info": {
   "codemirror_mode": {
    "name": "ipython",
    "version": 2
   },
   "file_extension": ".py",
   "mimetype": "text/x-python",
   "name": "python",
   "nbconvert_exporter": "python",
   "pygments_lexer": "ipython2",
   "version": "2.7.6"
  }
 },
 "nbformat": 4,
 "nbformat_minor": 5
}
