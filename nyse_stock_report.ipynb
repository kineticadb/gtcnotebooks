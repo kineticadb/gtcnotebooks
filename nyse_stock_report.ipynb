{
 "cells": [
  {
   "cell_type": "code",
   "execution_count": null,
   "id": "initial_id",
   "metadata": {
    "collapsed": true
   },
   "outputs": [],
   "source": [
    "%pip install --upgrade gpudb==7.2.0.1 pandas pyarrow typeguard langchain langchain_openai nemollm colorlog langchain-community"
   ]
  },
  {
   "cell_type": "code",
   "outputs": [
    {
     "data": {
      "text/plain": "{'count_affected': 1,\n 'response_schema_str': '{\"name\":\"generic_response\",\"type\":\"record\",\"fields\":[{\"name\":\"column_1\",\"type\":{\"type\":\"array\",\"items\":\"string\"}},{\"name\":\"column_headers\",\"type\":{\"type\":\"array\",\"items\":\"string\"}},{\"name\":\"column_datatypes\",\"type\":{\"type\":\"array\",\"items\":\"string\"}}]}',\n 'binary_encoded_response': b'\\x00\\x02\\ndummy\\x00\\x02\\x0cstring\\x00',\n 'json_encoded_response': '',\n 'total_number_of_records': -1,\n 'has_more_records': False,\n 'paging_table': '',\n 'info': {'X-Kinetica-Group': 'DDL',\n  'count': '0',\n  'last_endpoint': '/create/context/internal',\n  'total_number_of_records': '0'},\n 'status_info': {'status': 'OK',\n  'message': '',\n  'data_type': 'execute_sql_response',\n  'response_time': 0.02242},\n 'record_type': kinetica.protocol.RecordType('', [('dummy', 'string')])}"
     },
     "execution_count": 1,
     "metadata": {},
     "output_type": "execute_result"
    }
   ],
   "source": [
    "import gpudb\n",
    "\n",
    "db = gpudb.GPUdb(host='https://demo72.kinetica.com/_gpudb',\n",
    "                     username='gtc',\n",
    "                     password='Kinetica123!')\n",
    "\n",
    "# We want to have our own individual context to work with, so create an extension to the context name as shown here\n",
    "extension = 'aaron'\n",
    "\n",
    "sqlcontext = f'''CREATE OR REPLACE CONTEXT nyse.nyse_report_ctxt_{extension}\n",
    "(\n",
    "    TABLE = nyse.prices,\n",
    "    COMMENT = 'Stock prices including ask, bid, and sale price and size',\n",
    "    RULES = (\n",
    "        'when I ask about stock prices, use the nyse.prices table',\n",
    "        'when I ask about stock prices today, filter on all results that occurred between now and an interval of 1 day',\n",
    "        'all stock symbols are in lower case',\n",
    "        'when I ask about today I mean that the timestamp should be greater than or equal to now minus an interval of 1 day',\n",
    "        'when I ask about any column, make sure there are no null values or NaN values',\n",
    "        'replace all NaN values with 0 using the IFNAN() function',\n",
    "        'all numeric results should be larger than 0',\n",
    "        'convert all stock symbols to lower case',\n",
    "        'always filter out null values'\n",
    "    ),\n",
    "    COMMENTS = (\n",
    "        'ap' = 'ask price',\n",
    "        'bp' = 'bid price',\n",
    "        'bs' = 'bid size',\n",
    "        'lp' = 'sale price',\n",
    "        'ls' = 'sale size',\n",
    "        's' = 'symbol',\n",
    "        't' = 'timestamp'\n",
    "    )\n",
    "),\n",
    "(\n",
    "    TABLE = nyse.vector_week,\n",
    "    COMMENT = 'Time-series vector embeddings for NYSE stock characteristics spanning 1 week intervals'\n",
    "),\n",
    "(\n",
    "    SAMPLES = (\n",
    "'find similar patterns to tsco for the previous week' = 'SELECT\n",
    "    ts_bkt,\n",
    "    symbol,\n",
    "    l1_distance(ap_vec,(select string(ap_vec) from (select * from nyse.vector_week where ts_bkt = date_trunc(week, now() - interval 1 week) and symbol = ''tsco'' limit 1))) as d1\n",
    "FROM\n",
    "    (select * from nyse.vector_week where ts_bkt = date_trunc(week, now() - interval 1 week)) filtered\n",
    "ORDER BY\n",
    "    d1 asc\n",
    "LIMIT\n",
    "    5;',\n",
    "'Show me a top 5 list of stocks from today whose value increased by at least 12%' = 'SELECT\n",
    "    s,\n",
    "    price_increase_percentage\n",
    "FROM\n",
    "    (\n",
    "        SELECT\n",
    "            s,\n",
    "            LAG(weekly.min_price) OVER (PARTITION BY s ORDER BY ts_bkt) AS previous_sale_price,\n",
    "            (((weekly.max_price - LAG(weekly.min_price) OVER (PARTITION BY s ORDER BY ts_bkt)) / LAG(weekly.min_price) OVER (PARTITION BY s ORDER BY ts_bkt)) * 100) AS price_increase_percentage\n",
    "        FROM \n",
    "            (select\n",
    "                date(date_trunc(week, t)) as ts_bkt,\n",
    "                s,\n",
    "                min(lp) as min_price,\n",
    "                max(lp) as max_price\n",
    "            from\n",
    "                nyse.prices\n",
    "            where\n",
    "                lp is not null\n",
    "                and date(date_trunc(week, t)) >= date(date_trunc(week, now() - interval 7 day))\n",
    "            group by\n",
    "                1,2\n",
    "            order by\n",
    "                s, ts_bkt) weekly) AS PriceChanges\n",
    "WHERE\n",
    "    price_increase_percentage > 12\n",
    "ORDER BY\n",
    "    price_increase_percentage desc\n",
    "LIMIT 5;',\n",
    "'Show me a top 5 list of stocks from today whose value decreased by at least 12%' = 'SELECT\n",
    "    s,\n",
    "    price_decrease_percentage\n",
    "FROM\n",
    "    (\n",
    "        SELECT\n",
    "            s,\n",
    "            LAG(weekly.min_price) OVER (PARTITION BY s ORDER BY ts_bkt) AS previous_sale_price,\n",
    "            (((weekly.max_price - LAG(weekly.min_price) OVER (PARTITION BY s ORDER BY ts_bkt)) / LAG(weekly.min_price) OVER (PARTITION BY s ORDER BY ts_bkt)) * 100) * -1 AS price_decrease_percentage\n",
    "        FROM \n",
    "            (select\n",
    "                date(date_trunc(week, t)) as ts_bkt,\n",
    "                s,\n",
    "                min(lp) as min_price,\n",
    "                max(lp) as max_price\n",
    "            from\n",
    "                nyse.prices\n",
    "            where\n",
    "                lp is not null\n",
    "                and date(date_trunc(week, t)) >= date(date_trunc(week, now() - interval 7 day))\n",
    "            group by\n",
    "                1,2\n",
    "            order by\n",
    "                s, ts_bkt) weekly) AS PriceChanges\n",
    "WHERE\n",
    "    price_decrease_percentage > 12\n",
    "ORDER BY\n",
    "    price_decrease_percentage desc\n",
    "LIMIT 5;'\n",
    "    )\n",
    ")\n",
    "    '''\n",
    "db.execute_sql(sqlcontext)"
   ],
   "metadata": {
    "collapsed": false,
    "ExecuteTime": {
     "end_time": "2024-03-04T18:33:57.788794Z",
     "start_time": "2024-03-04T18:33:57.445617Z"
    }
   },
   "id": "e5ffd650ed4e76de",
   "execution_count": 1
  },
  {
   "cell_type": "code",
   "outputs": [],
   "source": [
    "from langchain_core.prompts import ChatPromptTemplate\n",
    "from langchain_community.chat_models.kinetica import ChatKinetica, KineticaSqlOutputParser, KineticaSqlResponse, KineticaUtil\n",
    "from IPython.display import display, HTML\n",
    "\n",
    "# create the Kinetica connection\n",
    "kdbc = KineticaUtil.create_kdbc(url=\"https://demo72.kinetica.com/_gpudb\", user=\"gtc\", passwd=\"Kinetica123!\")\n",
    "\n",
    "# create the Kinetica LLM\n",
    "kinetica_llm = ChatKinetica(kdbc=kdbc)\n",
    "\n",
    "# Set the context to use\n",
    "kinetica_ctx = f'nyse.nyse_report_ctxt_{extension}'"
   ],
   "metadata": {
    "collapsed": false,
    "ExecuteTime": {
     "end_time": "2024-03-04T18:34:01.897334Z",
     "start_time": "2024-03-04T18:34:00.323299Z"
    }
   },
   "id": "5e899b6f49aefb01",
   "execution_count": 2
  },
  {
   "cell_type": "code",
   "outputs": [
    {
     "name": "stdout",
     "output_type": "stream",
     "text": [
      "================================\u001B[1m System Message \u001B[0m================================\n",
      "\n",
      "CREATE TABLE nyse.prices AS\n",
      "(\n",
      "   t DATETIME NOT NULL COMMENT 'timestamp',\n",
      "   s VARCHAR (8, dict, shard_key) NOT NULL COMMENT 'symbol',\n",
      "   type VARCHAR (4, dict) NOT NULL,\n",
      "   ap REAL  COMMENT 'ask price',\n",
      "   as INTEGER,\n",
      "   bp REAL  COMMENT 'bid price',\n",
      "   bs INTEGER  COMMENT 'bid size',\n",
      "   lp REAL  COMMENT 'sale price',\n",
      "   ls INTEGER  COMMENT 'sale size'\n",
      ");\n",
      "COMMENT ON TABLE nyse.prices IS 'Stock prices including ask, bid, and sale price and size';\n",
      "-- When querying table nyse.prices the following rules apply:\n",
      "-- * when I ask about stock prices, use the nyse.prices table\n",
      "-- * when I ask about stock prices today, filter on all results that occurred between now and an interval of 1 day\n",
      "-- * all stock symbols are in lower case\n",
      "-- * when I ask about today I mean that the timestamp should be greater than or equal to now minus an interval of 1 day\n",
      "-- * when I ask about any column, make sure there are no null values or NaN values\n",
      "-- * replace all NaN values with 0 using the IFNAN() function\n",
      "-- * all numeric results should be larger than 0\n",
      "-- * convert all stock symbols to lower case\n",
      "-- * always filter out null values\n",
      "\n",
      "CREATE TABLE nyse.vector_week AS\n",
      "(\n",
      "   ts_bkt DATETIME,\n",
      "   symbol VARCHAR (8, dict, shard_key),\n",
      "   ap_vec VECTOR(22)\n",
      ");\n",
      "COMMENT ON TABLE nyse.vector_week IS 'Time-series vector embeddings for NYSE stock characteristics spanning 1 week intervals';\n",
      "\n",
      "================================\u001B[1m Human Message \u001B[0m=================================\n",
      "\n",
      "Show me a top 5 list of stocks from today whose value decreased by at least 12%\n",
      "\n",
      "==================================\u001B[1m Ai Message \u001B[0m==================================\n",
      "\n",
      "SELECT\n",
      "    s,\n",
      "    price_decrease_percentage\n",
      "FROM\n",
      "    (\n",
      "        SELECT\n",
      "            s,\n",
      "            LAG(weekly.min_price) OVER (PARTITION BY s ORDER BY ts_bkt) AS previous_sale_price,\n",
      "            (((weekly.max_price - LAG(weekly.min_price) OVER (PARTITION BY s ORDER BY ts_bkt)) / LAG(weekly.min_price) OVER (PARTITION BY s ORDER BY ts_bkt)) * 100) * -1 AS price_decrease_percentage\n",
      "        FROM \n",
      "            (select\n",
      "                date(date_trunc(week, t)) as ts_bkt,\n",
      "                s,\n",
      "                min(lp) as min_price,\n",
      "                max(lp) as max_price\n",
      "            from\n",
      "                nyse.prices\n",
      "            where\n",
      "                lp is not null\n",
      "                and date(date_trunc(week, t)) >= date(date_trunc(week, now() - interval 7 day))\n",
      "            group by\n",
      "                1,2\n",
      "            order by\n",
      "                s, ts_bkt) weekly) AS PriceChanges\n",
      "WHERE\n",
      "    price_decrease_percentage > 12\n",
      "ORDER BY\n",
      "    price_decrease_percentage desc\n",
      "LIMIT 5;\n",
      "\n",
      "================================\u001B[1m Human Message \u001B[0m=================================\n",
      "\n",
      "Show me a top 5 list of stocks from today whose value increased by at least 12%\n",
      "\n",
      "==================================\u001B[1m Ai Message \u001B[0m==================================\n",
      "\n",
      "SELECT\n",
      "    s,\n",
      "    price_increase_percentage\n",
      "FROM\n",
      "    (\n",
      "        SELECT\n",
      "            s,\n",
      "            LAG(weekly.min_price) OVER (PARTITION BY s ORDER BY ts_bkt) AS previous_sale_price,\n",
      "            (((weekly.max_price - LAG(weekly.min_price) OVER (PARTITION BY s ORDER BY ts_bkt)) / LAG(weekly.min_price) OVER (PARTITION BY s ORDER BY ts_bkt)) * 100) AS price_increase_percentage\n",
      "        FROM \n",
      "            (select\n",
      "                date(date_trunc(week, t)) as ts_bkt,\n",
      "                s,\n",
      "                min(lp) as min_price,\n",
      "                max(lp) as max_price\n",
      "            from\n",
      "                nyse.prices\n",
      "            where\n",
      "                lp is not null\n",
      "                and date(date_trunc(week, t)) >= date(date_trunc(week, now() - interval 7 day))\n",
      "            group by\n",
      "                1,2\n",
      "            order by\n",
      "                s, ts_bkt) weekly) AS PriceChanges\n",
      "WHERE\n",
      "    price_increase_percentage > 12\n",
      "ORDER BY\n",
      "    price_increase_percentage desc\n",
      "LIMIT 5;\n",
      "\n",
      "================================\u001B[1m Human Message \u001B[0m=================================\n",
      "\n",
      "find similar patterns to tsco for the previous week\n",
      "\n",
      "==================================\u001B[1m Ai Message \u001B[0m==================================\n",
      "\n",
      "SELECT\n",
      "    ts_bkt,\n",
      "    symbol,\n",
      "    l1_distance(ap_vec,(select string(ap_vec) from (select * from nyse.vector_week where ts_bkt = date_trunc(week, now() - interval 1 week) and symbol = 'tsco' limit 1))) as d1\n",
      "FROM\n",
      "    (select * from nyse.vector_week where ts_bkt = date_trunc(week, now() - interval 1 week)) filtered\n",
      "ORDER BY\n",
      "    d1 asc\n",
      "LIMIT\n",
      "    5;\n",
      "\n",
      "================================\u001B[1m Human Message \u001B[0m=================================\n",
      "\n",
      "\u001B[33;1m\u001B[1;3m{input}\u001B[0m\n"
     ]
    }
   ],
   "source": [
    "# load the context from the database\n",
    "ctx_messages = kinetica_llm.load_messages_from_context(kinetica_ctx)\n",
    "\n",
    "# Add the input prompt. This is where input question will be substituted.\n",
    "ctx_messages.append((\"human\", \"{input}\"))\n",
    "\n",
    "# Create the prompt template.\n",
    "prompt_template = ChatPromptTemplate.from_messages(ctx_messages)\n",
    "prompt_template.pretty_print()\n",
    "\n",
    "# create the chain. \n",
    "# note: The KineticaSqlOutputParser will execute the SQL statement and is optional.\n",
    "chain = prompt_template | kinetica_llm | KineticaSqlOutputParser(kdbc=kdbc)"
   ],
   "metadata": {
    "collapsed": false,
    "ExecuteTime": {
     "end_time": "2024-03-04T18:34:06.275630Z",
     "start_time": "2024-03-04T18:34:06.197259Z"
    }
   },
   "id": "5cb6d08db9fd837",
   "execution_count": 3
  },
  {
   "cell_type": "code",
   "outputs": [
    {
     "data": {
      "text/plain": "<IPython.core.display.HTML object>",
      "text/html": "<table border=\"1\" class=\"dataframe\">\n  <thead>\n    <tr style=\"text-align: right;\">\n      <th>ts_bkt</th>\n      <th>symbol</th>\n      <th>ap_vec</th>\n    </tr>\n  </thead>\n  <tbody>\n    <tr>\n      <td>2023-06-11</td>\n      <td>a</td>\n      <td>[33.410133, 0.02206052, 1.0, 0.37085402, 124.21324, 5.111166, -0.11861205, -0.3599464, -0.124307394, 3.0, 57.0, 1.5692475, 0.0625, 0.14285715, 0.24489796, 0.7983316, 0.05522331, 0.0011261262, 0.62419564, 2.0, 0.10048193, 17.0]</td>\n    </tr>\n    <tr>\n      <td>2023-06-11</td>\n      <td>aaau</td>\n      <td>[0.7810719, -2.1616833, 1.0, 0.0046902806, 19.233261, 1.8405352, -0.9047696, -0.37448904, 0.9782609, 2.0, 541.0, 0.47646618, 0.25454745, 0.8695652, 0.2826087, 0.37138253, 1.2640002, 0.14285715, 1.0096765, 4.0, 0.012704174, 3.0]</td>\n    </tr>\n    <tr>\n      <td>2023-06-11</td>\n      <td>aac</td>\n      <td>[0.0, 0.0, 0.0, 0.0, 0.0, 0.0, 0.0, 0.0, 0.0, 0.0, 0.0, 0.0, 0.0, 0.0, 0.0, 0.0, 0.0, 0.0, 0.0, 0.0, 0.0, 0.0]</td>\n    </tr>\n    <tr>\n      <td>2023-06-11</td>\n      <td>aaci</td>\n      <td>[0.356142, -0.015358071, 1.0, 0.16105165, 5.1857295, 5.1913137, 0.0017857782, 0.0017857782, 0.0042918455, 3.0, 3.0, 1.7161372, 0.03844606, 0.82608694, 0.5, 0.00365985, 3.1415927, 1.0, 1.2915943, 1.0, 0.88817203, 3.0]</td>\n    </tr>\n    <tr>\n      <td>2023-06-11</td>\n      <td>aact+</td>\n      <td>[0.0, 0.0, 0.0, 0.0, 0.36, 0.0, 0.0, 0.0, 0.0, 0.0, 0.0, 0.0, 0.0, 0.0, 0.0, 0.0, 0.0, 0.0, 0.0, 0.0, 0.0, 0.0]</td>\n    </tr>\n  </tbody>\n</table>"
     },
     "metadata": {},
     "output_type": "display_data"
    }
   ],
   "source": [
    "response: KineticaSqlResponse = chain.invoke({\"input\": '''show me a sample of the vector data'''})\n",
    "display(HTML(response.dataframe.to_html(index=False)))"
   ],
   "metadata": {
    "collapsed": false,
    "ExecuteTime": {
     "end_time": "2024-03-04T18:34:15.011900Z",
     "start_time": "2024-03-04T18:34:08.349532Z"
    }
   },
   "id": "711c517a9dcf30b7",
   "execution_count": 4
  },
  {
   "cell_type": "code",
   "outputs": [
    {
     "data": {
      "text/plain": "<Axes: xlabel='t'>"
     },
     "execution_count": 5,
     "metadata": {},
     "output_type": "execute_result"
    },
    {
     "data": {
      "text/plain": "<Figure size 640x480 with 1 Axes>",
      "image/png": "[encoded data removed]"
     },
     "metadata": {},
     "output_type": "display_data"
    }
   ],
   "source": [
    "response: KineticaSqlResponse = chain.invoke({\"input\": '''show me all sale prices for tsco for the last week where the sale price is recorded'''})\n",
    "response.dataframe.plot.line(x='t', y='lp')"
   ],
   "metadata": {
    "collapsed": false,
    "ExecuteTime": {
     "end_time": "2024-03-04T18:34:26.201725Z",
     "start_time": "2024-03-04T18:34:16.115074Z"
    }
   },
   "id": "1b995d155838195c",
   "execution_count": 5
  },
  {
   "cell_type": "code",
   "outputs": [],
   "source": [
    "import importlib\n",
    "import kinetica.kineai_summarize\n",
    "\n",
    "importlib.reload(kinetica.kineai_summarize)\n",
    "kineticallm = kinetica.kineai_summarize.KineticaLLM(f'nyse.nyse_report_ctxt_{extension}')"
   ],
   "metadata": {
    "collapsed": false,
    "ExecuteTime": {
     "end_time": "2024-03-04T18:34:28.039162Z",
     "start_time": "2024-03-04T18:34:27.827690Z"
    }
   },
   "id": "f551771cc27d5e84",
   "execution_count": 6
  },
  {
   "cell_type": "code",
   "outputs": [],
   "source": [
    "system = \"\"\" KineticAI is a cheerful AI assistant for engaging in a conversation between an LLM using the Nemo framework and the Kinetica LLM.  The Kinetica\n",
    "LLM is designed to translate natural language questions into SQL queries. \n",
    "\n",
    "The SqlAssist AI will respond with an answer to the question in JSON format from SqlAssist.\n",
    "\n",
    "Your job is to summarize multiple result sets in JSON form into a report suitable for a financial executive\n",
    "\n",
    "when presented with stock symbols and prices, you should summarize them as a bulleted list\n",
    "\"\"\"\n",
    "#firt 4 pair hwo to call Kinetika (this )\n",
    "# Ilustrate this better where you have a bigger paragraph\n",
    "# Have the content asnwer. \n",
    "context0 = [dict(role=\"system\", content=system),\n",
    "            dict(role='user', content='''TOP 5 Gains\n",
    "\n",
    "[{\"s\": \"aapl\", \"price_increase_percentage\": 11226.1162109375}, {\"s\": \"tgl\", \"price_increase_percentage\": 6417.857421875}, {\"s\": \"egio\", \"price_increase_percentage\": 4299.8212890625}, {\"s\": \"cjjd\", \"price_increase_percentage\": 1689.0771484375}, {\"s\": \"celu\", \"price_increase_percentage\": 881.7233276367188}]\n",
    "\n",
    "TOP 5 Losses\n",
    "\n",
    "[{\"s\": \"tsla\", \"price_decrease_percentage\": 36.486488342285156}, {\"s\": \"shotw\", \"price_decrease_percentage\": 31.249996185302734}, {\"s\": \"qbts+\", \"price_decrease_percentage\": 30.000001907348633}, {\"s\": \"lidrw\", \"price_decrease_percentage\": 25.0}, {\"s\": \"evlvw\", \"price_decrease_percentage\": 19.169803619384766}]'''),\n",
    "            dict(role='assistant', content='''\n",
    "            Top 5 gains:\n",
    "                - aapl up 11226.1162109375%\n",
    "                - tgl up 6435.08740234375%\n",
    "                - egio up 4299.8212890625%\n",
    "                - cjjd up 1689.0771484375%\n",
    "                - celu up 881.7233276367188%\n",
    "            Top 5 losses:\n",
    "                - tsla down 36.486488342285156%\n",
    "                - shotw down 25.0%\n",
    "                - qbts+ down 17.329906463623047%\n",
    "                - lidrw down 16.92306900024414%\n",
    "                - evlvw down 16.465866088867188%\n",
    "            ''')]"
   ],
   "metadata": {
    "collapsed": false,
    "ExecuteTime": {
     "end_time": "2024-03-04T22:23:08.691038Z",
     "start_time": "2024-03-04T22:23:08.685872Z"
    }
   },
   "id": "d93d66fd94363d30",
   "execution_count": 40
  },
  {
   "cell_type": "code",
   "outputs": [
    {
     "data": {
      "text/plain": "<IPython.core.display.HTML object>",
      "text/html": "<table border=\"1\" class=\"dataframe\">\n  <thead>\n    <tr style=\"text-align: right;\">\n      <th>s</th>\n      <th>price_increase_percentage</th>\n    </tr>\n  </thead>\n  <tbody>\n    <tr>\n      <td>phun</td>\n      <td>11226.116211</td>\n    </tr>\n    <tr>\n      <td>tgl</td>\n      <td>6417.857422</td>\n    </tr>\n    <tr>\n      <td>egio</td>\n      <td>4299.821289</td>\n    </tr>\n    <tr>\n      <td>cjjd</td>\n      <td>1689.077148</td>\n    </tr>\n    <tr>\n      <td>celu</td>\n      <td>881.723328</td>\n    </tr>\n  </tbody>\n</table>"
     },
     "metadata": {},
     "output_type": "display_data"
    }
   ],
   "source": [
    "question = 'show me the top 5 stocks that have increased in value by 12% or more in the last week with percentage increases'\n",
    "out_ctxt = kineticallm.chat(context0, question)\n",
    "display(out_ctxt)\n"
   ],
   "metadata": {
    "collapsed": false,
    "ExecuteTime": {
     "end_time": "2024-03-04T18:34:56.587212Z",
     "start_time": "2024-03-04T18:34:31.413762Z"
    }
   },
   "id": "5e6f60a696c2c400",
   "execution_count": 8
  },
  {
   "cell_type": "code",
   "outputs": [
    {
     "data": {
      "text/plain": "<IPython.core.display.HTML object>",
      "text/html": "<table border=\"1\" class=\"dataframe\">\n  <thead>\n    <tr style=\"text-align: right;\">\n      <th>s</th>\n      <th>price_decrease_percentage</th>\n    </tr>\n  </thead>\n  <tbody>\n    <tr>\n      <td>lgvcw</td>\n      <td>36.486488</td>\n    </tr>\n    <tr>\n      <td>lidrw</td>\n      <td>25.000000</td>\n    </tr>\n    <tr>\n      <td>conxw</td>\n      <td>17.329906</td>\n    </tr>\n    <tr>\n      <td>lqr</td>\n      <td>16.923069</td>\n    </tr>\n    <tr>\n      <td>astr</td>\n      <td>16.465866</td>\n    </tr>\n  </tbody>\n</table>"
     },
     "metadata": {},
     "output_type": "display_data"
    }
   ],
   "source": [
    "question = 'show me the top 5 stocks that have decreased in value by 12% or more in the last week with percentage decreases'\n",
    "out_ctxt = kineticallm.chat(context0, question)\n",
    "display(out_ctxt)"
   ],
   "metadata": {
    "collapsed": false,
    "ExecuteTime": {
     "end_time": "2024-03-04T18:35:23.575256Z",
     "start_time": "2024-03-04T18:34:58.039571Z"
    }
   },
   "id": "c1e4f4849a938b3d",
   "execution_count": 9
  },
  {
   "cell_type": "code",
   "outputs": [
    {
     "name": "stderr",
     "output_type": "stream",
     "text": [
      "INFO:SqlAssistLLM:Query: show me the top 5 stocks that have increased in value by 5% or more in the last week with percentage increases\n",
      "INFO:SqlAssistLLM:SQL: SELECT\n",
      "    s,\n",
      "    price_increase_percentage\n",
      "FROM\n",
      "    (\n",
      "        SELECT\n",
      "            s,\n",
      "            LAG(weekly.min_price) OVER (PARTITION BY s ORDER BY ts_bkt) AS previous_sale_price,\n",
      "            (((weekly.max_price - LAG(weekly.min_price) OVER (PARTITION BY s ORDER BY ts_bkt)) / LAG(weekly.min_price) OVER (PARTITION BY s ORDER BY ts_bkt)) * 100) AS price_increase_percentage\n",
      "        FROM \n",
      "            (select\n",
      "                date(date_trunc(week, t)) as ts_bkt,\n",
      "                s,\n",
      "                min(lp) as min_price,\n",
      "                max(lp) as max_price\n",
      "            from\n",
      "                nyse.prices\n",
      "            where\n",
      "                lp is not null\n",
      "                and date(date_trunc(week, t)) >= date(date_trunc(week, now() - interval 7 day))\n",
      "            group by\n",
      "                1,2\n",
      "            order by\n",
      "                s, ts_bkt) weekly) AS PriceChanges\n",
      "WHERE\n",
      "    price_increase_percentage >= 5\n",
      "ORDER BY\n",
      "    price_increase_percentage desc\n",
      "LIMIT 5;\n",
      "INFO:SqlAssistLLM:Query: show me the top 5 stocks that have decreased in value by 5% or more in the last week with percentage decreases\n",
      "INFO:SqlAssistLLM:SQL: SELECT\n",
      "    s,\n",
      "    price_decrease_percentage\n",
      "FROM\n",
      "    (\n",
      "        SELECT\n",
      "            s,\n",
      "            LAG(weekly.min_price) OVER (PARTITION BY s ORDER BY ts_bkt) AS previous_sale_price,\n",
      "            (((weekly.max_price - LAG(weekly.min_price) OVER (PARTITION BY s ORDER BY ts_bkt)) / LAG(weekly.min_price) OVER (PARTITION BY s ORDER BY ts_bkt)) * 100) * -1 AS price_decrease_percentage\n",
      "        FROM \n",
      "            (select\n",
      "                date(date_trunc(week, t)) as ts_bkt,\n",
      "                s,\n",
      "                min(lp) as min_price,\n",
      "                max(lp) as max_price\n",
      "            from\n",
      "                nyse.prices\n",
      "            where\n",
      "                lp is not null\n",
      "                and date(date_trunc(week, t)) >= date(date_trunc(week, now() - interval 7 day))\n",
      "            group by\n",
      "                1,2\n",
      "            order by\n",
      "                s, ts_bkt) weekly) AS PriceChanges\n",
      "WHERE\n",
      "    price_decrease_percentage >= 5\n",
      "ORDER BY\n",
      "    price_decrease_percentage desc\n",
      "LIMIT 5;\n",
      "INFO:NemoSummaryLLM:user: can you please summarize the following JSON:\n",
      "\n",
      "TOP 5 Gains\n",
      "\n",
      "[{\"s\": \"phun\", \"price_increase_percentage\": 11226.1162109375}, {\"s\": \"tgl\", \"price_increase_percentage\": 6417.857421875}, {\"s\": \"egio\", \"price_increase_percentage\": 4299.8212890625}, {\"s\": \"auud\", \"price_increase_percentage\": 2006.25}, {\"s\": \"cjjd\", \"price_increase_percentage\": 1689.0771484375}]\n",
      "\n",
      "TOP 5 Losses\n",
      "\n",
      "[{\"s\": \"lgvcw\", \"price_decrease_percentage\": 36.486488342285156}, {\"s\": \"shotw\", \"price_decrease_percentage\": 31.249996185302734}, {\"s\": \"qbts+\", \"price_decrease_percentage\": 30.000001907348633}, {\"s\": \"lidrw\", \"price_decrease_percentage\": 25.0}, {\"s\": \"evlvw\", \"price_decrease_percentage\": 19.169803619384766}] (tokens: 1093/3003)\n",
      "INFO:NemoSummaryLLM:assistant: The following JSON is a summary of the stock market performance for the top 5 gainers and losers. The top 5 gainers are:\n",
      "\n",
      "- phun up 11226.1162109375%\n",
      "- tgl up 6417.857421875%\n",
      "- egio up 4299.8212890625%\n",
      "- auud up 2006.25%\n",
      "- cjjd up 1689.0771484375%\n",
      "\n",
      "The top 5 losers are:\n",
      "\n",
      "- lgvcw down 36.486488342285156%\n",
      "- shotw down 31.249996185302734%\n",
      "- qbts+ down 30.000001907348633%\n",
      "- lidrw down 25.0%\n",
      "- evlvw down 19.169803619384766%\n"
     ]
    },
    {
     "name": "stdout",
     "output_type": "stream",
     "text": [
      "The following JSON is a summary of the stock market performance for the top 5 gainers and losers. The top 5 gainers are:\n",
      "\n",
      "- phun up 11226.1162109375%\n",
      "- tgl up 6417.857421875%\n",
      "- egio up 4299.8212890625%\n",
      "- auud up 2006.25%\n",
      "- cjjd up 1689.0771484375%\n",
      "\n",
      "The top 5 losers are:\n",
      "\n",
      "- lgvcw down 36.486488342285156%\n",
      "- shotw down 31.249996185302734%\n",
      "- qbts+ down 30.000001907348633%\n",
      "- lidrw down 25.0%\n",
      "- evlvw down 19.169803619384766%\n"
     ]
    }
   ],
   "source": [
    "percentage_change = 5\n",
    "out_ctxt = kineticallm.report(context0, percentage_change)\n",
    "print(out_ctxt)"
   ],
   "metadata": {
    "collapsed": false,
    "ExecuteTime": {
     "end_time": "2024-03-04T22:24:12.919261Z",
     "start_time": "2024-03-04T22:23:13.584136Z"
    }
   },
   "id": "d69e5b1dcd5af3b3",
   "execution_count": 41
  },
  {
   "cell_type": "code",
   "outputs": [],
   "source": [],
   "metadata": {
    "collapsed": false
   },
   "id": "44dae42b728ca94c"
  }
 ],
 "metadata": {
  "kernelspec": {
   "display_name": "Python 3",
   "language": "python",
   "name": "python3"
  },
  "language_info": {
   "codemirror_mode": {
    "name": "ipython",
    "version": 2
   },
   "file_extension": ".py",
   "mimetype": "text/x-python",
   "name": "python",
   "nbconvert_exporter": "python",
   "pygments_lexer": "ipython2",
   "version": "2.7.6"
  }
 },
 "nbformat": 4,
 "nbformat_minor": 5
}
