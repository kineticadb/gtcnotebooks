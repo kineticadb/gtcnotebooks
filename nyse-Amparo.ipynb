{
 "cells": [
  {
   "cell_type": "code",
   "execution_count": null,
   "id": "initial_id",
   "metadata": {
    "collapsed": true
   },
   "outputs": [],
   "source": [
    "!pip install --upgrade gpudb==7.2.0.1 pandas pyarrow typeguard langchain langchain_openai nemollm colorlog langchain-community"
   ]
  },
  {
   "cell_type": "markdown",
   "source": [
    "### Kinetica SQLAssist context"
   ],
   "metadata": {
    "collapsed": false
   },
   "id": "ecc32c6b550b841d"
  },
  {
   "cell_type": "code",
   "outputs": [
    {
     "data": {
      "text/plain": "{'count_affected': 1,\n 'response_schema_str': '{\"name\":\"generic_response\",\"type\":\"record\",\"fields\":[{\"name\":\"column_1\",\"type\":{\"type\":\"array\",\"items\":\"string\"}},{\"name\":\"column_headers\",\"type\":{\"type\":\"array\",\"items\":\"string\"}},{\"name\":\"column_datatypes\",\"type\":{\"type\":\"array\",\"items\":\"string\"}}]}',\n 'binary_encoded_response': b'\\x00\\x02\\ndummy\\x00\\x02\\x0cstring\\x00',\n 'json_encoded_response': '',\n 'total_number_of_records': -1,\n 'has_more_records': False,\n 'paging_table': '',\n 'info': {'X-Kinetica-Group': 'DDL',\n  'count': '0',\n  'last_endpoint': '/create/context/internal',\n  'total_number_of_records': '0'},\n 'status_info': {'status': 'OK',\n  'message': '',\n  'data_type': 'execute_sql_response',\n  'response_time': 0.01977},\n 'record_type': kinetica.protocol.RecordType('', [('dummy', 'string')])}"
     },
     "execution_count": 4,
     "metadata": {},
     "output_type": "execute_result"
    }
   ],
   "source": [
    "import gpudb\n",
    "\n",
    "db = gpudb.GPUdb(host='https://demo72.kinetica.com/_gpudb',\n",
    "                     username='gtc',\n",
    "                     password='Kinetica123!')\n",
    "\n",
    "# We want to have our own individual context to work with, so create an extension to the context name as shown here\n",
    "extension = 'amparo'\n",
    "\n",
    "sqlcontext = f'''CREATE OR REPLACE CONTEXT nyse.nyse_vector_ctxt_{extension}\n",
    "(\n",
    "    TABLE = nyse.prices,\n",
    "    COMMENT = 'Stock prices including ask, bid, and sale price and size',\n",
    "    RULES = (\n",
    "        'when I ask about stock prices, use the nyse.prices table',\n",
    "        'when I ask about stock prices today, filter on all results that occurred between now and an interval of 1 day',\n",
    "        'all stock symbols are in lower case',\n",
    "        'when I ask about today I mean that the timestamp should be greater than or equal to now minus an interval of 1 day',\n",
    "        'when I ask about any column, make sure there are no null values or NaN values',\n",
    "        'replace all NaN values with 0 using the IFNAN() function',\n",
    "        'all numeric results should be larger than 0',\n",
    "        'convert all stock symbols to lower case',\n",
    "        'always filter out null values'\n",
    "    ),\n",
    "    COMMENTS = (\n",
    "        'ap' = 'ask price',\n",
    "        'bp' = 'bid price',\n",
    "        'bs' = 'bid size',\n",
    "        'lp' = 'sale price',\n",
    "        'ls' = 'sale size',\n",
    "        's' = 'symbol',\n",
    "        't' = 'timestamp'\n",
    "    )\n",
    "),\n",
    "(\n",
    "    TABLE = nyse.vector,\n",
    "    COMMENT = 'Time-series vector embeddings for NYSE stock characteristics'\n",
    "),\n",
    "(\n",
    "    SAMPLES = (\n",
    "        'find all sofi stock trades between 2024-01-29 14:25:00 and 2024-01-29 14:35:00 where the price is not null' = 'SELECT t, s, lp\n",
    "FROM nyse.prices\n",
    "WHERE s =''sofi''\n",
    "AND t BETWEEN ''2024-01-29 14:25:00'' AND ''2024-01-29 14:35:00''\n",
    "AND lp IS NOT NULL;',\n",
    "\n",
    "        'find similar patterns to sofi at 2024-01-29 14:25:00.000' = 'SELECT\n",
    "    ts_bkt,\n",
    "    symbol,\n",
    "    dot_product(ap_vec,(select string(ap_vec) from (select * from nyse.vector where ts_bkt = ''2024-01-29 14:25:00.000'' and symbol = ''sofi'' limit 1))) as d1\n",
    "FROM\n",
    "    nyse.vector\n",
    "ORDER BY\n",
    "    d1 asc\n",
    "LIMIT\n",
    "    5;', \n",
    "        'test amparo how many rows are in the prices data?' = 'select\n",
    "  count(*)\n",
    "from\n",
    "  nyse.prices',\n",
    "  \n",
    "        'show me buying opportunities for the next 15 min' = 'SELECT\n",
    "    ts_bkt,\n",
    "    symbol,\n",
    "    dot_product(ap_vec,(select string(ap_vec) from (select * from nyse.vector where ts_bkt = ''2024-01-29 14:25:00.000'' and symbol = ''sofi'' limit 1))) as d1\n",
    "FROM\n",
    "    nyse.vector\n",
    "WHERE\n",
    "    ts_bkt >= now() - interval ''15'' minutes\n",
    "ORDER BY\n",
    "    d1 asc\n",
    "LIMIT\n",
    "    5;',\n",
    "\n",
    "        'what stock symbol other than QQQ has the highest price within the last 15 minutes?' = 'SELECT\n",
    "    s\n",
    "FROM\n",
    "    nyse.prices\n",
    "WHERE\n",
    "    t >= now() - interval ''15'' minutes\n",
    "    and s <> ''qqq''\n",
    "GROUP BY\n",
    "    s\n",
    "ORDER BY\n",
    "    avg(lp) desc\n",
    "LIMIT\n",
    "    1;',\n",
    "        'Show me a top 25 list of stocks from today whose value increased by at least 12%' = 'SELECT\n",
    "    s,\n",
    "    price_increase_percentage\n",
    "FROM\n",
    "    (\n",
    "        SELECT\n",
    "            s,\n",
    "            lp AS current_sale_price,\n",
    "            LAG(lp) OVER (PARTITION BY s ORDER BY t) AS previous_sale_price,\n",
    "            (((lp - LAG(lp) OVER (PARTITION BY s ORDER BY t)) / LAG(lp) OVER (PARTITION BY s ORDER BY t)) * 100) AS price_increase_percentage\n",
    "        FROM \n",
    "            nyse.prices\n",
    "        WHERE\n",
    "            date(t) = ''2024-01-23''\n",
    "            AND lp IS NOT NULL) AS PriceChanges\n",
    "WHERE\n",
    "    price_increase_percentage > 12\n",
    "ORDER BY\n",
    "    price_increase_percentage desc\n",
    "LIMIT 25'\n",
    "    )\n",
    ")\n",
    "    '''\n",
    "db.execute_sql(sqlcontext)"
   ],
   "metadata": {
    "collapsed": false,
    "ExecuteTime": {
     "end_time": "2024-02-27T18:42:39.319837Z",
     "start_time": "2024-02-27T18:42:38.996452Z"
    }
   },
   "id": "86c50207273e8b7e",
   "execution_count": 4
  },
  {
   "cell_type": "markdown",
   "source": [
    "### Connect to Kinetica and the LLM"
   ],
   "metadata": {
    "collapsed": false
   },
   "id": "a197900f9a6dffc4"
  },
  {
   "cell_type": "code",
   "outputs": [],
   "source": [
    "from langchain_core.prompts import ChatPromptTemplate\n",
    "from langchain_community.chat_models.kinetica import ChatKinetica, KineticaSqlOutputParser, KineticaSqlResponse, KineticaUtil\n",
    "from IPython.display import display, HTML\n",
    "\n",
    "# create the Kinetica connection\n",
    "kdbc = KineticaUtil.create_kdbc(url=\"https://demo72.kinetica.com/_gpudb\", user=\"gtc\", passwd=\"Kinetica123!\")\n",
    "\n",
    "# create the Kinetica LLM\n",
    "kinetica_llm = ChatKinetica(kdbc=kdbc)\n",
    "\n",
    "# Set the context to use\n",
    "kinetica_ctx = f'nyse.nyse_vector_ctxt_{extension}'"
   ],
   "metadata": {
    "collapsed": false,
    "ExecuteTime": {
     "end_time": "2024-02-27T18:42:45.263189Z",
     "start_time": "2024-02-27T18:42:45.086911Z"
    }
   },
   "id": "ddfb3855319778c4",
   "execution_count": 5
  },
  {
   "cell_type": "markdown",
   "source": [
    "### Set up the context"
   ],
   "metadata": {
    "collapsed": false
   },
   "id": "207c9ad47aba32a"
  },
  {
   "cell_type": "code",
   "outputs": [
    {
     "name": "stdout",
     "output_type": "stream",
     "text": [
      "================================\u001B[1m System Message \u001B[0m================================\n",
      "\n",
      "CREATE TABLE nyse.prices AS\n",
      "(\n",
      "   t DATETIME NOT NULL COMMENT 'timestamp',\n",
      "   s VARCHAR (8, dict, shard_key) NOT NULL COMMENT 'symbol',\n",
      "   type VARCHAR (4, dict) NOT NULL,\n",
      "   ap REAL  COMMENT 'ask price',\n",
      "   as INTEGER,\n",
      "   bp REAL  COMMENT 'bid price',\n",
      "   bs INTEGER  COMMENT 'bid size',\n",
      "   lp REAL  COMMENT 'sale price',\n",
      "   ls INTEGER  COMMENT 'sale size'\n",
      ");\n",
      "COMMENT ON TABLE nyse.prices IS 'Stock prices including ask, bid, and sale price and size';\n",
      "-- When querying table nyse.prices the following rules apply:\n",
      "-- * when I ask about stock prices, use the nyse.prices table\n",
      "-- * when I ask about stock prices today, filter on all results that occurred between now and an interval of 1 day\n",
      "-- * all stock symbols are in lower case\n",
      "-- * when I ask about today I mean that the timestamp should be greater than or equal to now minus an interval of 1 day\n",
      "-- * when I ask about any column, make sure there are no null values or NaN values\n",
      "-- * replace all NaN values with 0 using the IFNAN() function\n",
      "-- * all numeric results should be larger than 0\n",
      "-- * convert all stock symbols to lower case\n",
      "-- * always filter out null values\n",
      "\n",
      "CREATE TABLE nyse.vector AS\n",
      "(\n",
      "   ap_vec VECTOR(22) NOT NULL,\n",
      "   symbol VARCHAR (32) NOT NULL,\n",
      "   ts_bkt DATETIME NOT NULL\n",
      ");\n",
      "COMMENT ON TABLE nyse.vector IS 'Time-series vector embeddings for NYSE stock characteristics';\n",
      "\n",
      "================================\u001B[1m Human Message \u001B[0m=================================\n",
      "\n",
      "Show me a top 25 list of stocks from today whose value increased by at least 12%\n",
      "\n",
      "==================================\u001B[1m Ai Message \u001B[0m==================================\n",
      "\n",
      "SELECT\n",
      "    s,\n",
      "    price_increase_percentage\n",
      "FROM\n",
      "    (\n",
      "        SELECT\n",
      "            s,\n",
      "            lp AS current_sale_price,\n",
      "            LAG(lp) OVER (PARTITION BY s ORDER BY t) AS previous_sale_price,\n",
      "            (((lp - LAG(lp) OVER (PARTITION BY s ORDER BY t)) / LAG(lp) OVER (PARTITION BY s ORDER BY t)) * 100) AS price_increase_percentage\n",
      "        FROM \n",
      "            nyse.prices\n",
      "        WHERE\n",
      "            date(t) = '2024-01-23'\n",
      "            AND lp IS NOT NULL) AS PriceChanges\n",
      "WHERE\n",
      "    price_increase_percentage > 12\n",
      "ORDER BY\n",
      "    price_increase_percentage desc\n",
      "LIMIT 25\n",
      "\n",
      "================================\u001B[1m Human Message \u001B[0m=================================\n",
      "\n",
      "find all sofi stock trades between 2024-01-29 14:25:00 and 2024-01-29 14:35:00 where the price is not null\n",
      "\n",
      "==================================\u001B[1m Ai Message \u001B[0m==================================\n",
      "\n",
      "SELECT t, s, lp\n",
      "FROM nyse.prices\n",
      "WHERE s ='sofi'\n",
      "AND t BETWEEN '2024-01-29 14:25:00' AND '2024-01-29 14:35:00'\n",
      "AND lp IS NOT NULL;\n",
      "\n",
      "================================\u001B[1m Human Message \u001B[0m=================================\n",
      "\n",
      "find similar patterns to sofi at 2024-01-29 14:25:00.000\n",
      "\n",
      "==================================\u001B[1m Ai Message \u001B[0m==================================\n",
      "\n",
      "SELECT\n",
      "    ts_bkt,\n",
      "    symbol,\n",
      "    dot_product(ap_vec,(select string(ap_vec) from (select * from nyse.vector where ts_bkt = '2024-01-29 14:25:00.000' and symbol = 'sofi' limit 1))) as d1\n",
      "FROM\n",
      "    nyse.vector\n",
      "ORDER BY\n",
      "    d1 asc\n",
      "LIMIT\n",
      "    5;\n",
      "\n",
      "================================\u001B[1m Human Message \u001B[0m=================================\n",
      "\n",
      "show me buying opportunities for the next 15 min\n",
      "\n",
      "==================================\u001B[1m Ai Message \u001B[0m==================================\n",
      "\n",
      "SELECT\n",
      "    ts_bkt,\n",
      "    symbol,\n",
      "    dot_product(ap_vec,(select string(ap_vec) from (select * from nyse.vector where ts_bkt = '2024-01-29 14:25:00.000' and symbol = 'sofi' limit 1))) as d1\n",
      "FROM\n",
      "    nyse.vector\n",
      "WHERE\n",
      "    ts_bkt >= now() - interval '15' minutes\n",
      "ORDER BY\n",
      "    d1 asc\n",
      "LIMIT\n",
      "    5;\n",
      "\n",
      "================================\u001B[1m Human Message \u001B[0m=================================\n",
      "\n",
      "test amparo how many rows are in the prices data?\n",
      "\n",
      "==================================\u001B[1m Ai Message \u001B[0m==================================\n",
      "\n",
      "select\n",
      "  count(*)\n",
      "from\n",
      "  nyse.prices\n",
      "\n",
      "================================\u001B[1m Human Message \u001B[0m=================================\n",
      "\n",
      "what stock symbol other than QQQ has the highest price within the last 15 minutes?\n",
      "\n",
      "==================================\u001B[1m Ai Message \u001B[0m==================================\n",
      "\n",
      "SELECT\n",
      "    s\n",
      "FROM\n",
      "    nyse.prices\n",
      "WHERE\n",
      "    t >= now() - interval '15' minutes\n",
      "    and s <> 'qqq'\n",
      "GROUP BY\n",
      "    s\n",
      "ORDER BY\n",
      "    avg(lp) desc\n",
      "LIMIT\n",
      "    1;\n",
      "\n",
      "================================\u001B[1m Human Message \u001B[0m=================================\n",
      "\n",
      "\u001B[33;1m\u001B[1;3m{input}\u001B[0m\n"
     ]
    }
   ],
   "source": [
    "# load the context from the database\n",
    "ctx_messages = kinetica_llm.load_messages_from_context(kinetica_ctx)\n",
    "\n",
    "# Add the input prompt. This is where input question will be substituted.\n",
    "ctx_messages.append((\"human\", \"{input}\"))\n",
    "\n",
    "# Create the prompt template.\n",
    "prompt_template = ChatPromptTemplate.from_messages(ctx_messages)\n",
    "prompt_template.pretty_print()\n",
    "\n",
    "# create the chain. \n",
    "# note: The KineticaSqlOutputParser will execute the SQL statement and is optional.\n",
    "chain = prompt_template | kinetica_llm | KineticaSqlOutputParser(kdbc=kdbc)"
   ],
   "metadata": {
    "collapsed": false,
    "ExecuteTime": {
     "end_time": "2024-02-27T18:42:48.865072Z",
     "start_time": "2024-02-27T18:42:48.794587Z"
    }
   },
   "id": "3ad801d54db0d828",
   "execution_count": 6
  },
  {
   "cell_type": "markdown",
   "source": [
    "# Overview\n",
    "### Setup and expectations\n",
    "- Python code in the UDF folder is not intended to be run independently; it requires Kinetica to function properly\n",
    "- Python code in the UDF folder is included for illustrative purposes\n",
    "- Python code in the kinetica folder contains helper code and is not intended to be run independently\n",
    "### Data Flow\n",
    "- Data is streamed via websocket to Kinetica in JSON format\n",
    "- Create delta table (just new quotes since last refresh)\n",
    "- Invoke embedding model (UDF) over the delta table on every new record\n",
    "- Embedding model (catch22) inserts 22 dimensional vector embedding into vector table for 5 minute windows every 5 seconds for every observed stock symbol\n",
    "### Reference code\n",
    "- if you want to dive deeper on the UDF that creates the vector embeddings see [./UDF/nyse_vector_embedding.py]()\n"
   ],
   "metadata": {
    "collapsed": false
   },
   "id": "cb97d7dcae38a63a"
  },
  {
   "cell_type": "code",
   "outputs": [
    {
     "data": {
      "text/plain": "<IPython.core.display.HTML object>",
      "text/html": "<table border=\"1\" class=\"dataframe\">\n  <thead>\n    <tr style=\"text-align: right;\">\n      <th>ts_bkt</th>\n      <th>symbol</th>\n      <th>ap_vec</th>\n    </tr>\n  </thead>\n  <tbody>\n    <tr>\n      <td>2023-06-16 17:40:00</td>\n      <td>crm</td>\n      <td>[6.736817, 0.10749464, 1.0, 0.24475768, 222.23024, 7.628984, 0.57750195, 0.6800057, -0.60493827, 2.0, 17.0, 1.0251471, 0.083333336, 0.8125, 0.5, 0.64621705, 0.14726216, 0.055555556, 0.76957387, 2.0, 0.2375, 3.0]</td>\n    </tr>\n    <tr>\n      <td>2023-06-16 17:40:00</td>\n      <td>dtm</td>\n      <td>[0.5052257, 0.0, 1.0, 0.024246994, 51.195652, 1.8771832, 0.43434644, 0.5406227, 0.3043478, 2.0, 7.0, 0.0, 0.33333334, 0.0, 0.0, 0.15749231, 2.3561945, 1.0, 1.2141862, 2.0, 0.54545456, 4.0]</td>\n    </tr>\n    <tr>\n      <td>2023-06-16 17:40:00</td>\n      <td>pba</td>\n      <td>[1.4189638, -0.33780438, 3.0, 0.052049343, 31.282728, 0.00452267, -0.38191438, -0.49246854, 0.18181819, 2.0, 6.0, 1.0656469, 0.06666667, 0.5, 0.5, 0.4301606, 0.5890486, 0.16666667, 0.9560811, 2.0, 0.21875, 5.0]</td>\n    </tr>\n    <tr>\n      <td>2023-06-16 17:40:00</td>\n      <td>virt</td>\n      <td>[1.6243418, 0.0, 6.0, 0.052429873, 18.547209, 0.0045385025, 0.39455694, 0.5047254, -0.023255814, 2.0, 16.0, 0.0, 0.07333333, 0.64705884, 0.3529412, 0.41038948, 0.6872234, 0.25, 0.9839723, 2.0, 0.1904762, 10.0]</td>\n    </tr>\n    <tr>\n      <td>2023-06-16 17:40:00</td>\n      <td>leg</td>\n      <td>[3.403726, 0.5040576, 15.0, 0.3136487, 31.87857, 1.1480169, -0.4011887, -0.50920105, -0.23809524, 1.0, 5.0, 0.74603266, 0.18518518, 0.0, 0.0, 0.67329305, 0.19634955, 0.16666667, 0.6049901, 11.0, 0.05, 0.0]</td>\n    </tr>\n  </tbody>\n</table>"
     },
     "metadata": {},
     "output_type": "display_data"
    }
   ],
   "source": [
    "response: KineticaSqlResponse = chain.invoke({\"input\": '''show me a sample of the vector data'''})\n",
    "display(HTML(response.dataframe.to_html(index=False)))"
   ],
   "metadata": {
    "collapsed": false,
    "ExecuteTime": {
     "end_time": "2024-02-27T18:43:13.606400Z",
     "start_time": "2024-02-27T18:43:08.656386Z"
    }
   },
   "id": "56dbc45fd6e6e951",
   "execution_count": 7
  },
  {
   "cell_type": "code",
   "outputs": [
    {
     "name": "stdout",
     "output_type": "stream",
     "text": [
      "SELECT\n",
      "    s\n",
      "FROM\n",
      "    (\n",
      "        SELECT\n",
      "            s,\n",
      "            lp AS current_sale_price,\n",
      "            LAG(lp) OVER (PARTITION BY s ORDER BY t) AS previous_sale_price,\n",
      "            (((lp - LAG(lp) OVER (PARTITION BY s ORDER BY t)) / LAG(lp) OVER (PARTITION BY s ORDER BY t)) * 100) AS price_increase_percentage\n",
      "        FROM \n",
      "            nyse.prices\n",
      "        WHERE\n",
      "            t BETWEEN '2024-01-22 13:00:00' AND '2024-01-22 20:00:00'\n",
      "            AND lp IS NOT NULL) AS PriceChanges\n",
      "WHERE\n",
      "    price_increase_percentage > 12;\n"
     ]
    },
    {
     "data": {
      "text/plain": "<IPython.core.display.HTML object>",
      "text/html": "<table border=\"1\" class=\"dataframe\">\n  <thead>\n    <tr style=\"text-align: right;\">\n      <th>s</th>\n    </tr>\n  </thead>\n  <tbody>\n    <tr>\n      <td>cnsp</td>\n    </tr>\n    <tr>\n      <td>crbp</td>\n    </tr>\n    <tr>\n      <td>gsiw</td>\n    </tr>\n    <tr>\n      <td>dats</td>\n    </tr>\n    <tr>\n      <td>rebn</td>\n    </tr>\n    <tr>\n      <td>bfrgw</td>\n    </tr>\n    <tr>\n      <td>nm-p-h</td>\n    </tr>\n    <tr>\n      <td>bfrgw</td>\n    </tr>\n    <tr>\n      <td>octo</td>\n    </tr>\n    <tr>\n      <td>wnw</td>\n    </tr>\n    <tr>\n      <td>aqb</td>\n    </tr>\n    <tr>\n      <td>gure</td>\n    </tr>\n    <tr>\n      <td>gure</td>\n    </tr>\n    <tr>\n      <td>brea</td>\n    </tr>\n    <tr>\n      <td>brea</td>\n    </tr>\n    <tr>\n      <td>brea</td>\n    </tr>\n    <tr>\n      <td>psqh+</td>\n    </tr>\n  </tbody>\n</table>"
     },
     "metadata": {},
     "output_type": "display_data"
    }
   ],
   "source": [
    "#Amparo\n",
    "response: KineticaSqlResponse = chain.invoke({\"input\": '''find all stock symbols between 2024-01-22 13:00:00 and 2024-01-22 20:00:00 where the price is recorded that went up by more than 12%'''})\n",
    "print(response.sql)\n",
    "display(HTML(response.dataframe.to_html(index=False)))"
   ],
   "metadata": {
    "collapsed": false,
    "ExecuteTime": {
     "end_time": "2024-02-27T18:43:30.093869Z",
     "start_time": "2024-02-27T18:43:20.885245Z"
    }
   },
   "id": "976147b1b119f245",
   "execution_count": 8
  },
  {
   "cell_type": "code",
   "outputs": [
    {
     "data": {
      "text/plain": "<IPython.core.display.HTML object>",
      "text/html": "<table border=\"1\" class=\"dataframe\">\n  <thead>\n    <tr style=\"text-align: right;\">\n      <th>EXPR_0</th>\n      <th>EXPR_1</th>\n    </tr>\n  </thead>\n  <tbody>\n    <tr>\n      <td>2023-06-16 17:44:03.198</td>\n      <td>2024-02-27 18:43:32.896</td>\n    </tr>\n  </tbody>\n</table>"
     },
     "metadata": {},
     "output_type": "display_data"
    }
   ],
   "source": [
    "#response: SqlResponse = chain.invoke({\"input\": '''show me all the symbols'''})\n",
    "response: KineticaSqlResponse = chain.invoke({\"input\": '''show me the data range'''})\n",
    "#response: SqlResponse = chain.invoke({\"input\": '''show me data for one symbol'''})\n",
    "display(HTML(response.dataframe.to_html(index=False)))"
   ],
   "metadata": {
    "collapsed": false,
    "ExecuteTime": {
     "end_time": "2024-02-27T18:43:36.929421Z",
     "start_time": "2024-02-27T18:43:34.288882Z"
    }
   },
   "id": "fd7ed2f1f250c5b",
   "execution_count": 9
  },
  {
   "cell_type": "code",
   "outputs": [
    {
     "name": "stdout",
     "output_type": "stream",
     "text": [
      "SELECT\n",
      "    count(*) AS total_rows\n",
      "FROM\n",
      "    nyse.prices\n",
      "LIMIT\n",
      "    1;\n"
     ]
    },
    {
     "data": {
      "text/plain": "<IPython.core.display.HTML object>",
      "text/html": "<table border=\"1\" class=\"dataframe\">\n  <thead>\n    <tr style=\"text-align: right;\">\n      <th>total_rows</th>\n    </tr>\n  </thead>\n  <tbody>\n    <tr>\n      <td>3484683646</td>\n    </tr>\n  </tbody>\n</table>"
     },
     "metadata": {},
     "output_type": "display_data"
    }
   ],
   "source": [
    "response: KineticaSqlResponse = chain.invoke({\"input\": '''what is the total number of rows?'''})\n",
    "print(response.sql)\n",
    "display(HTML(response.dataframe.to_html(index=False)))"
   ],
   "metadata": {
    "collapsed": false,
    "ExecuteTime": {
     "end_time": "2024-02-27T18:43:39.244606Z",
     "start_time": "2024-02-27T18:43:36.921527Z"
    }
   },
   "id": "1c4c25ecf0f56e20",
   "execution_count": 10
  },
  {
   "cell_type": "code",
   "outputs": [
    {
     "name": "stdout",
     "output_type": "stream",
     "text": [
      "SELECT\n",
      "    count(*)\n",
      "FROM\n",
      "    nyse.prices\n",
      "WHERE\n",
      "    lp < (SELECT avg(lp) FROM nyse.prices);\n"
     ]
    },
    {
     "data": {
      "text/plain": "<IPython.core.display.HTML object>",
      "text/html": "<table border=\"1\" class=\"dataframe\">\n  <thead>\n    <tr style=\"text-align: right;\">\n      <th>EXPR_0</th>\n    </tr>\n  </thead>\n  <tbody>\n    <tr>\n      <td>164413541</td>\n    </tr>\n  </tbody>\n</table>"
     },
     "metadata": {},
     "output_type": "display_data"
    }
   ],
   "source": [
    "#this use to work before but not anymore\n",
    "response: KineticaSqlResponse = chain.invoke({\"input\": '''how many rows are in the prices table with value lower than average?'''})\n",
    "print(response.sql)\n",
    "display(HTML(response.dataframe.to_html(index=False)))"
   ],
   "metadata": {
    "collapsed": false,
    "ExecuteTime": {
     "end_time": "2024-02-27T18:43:46.732229Z",
     "start_time": "2024-02-27T18:43:43.384974Z"
    }
   },
   "id": "18e389ee329ec611",
   "execution_count": 11
  },
  {
   "cell_type": "markdown",
   "source": [
    "### Some questions, including vector similarity search, without the SQL fuss"
   ],
   "metadata": {
    "collapsed": false
   },
   "id": "37c6813366d65a95"
  },
  {
   "cell_type": "code",
   "outputs": [
    {
     "name": "stdout",
     "output_type": "stream",
     "text": [
      "SELECT\n",
      "    avg(lp)\n",
      "FROM\n",
      "    nyse.prices\n",
      "WHERE\n",
      "    s = 'tsla'\n",
      "    AND date(t) = '2024-01-23';\n"
     ]
    },
    {
     "data": {
      "text/plain": "<IPython.core.display.HTML object>",
      "text/html": "<table border=\"1\" class=\"dataframe\">\n  <thead>\n    <tr style=\"text-align: right;\">\n      <th>EXPR_0</th>\n    </tr>\n  </thead>\n  <tbody>\n    <tr>\n      <td>210.404255</td>\n    </tr>\n  </tbody>\n</table>"
     },
     "metadata": {},
     "output_type": "display_data"
    }
   ],
   "source": [
    "# Here you must ask a question relevant to the LLM context provided in the prompt template.\n",
    "#response: SqlResponse = chain.invoke({\"input\": '''what stock has traded with the highest volume today?'''})\n",
    "#response: SqlResponse = chain.invoke({\"input\": '''what stock has traded with the highest average today?'''})\n",
    "response: KineticaSqlResponse = chain.invoke({\"input\": '''what was the average price for tsla yesterday?'''})\n",
    "print(response.sql)\n",
    "display(HTML(response.dataframe.to_html(index=False)))"
   ],
   "metadata": {
    "collapsed": false,
    "ExecuteTime": {
     "end_time": "2024-02-27T18:44:02.117100Z",
     "start_time": "2024-02-27T18:43:58.946495Z"
    }
   },
   "id": "dffa6d2015344c0",
   "execution_count": 13
  },
  {
   "cell_type": "code",
   "outputs": [
    {
     "name": "stdout",
     "output_type": "stream",
     "text": [
      "SELECT\n",
      "    s,\n",
      "    price_increase_percentage\n",
      "FROM\n",
      "    (\n",
      "        SELECT\n",
      "            s,\n",
      "            lp AS current_sale_price,\n",
      "            LAG(lp) OVER (PARTITION BY s ORDER BY t) AS previous_sale_price,\n",
      "            (((lp - LAG(lp) OVER (PARTITION BY s ORDER BY t)) / LAG(lp) OVER (PARTITION BY s ORDER BY t)) * 100) AS price_increase_percentage\n",
      "        FROM \n",
      "            nyse.prices\n",
      "        WHERE\n",
      "            date(t) = '2024-01-23'\n",
      "            AND lp IS NOT NULL) AS PriceChanges\n",
      "WHERE\n",
      "    price_increase_percentage > 12\n",
      "ORDER BY\n",
      "    price_increase_percentage desc\n",
      "LIMIT 10\n"
     ]
    },
    {
     "data": {
      "text/plain": "<IPython.core.display.HTML object>",
      "text/html": "<table border=\"1\" class=\"dataframe\">\n  <thead>\n    <tr style=\"text-align: right;\">\n      <th>s</th>\n      <th>price_increase_percentage</th>\n    </tr>\n  </thead>\n  <tbody>\n    <tr>\n      <td>evax</td>\n      <td>71.461189</td>\n    </tr>\n    <tr>\n      <td>zjyl</td>\n      <td>64.458687</td>\n    </tr>\n    <tr>\n      <td>zvzzt</td>\n      <td>40.467594</td>\n    </tr>\n    <tr>\n      <td>cslmw</td>\n      <td>36.827595</td>\n    </tr>\n    <tr>\n      <td>rvsnw</td>\n      <td>29.999992</td>\n    </tr>\n    <tr>\n      <td>fazew</td>\n      <td>28.476822</td>\n    </tr>\n    <tr>\n      <td>winvr</td>\n      <td>28.241566</td>\n    </tr>\n    <tr>\n      <td>dtss</td>\n      <td>25.641033</td>\n    </tr>\n    <tr>\n      <td>cslmr</td>\n      <td>23.478262</td>\n    </tr>\n    <tr>\n      <td>nuwe</td>\n      <td>22.290388</td>\n    </tr>\n  </tbody>\n</table>"
     },
     "metadata": {},
     "output_type": "display_data"
    }
   ],
   "source": [
    "response: KineticaSqlResponse = chain.invoke({\"input\": '''Show me a top 10 list of stocks from today whose value increased by at least 12%'''})\n",
    "print(response.sql)\n",
    "display(HTML(response.dataframe.to_html(index=False)))"
   ],
   "metadata": {
    "collapsed": false,
    "ExecuteTime": {
     "end_time": "2024-02-27T18:44:14.464434Z",
     "start_time": "2024-02-27T18:44:05.953439Z"
    }
   },
   "id": "f1097a143c10ffee",
   "execution_count": 14
  },
  {
   "cell_type": "code",
   "outputs": [
    {
     "data": {
      "text/plain": "<Axes: xlabel='t'>"
     },
     "execution_count": 15,
     "metadata": {},
     "output_type": "execute_result"
    },
    {
     "data": {
      "text/plain": "<Figure size 640x480 with 1 Axes>",
      "image/png": "[encoded data removed]"
     },
     "metadata": {},
     "output_type": "display_data"
    }
   ],
   "source": [
    "response: KineticaSqlResponse = chain.invoke({\"input\": '''find all tsla stock trades between 2024-01-29 13:00:00 and 2024-01-29 20:00:00 where the price is recorded'''})\n",
    "response.dataframe.plot.line(x='t', y='lp')"
   ],
   "metadata": {
    "collapsed": false,
    "ExecuteTime": {
     "end_time": "2024-02-27T18:44:22.993457Z",
     "start_time": "2024-02-27T18:44:16.081208Z"
    }
   },
   "id": "773c58a7c2600461",
   "execution_count": 15
  },
  {
   "cell_type": "code",
   "outputs": [
    {
     "name": "stdout",
     "output_type": "stream",
     "text": [
      "SELECT\n",
      "    ts_bkt,\n",
      "    symbol,\n",
      "    dot_product(ap_vec,(select string(ap_vec) from (select * from nyse.vector where ts_bkt = '2024-01-29 14:25:00.000' and symbol ='sofi' limit 1))) as d1\n",
      "FROM\n",
      "    nyse.vector\n",
      "ORDER BY\n",
      "    d1 asc\n",
      "LIMIT\n",
      "    5;\n"
     ]
    },
    {
     "data": {
      "text/plain": "<IPython.core.display.HTML object>",
      "text/html": "<table border=\"1\" class=\"dataframe\">\n  <thead>\n    <tr style=\"text-align: right;\">\n      <th>ts_bkt</th>\n      <th>symbol</th>\n      <th>d1</th>\n    </tr>\n  </thead>\n  <tbody>\n    <tr>\n      <td>2023-06-28 16:00:00</td>\n      <td>alny</td>\n      <td>-365788.0625</td>\n    </tr>\n    <tr>\n      <td>2023-06-27 13:30:00</td>\n      <td>tqqq</td>\n      <td>-356100.875</td>\n    </tr>\n    <tr>\n      <td>2023-12-20 19:50:00</td>\n      <td>qqq</td>\n      <td>-322043.28125</td>\n    </tr>\n    <tr>\n      <td>2023-06-22 13:35:00</td>\n      <td>tqqq</td>\n      <td>-309997.6875</td>\n    </tr>\n    <tr>\n      <td>2023-07-13 13:30:00</td>\n      <td>tqqq</td>\n      <td>-307590.6875</td>\n    </tr>\n  </tbody>\n</table>"
     },
     "metadata": {},
     "output_type": "display_data"
    }
   ],
   "source": [
    "response: KineticaSqlResponse = chain.invoke({\"input\": '''find similar patterns to sofi at 2024-01-29 14:25:00.000'''})\n",
    "print(response.sql)\n",
    "display(HTML(response.dataframe.to_html(index=False)))"
   ],
   "metadata": {
    "collapsed": false,
    "ExecuteTime": {
     "end_time": "2024-02-27T18:44:32.002629Z",
     "start_time": "2024-02-27T18:44:25.908292Z"
    }
   },
   "id": "88eaf418e1b411ef",
   "execution_count": 16
  },
  {
   "cell_type": "code",
   "outputs": [
    {
     "name": "stdout",
     "output_type": "stream",
     "text": [
      "SELECT t, s, lp\n",
      "FROM nyse.prices\n",
      "WHERE s ='tqqq'\n",
      "AND t BETWEEN '2023-07-07 14:30:00' AND '2023-07-07 14:40:00'\n",
      "AND lp IS NOT NULL;\n"
     ]
    },
    {
     "data": {
      "text/plain": "<Axes: xlabel='t'>"
     },
     "execution_count": 17,
     "metadata": {},
     "output_type": "execute_result"
    },
    {
     "data": {
      "text/plain": "<Figure size 640x480 with 1 Axes>",
      "image/png": "[encoded data removed]"
     },
     "metadata": {},
     "output_type": "display_data"
    }
   ],
   "source": [
    "response: KineticaSqlResponse = chain.invoke({\"input\": '''find all tqqq stock trades between 2023-07-07 14:30:00 and 2023-07-07 14:40:00 where the price is recorded'''})\n",
    "print(response.sql)\n",
    "response.dataframe.plot.line(x='t', y='lp')"
   ],
   "metadata": {
    "collapsed": false,
    "ExecuteTime": {
     "end_time": "2024-02-27T18:44:39.357709Z",
     "start_time": "2024-02-27T18:44:34.238279Z"
    }
   },
   "id": "2c84c4ae11ac3ac6",
   "execution_count": 17
  },
  {
   "cell_type": "markdown",
   "source": [
    "### Get Kinetica LLM and Nemo talking to each other\n",
    "- Helper code is in [./kinetica/kineai.py]() and can be referenced to understand how the two LLM's are connected to each other\n",
    "- The intent with this exercise is to create a \"Man in the Middle\" RAG that provides us with the best features of two different LLM's, one for generating accurate SQL, then other to carry on a conversation and summarize tabular result sets when appropriate"
   ],
   "metadata": {
    "collapsed": false
   },
   "id": "a8a6bea3f41d2f5a"
  },
  {
   "cell_type": "code",
   "outputs": [
    {
     "name": "stderr",
     "output_type": "stream",
     "text": [
      "INFO:SqlAssistLLM:Connected to http://172.31.33.30:9191. (version 7.2.0.1)\n"
     ]
    }
   ],
   "source": [
    "import importlib\n",
    "import kinetica.kineai\n",
    "\n",
    "importlib.reload(kinetica.kineai)\n",
    "kineticallm = kinetica.kineai.KineticaLLM(f'nyse.nyse_vector_ctxt_{extension}')"
   ],
   "metadata": {
    "collapsed": false,
    "ExecuteTime": {
     "end_time": "2024-02-29T15:24:53.667687Z",
     "start_time": "2024-02-29T15:24:53.477537Z"
    }
   },
   "id": "2b28bee61dc8379e",
   "execution_count": 25
  },
  {
   "cell_type": "markdown",
   "source": [
    "### The Nemo context object\n",
    "- This is how we adjust how the LLM will react to our specific situation.\n",
    "- Many samples are provided so that Nemo will be able to take in plain english, pass it to Kinetica's LLM, then summarize the results\n",
    "- Note that small changes can have large effects.\n",
    "- Feel free to experiment with this context to see what the effects are"
   ],
   "metadata": {
    "collapsed": false
   },
   "id": "ff259943fb9cd120"
  },
  {
   "cell_type": "code",
   "outputs": [],
   "source": [
    "system = \"\"\" KineticAI is a cheerful AI assistant for engaging in a conversation between an LLM using the Nemo framework and the Kinetica LLM.  The Kinetica\n",
    "LLM is designed to translate natural language questions into SQL queries. \n",
    "\n",
    "In addition to responding with  natural language it is able to ask questions to a database AI named SqlAssist that can query and summarize the logs. \n",
    "If it responds with a \"KineticaLLM |  question\" where question is sent to the SqlAssist AI. The SqlAssist AI will respond with an answer \n",
    "to the question in JSON format to the question made to SqlAssist by KineticAI.\n",
    "\n",
    "when presented with a question, you should prefix your response with \"KineticaLLM | \"\n",
    "if a sentence ends in a \"?\", you should prefix your response with \"KineticaLLM | \"\n",
    "\n",
    "Consider the following example where a user asks KineticAI a question and KineticAI asks a followup question to SqlAssist. KineticAI uses the response from \n",
    "SqlAssist to answer the user's question.\n",
    "\n",
    "user: KineticaLLM | [{\"EXPR_0\": 5.4}]\n",
    "assistant: The answer is 5.4\n",
    "\"\"\"\n",
    "#firt 4 pair hwo to call Kinetika (this )\n",
    "# Ilustrate this better where you have a bigger paragraph\n",
    "# Have the content asnwer. \n",
    "context0 = [dict(role=\"system\", content=system),\n",
    "            dict(role=\"user\", content='KineticaLLM | [{\"EXPR_0\": 5.4}]'),\n",
    "            dict(role=\"assistant\", content='The answer is 5.4'),\n",
    "            dict(role=\"user\", content='KineticaLLM | [{\"ts_bkt\": \"2024-02-07 19:35:00.000\", \"symbol\": \"aapl\", \"d1\": -6467.2607421875}, {\"ts_bkt\": \"2024-02-07 19:30:00.000\", \"symbol\": \"aapl\", \"d1\": -6406.75341796875}, {\"ts_bkt\": \"2024-02-07 19:45:00.000\", \"symbol\": \"tsla\", \"d1\": -6331.88671875}, {\"ts_bkt\": \"2024-02-07 19:40:00.000\", \"symbol\": \"tsla\", \"d1\": -6128.375}]'),\n",
    "            dict(role=\"assistant\", content='It looks like aapl and tsla might be good choices'),\n",
    "            dict(role='user', content='KineticaLLM |  [{\"s\": \"nvr\"}]'),\n",
    "            dict(role='assistant', content='It looks like NVR might be a good choice')]"
   ],
   "metadata": {
    "collapsed": false,
    "ExecuteTime": {
     "end_time": "2024-02-27T18:44:50.284062Z",
     "start_time": "2024-02-27T18:44:50.243091Z"
    }
   },
   "id": "88dc2c91d05d8faf",
   "execution_count": 19
  },
  {
   "cell_type": "code",
   "outputs": [
    {
     "name": "stderr",
     "output_type": "stream",
     "text": [
      "INFO:NemoChatLLM:user: KineticaLLM |  [{\"s\": \"nvr\"}] (tokens: 879/3217)\n",
      "INFO:NemoChatLLM:assistant: It looks like NVR might be a good choice (tokens: 962/3134)\n"
     ]
    }
   ],
   "source": [
    "question = 'what stock symbol other than Apple has the highest price within the last 15 hours?'\n",
    "response = kineticallm.chat(context0, question)"
   ],
   "metadata": {
    "collapsed": false,
    "ExecuteTime": {
     "end_time": "2024-02-27T18:44:56.141301Z",
     "start_time": "2024-02-27T18:44:51.701367Z"
    }
   },
   "id": "fd03badf6114150a",
   "execution_count": 20
  },
  {
   "cell_type": "code",
   "outputs": [
    {
     "name": "stderr",
     "output_type": "stream",
     "text": [
      "INFO:SqlAssistLLM:Query: find potential buying opportunities over the next 12 hours?\n",
      "INFO:SqlAssistLLM:SQL: SELECT\n",
      "    ts_bkt,\n",
      "    symbol,\n",
      "    dot_product(ap_vec,(select string(ap_vec) from (select * from nyse.vector where ts_bkt = '2024-01-29 14:25:00.000' and symbol ='sofi' limit 1))) as d1\n",
      "FROM\n",
      "    nyse.vector\n",
      "WHERE\n",
      "    ts_bkt >= now() - interval '12' hours\n",
      "ORDER BY\n",
      "    d1 asc\n",
      "LIMIT\n",
      "    5;\n",
      "INFO:NemoChatLLM:user: KineticaLLM |  [{\"ts_bkt\": \"2024-02-27 15:15:00.000\", \"symbol\": \"qqq\", \"d1\": -9383.5732421875}, {\"ts_bkt\": \"2024-02-27 15:20:00.000\", \"symbol\": \"qqq\", \"d1\": -9164.275390625}, {\"ts_bkt\": \"2024-02-27 15:55:00.000\", \"symbol\": \"qqq\", \"d1\": -8013.435546875}, {\"ts_bkt\": \"2024-02-27 17:50:00.000\", \"symbol\": \"qqq\", \"d1\": -7994.7890625}, {\"ts_bkt\": \"2024-02-27 18:05:00.000\", \"symbol\": \"qqq\", \"d1\": -7989.6640625}] (tokens: 1159/2937)\n",
      "INFO:NemoChatLLM:assistant: It looks like qqq might be a good choice (tokens: 1242/2854)\n"
     ]
    }
   ],
   "source": [
    "question = 'find potential buying opportunities over the next 12 hours?'\n",
    "response = kineticallm.chat(context0, question)"
   ],
   "metadata": {
    "collapsed": false,
    "ExecuteTime": {
     "end_time": "2024-02-27T18:45:10.344717Z",
     "start_time": "2024-02-27T18:45:03.035911Z"
    }
   },
   "id": "b52d4248ddeb797d",
   "execution_count": 21
  },
  {
   "cell_type": "code",
   "outputs": [],
   "source": [
    "chainsql = prompt_template | kinetica_llm"
   ],
   "metadata": {
    "collapsed": false,
    "ExecuteTime": {
     "end_time": "2024-02-27T18:45:13.565917Z",
     "start_time": "2024-02-27T18:45:13.554102Z"
    }
   },
   "id": "f738734a359ac289",
   "execution_count": 22
  },
  {
   "cell_type": "code",
   "outputs": [
    {
     "name": "stdout",
     "output_type": "stream",
     "text": [
      "SELECT t, s, lp\n",
      "FROM nyse.prices\n",
      "WHERE s ='tqqq'\n",
      "AND t BETWEEN '2023-07-07 14:30:00' AND '2023-07-07 14:40:00'\n",
      "AND lp IS NOT NULL;\n"
     ]
    }
   ],
   "source": [
    "response: KineticaSqlResponse = chainsql.invoke({\"input\": '''find all tqqq stock trades between 2023-07-07 14:30:00 and 2023-07-07 14:40:00 where the price is recorded'''})\n",
    "print(response.content)"
   ],
   "metadata": {
    "collapsed": false,
    "ExecuteTime": {
     "end_time": "2024-02-27T18:45:22.754983Z",
     "start_time": "2024-02-27T18:45:18.354029Z"
    }
   },
   "id": "73542550aebfda0b",
   "execution_count": 23
  },
  {
   "cell_type": "code",
   "outputs": [],
   "source": [],
   "metadata": {
    "collapsed": false
   },
   "id": "718b08116796992c"
  }
 ],
 "metadata": {
  "kernelspec": {
   "display_name": "Python 3",
   "language": "python",
   "name": "python3"
  },
  "language_info": {
   "codemirror_mode": {
    "name": "ipython",
    "version": 2
   },
   "file_extension": ".py",
   "mimetype": "text/x-python",
   "name": "python",
   "nbconvert_exporter": "python",
   "pygments_lexer": "ipython2",
   "version": "2.7.6"
  }
 },
 "nbformat": 4,
 "nbformat_minor": 5
}
