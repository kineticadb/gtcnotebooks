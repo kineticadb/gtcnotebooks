{
 "cells": [
  {
   "cell_type": "markdown",
   "source": [
    "# Interacting with Kinetica and the SQLAssist LLM\n",
    "### Install required packages"
   ],
   "metadata": {
    "collapsed": false
   },
   "id": "ac523cadf7ba3964"
  },
  {
   "cell_type": "code",
   "outputs": [],
   "source": [
    "!pip install ipykernel ipywidgets gpudb langchain langchain_openai nemollm==0.3.5 colorlog \"langchain-kinetica @ git+https://git@github.com/kineticadb/langchain-kinetica.git\""
   ],
   "metadata": {
    "collapsed": false
   },
   "id": "b86d7544495b3ed8",
   "execution_count": null
  },
  {
   "cell_type": "markdown",
   "source": [
    "### Connect to Kinetica and the LLM"
   ],
   "metadata": {
    "collapsed": false
   },
   "id": "d46bcf122a32a810"
  },
  {
   "cell_type": "code",
   "outputs": [],
   "source": [
    "from langchain_core.prompts import ChatPromptTemplate\n",
    "from langchain_kinetica import KineticaChatLLM, KineticaSqlOutputParser, SqlResponse\n",
    "\n",
    "# create the Kinetica connection\n",
    "kdbc = KineticaChatLLM._create_kdbc(host=\"https://demo72.kinetica.com/_gpudb\", login=\"gtc\", password=\"Kinetica123!\")\n",
    "\n",
    "# create the Kinetica LLM\n",
    "kinetica_llm = KineticaChatLLM(kdbc=kdbc)\n",
    "\n",
    "# Set the context to use\n",
    "kinetica_ctx = 'raceday.raceday_ui_ctxt'"
   ],
   "metadata": {
    "collapsed": false
   },
   "id": "52bd60069b88cfdf",
   "execution_count": null
  },
  {
   "cell_type": "markdown",
   "source": [
    "### Set up the context"
   ],
   "metadata": {
    "collapsed": false
   },
   "id": "6e50ce1e8fe891d1"
  },
  {
   "cell_type": "code",
   "outputs": [],
   "source": [
    "# load the context from the database\n",
    "ctx_messages = kinetica_llm.load_messages_from_context(kinetica_ctx)\n",
    "\n",
    "# Add the input prompt. This is where input question will be substituted.\n",
    "ctx_messages.append((\"human\", \"{input}\"))\n",
    "\n",
    "# Create the prompt template.\n",
    "prompt_template = ChatPromptTemplate.from_messages(ctx_messages)\n",
    "prompt_template.pretty_print()\n",
    "\n",
    "# create the chain. \n",
    "# note: The KineticaSqlOutputParser will execute the SQL statement and is optional.\n",
    "chain = prompt_template | kinetica_llm | KineticaSqlOutputParser(kdbc=kdbc)"
   ],
   "metadata": {
    "collapsed": false
   },
   "id": "9f4d6fa860255236",
   "execution_count": null
  },
  {
   "cell_type": "markdown",
   "source": [
    "### A simple question"
   ],
   "metadata": {
    "collapsed": false
   },
   "id": "673519197870f0e0"
  },
  {
   "cell_type": "code",
   "outputs": [
    {
     "data": {
      "text/plain": "<IPython.core.display.HTML object>",
      "text/html": "<table border=\"1\" class=\"dataframe\">\n  <thead>\n    <tr style=\"text-align: right;\">\n      <th>ts</th>\n      <th>videopath</th>\n    </tr>\n  </thead>\n  <tbody>\n    <tr>\n      <td>2023-10-30 19:27:46</td>\n      <td>https://kinetica-raceday.s3.amazonaws.com/raceday1/forza_images/output-2-15.mp4</td>\n    </tr>\n    <tr>\n      <td>2023-10-30 19:27:51</td>\n      <td>https://kinetica-raceday.s3.amazonaws.com/raceday1/forza_images/output-2-16.mp4</td>\n    </tr>\n    <tr>\n      <td>2023-10-30 19:28:46</td>\n      <td>https://kinetica-raceday.s3.amazonaws.com/raceday1/forza_images/output-2-27.mp4</td>\n    </tr>\n    <tr>\n      <td>2023-10-30 19:29:26</td>\n      <td>https://kinetica-raceday.s3.amazonaws.com/raceday1/forza_images/output-2-35.mp4</td>\n    </tr>\n    <tr>\n      <td>2023-10-30 19:42:25</td>\n      <td>https://kinetica-raceday.s3.amazonaws.com/raceday1/forza_images/output-3-50.mp4</td>\n    </tr>\n  </tbody>\n</table>"
     },
     "metadata": {},
     "output_type": "display_data"
    }
   ],
   "source": [
    "from IPython.display import display, HTML\n",
    "\n",
    "# Here you must ask a question relevant to the LLM context provided in the prompt template.\n",
    "response: SqlResponse = chain.invoke({\"input\": \"show me 5 videos where a crash is likely to occur\"})\n",
    "display(HTML(response.dataframe.to_html(index=False)))"
   ],
   "metadata": {
    "collapsed": false,
    "ExecuteTime": {
     "end_time": "2024-02-07T02:00:21.241379Z",
     "start_time": "2024-02-07T02:00:15.852334Z"
    }
   },
   "id": "5ed920504716d3d2",
   "execution_count": 74
  },
  {
   "cell_type": "markdown",
   "source": [
    "# Vector Similarity Search\n",
    "First, we need to generate our vector embeddings.  For this exercise, we will be using the [catch22 library](https://time-series-features.gitbook.io/catch22-features/), which is, as you'd expect, a collection of 22 different features specifically focused on time-series data."
   ],
   "metadata": {
    "collapsed": false
   },
   "id": "5096dd1ec4bfec23"
  },
  {
   "cell_type": "code",
   "outputs": [],
   "source": [
    "import pycatch22\n",
    "import gpudb\n",
    "import json\n",
    "import math\n",
    "\n",
    "def c22(ts_data: list) -> list:\n",
    "    timeseries = [pycatch22.CO_f1ecac(ts_data),\n",
    "                  pycatch22.CO_trev_1_num(ts_data),\n",
    "                  pycatch22.CO_FirstMin_ac(ts_data),\n",
    "                  pycatch22.CO_HistogramAMI_even_2_5(ts_data),\n",
    "                  pycatch22.DN_Mean(ts_data),\n",
    "                  pycatch22.DN_Spread_Std(ts_data),\n",
    "                  pycatch22.DN_HistogramMode_5(ts_data),\n",
    "                  pycatch22.DN_HistogramMode_10(ts_data),\n",
    "                  pycatch22.DN_OutlierInclude_n_001_mdrmd(ts_data),\n",
    "                  pycatch22.SB_BinaryStats_diff_longstretch0(ts_data),\n",
    "                  pycatch22.SB_BinaryStats_mean_longstretch1(ts_data),\n",
    "                  pycatch22.SB_MotifThree_quantile_hh(ts_data),\n",
    "                  pycatch22.SB_TransitionMatrix_3ac_sumdiagcov(ts_data),\n",
    "                  pycatch22.SC_FluctAnal_2_dfa_50_1_2_logi_prop_r1(ts_data),\n",
    "                  pycatch22.SC_FluctAnal_2_rsrangefit_50_1_logi_prop_r1(ts_data),\n",
    "                  pycatch22.SP_Summaries_welch_rect_area_5_1(ts_data),\n",
    "                  pycatch22.SP_Summaries_welch_rect_centroid(ts_data),\n",
    "                  pycatch22.FC_LocalSimple_mean1_tauresrat(ts_data),\n",
    "                  pycatch22.FC_LocalSimple_mean3_stderr(ts_data),\n",
    "                  pycatch22.IN_AutoMutualInfoStats_40_gaussian_fmmi(ts_data),\n",
    "                  pycatch22.MD_hrv_classic_pnn40(ts_data),\n",
    "                  pycatch22.PD_PeriodicityWang_th0_01(ts_data)]\n",
    "\n",
    "    return timeseries"
   ],
   "metadata": {
    "collapsed": false
   },
   "id": "6860574bf0d11391",
   "execution_count": null
  },
  {
   "cell_type": "markdown",
   "source": [
    "### Connect to Kinetica"
   ],
   "metadata": {
    "collapsed": false
   },
   "id": "8bbc3bdeff6d8189"
  },
  {
   "cell_type": "code",
   "outputs": [],
   "source": [
    "db = gpudb.GPUdb(host='https://demo72.kinetica.com/_gpudb',\n",
    "                 username='gtc',\n",
    "                 password='Kinetica123!')"
   ],
   "metadata": {
    "collapsed": false
   },
   "id": "cd713f30f9c8c8a1",
   "execution_count": null
  },
  {
   "cell_type": "markdown",
   "source": [
    "### Create the vector table schema"
   ],
   "metadata": {
    "collapsed": false
   },
   "id": "5ca44290f9050af7"
  },
  {
   "cell_type": "code",
   "outputs": [],
   "source": [
    "# we are going to truncate the table\n",
    "if db.has_table(\"raceday.vectors\")[\"table_exists\"]:\n",
    "    db.clear_table(table_name=\"raceday.vectors\")\n",
    "\n",
    "schema = [\n",
    "    [\"ts_bkt\"             , \"string\", \"datetime\"],\n",
    "    [\"TireSlipRatioFl_Vec\", \"bytes\" , \"vector(22)\"],\n",
    "    [\"TireSlipRatioFr_Vec\", \"bytes\" , \"vector(22)\"],\n",
    "    [\"TireSlipRatioRl_Vec\", \"bytes\" , \"vector(22)\"],\n",
    "    [\"TireSlipRatioRr_Vec\", \"bytes\" , \"vector(22)\"],\n",
    "    [\"AccelerationX_Vec\"  , \"bytes\" , \"vector(22)\"],\n",
    "    [\"AccelerationY_Vec\"  , \"bytes\" , \"vector(22)\"],\n",
    "    [\"AccelerationZ_Vec\"  , \"bytes\" , \"vector(22)\"],\n",
    "    [\"VelocityX_Vec\"      , \"bytes\" , \"vector(22)\"],\n",
    "    [\"VelocityY_Vec\"      , \"bytes\" , \"vector(22)\"],\n",
    "    [\"VelocityZ_Vec\"      , \"bytes\" , \"vector(22)\"],\n",
    "    [\"CombinedRace_Vec\"   , \"bytes\" , \"vector(220)\"]\n",
    "]\n",
    "\n",
    "tableObj = gpudb.GPUdbTable(\n",
    "    _type=schema,\n",
    "    name=\"raceday.vectors\",\n",
    "    use_multihead_io=True,\n",
    "    multihead_ingest_batch_size=5000,\n",
    "    db=db\n",
    ")"
   ],
   "metadata": {
    "collapsed": false
   },
   "id": "a97b769cec1cc817",
   "execution_count": null
  },
  {
   "cell_type": "markdown",
   "source": [
    "### Now that we have created our vector table, we need to loop through all the time-series data, convert to our 22-dimensional vector embedding space, then insert into Kinetica"
   ],
   "metadata": {
    "collapsed": false
   },
   "id": "3abb30fb204eae1f"
  },
  {
   "cell_type": "code",
   "outputs": [],
   "source": [
    "has_more = True\n",
    "offset = 0\n",
    "while has_more:\n",
    "    result = None\n",
    "    try:\n",
    "        result = db.execute_sql('''select\n",
    "       time_bucket(interval 5 second, timestamp) as ts_bkt,\n",
    "       TireSlipRatioFl,\n",
    "       TireSlipRatioFr,\n",
    "       TireSlipRatioRl,\n",
    "       TireSlipRatioRr,\n",
    "       AccelerationX,\n",
    "       AccelerationY,\n",
    "       AccelerationZ,\n",
    "       VelocityX,\n",
    "       VelocityY,\n",
    "       VelocityZ\n",
    "    from\n",
    "        raceday.dash1''',\n",
    "                                encoding='json',\n",
    "                                offset=offset)\n",
    "\n",
    "    except gpudb.GPUdbException as gpudberror:\n",
    "        print(str(gpudberror))\n",
    "        \n",
    "    if result is not None:\n",
    "        j = json.loads(result.json_encoded_response)\n",
    "        flat_result = {}\n",
    "        count = 0\n",
    "\n",
    "        has_more = result.has_more_records\n",
    "        offset += len(j['column_1'])\n",
    "        \n",
    "        for count in range(0, len(j['column_1'])):\n",
    "            if j['column_1'][count] not in flat_result:\n",
    "                flat_result[j['column_1'][count]] = {\n",
    "                    'TireSlipRatioFl_Vec': [],\n",
    "                    'TireSlipRatioFr_Vec': [],\n",
    "                    'TireSlipRatioRl_Vec': [],\n",
    "                    'TireSlipRatioRr_Vec': [],\n",
    "                    'AccelerationX_Vec':   [],\n",
    "                    'AccelerationY_Vec':   [],\n",
    "                    'AccelerationZ_Vec':   [],\n",
    "                    'VelocityX_Vec':       [],\n",
    "                    'VelocityY_Vec':       [],\n",
    "                    'VelocityZ_Vec':       [],\n",
    "                    'CombinedRace_Vec':    []\n",
    "                }\n",
    "\n",
    "            flat_result[j['column_1'][count]]['TireSlipRatioFl_Vec'].append(j['column_2'][count])\n",
    "            flat_result[j['column_1'][count]]['TireSlipRatioFr_Vec'].append(j['column_3'][count])\n",
    "            flat_result[j['column_1'][count]]['TireSlipRatioRl_Vec'].append(j['column_4'][count])\n",
    "            flat_result[j['column_1'][count]]['TireSlipRatioRr_Vec'].append(j['column_5'][count])\n",
    "            flat_result[j['column_1'][count]]['AccelerationX_Vec'].append(j['column_6'][count])\n",
    "            flat_result[j['column_1'][count]]['AccelerationY_Vec'].append(j['column_7'][count])\n",
    "            flat_result[j['column_1'][count]]['AccelerationZ_Vec'].append(j['column_8'][count])\n",
    "            flat_result[j['column_1'][count]]['VelocityX_Vec'].append(j['column_9'][count])\n",
    "            flat_result[j['column_1'][count]]['VelocityY_Vec'].append(j['column_10'][count])\n",
    "            flat_result[j['column_1'][count]]['VelocityZ_Vec'].append(j['column_11'][count])\n",
    "            \n",
    "        for key, value in flat_result.items():\n",
    "            for k2, v2 in value.items():\n",
    "                if k2 != 'CombinedRace_Vec':\n",
    "                    vec = c22(v2)\n",
    "                    vec = [0 if math.isnan(x) else x for x in vec]\n",
    "                    flat_result[key][k2] = vec\n",
    "                    flat_result[key]['CombinedRace_Vec'].extend(vec)\n",
    "                    \n",
    "        for key, value in flat_result.items():\n",
    "            json_record = json.dumps({'ts_bkt':              key,\n",
    "                                      'TireSlipRatioFl_Vec': value['TireSlipRatioFl_Vec'],\n",
    "                                      'TireSlipRatioFr_Vec': value['TireSlipRatioFr_Vec'],\n",
    "                                      'TireSlipRatioRl_Vec': value['TireSlipRatioRl_Vec'],\n",
    "                                      'TireSlipRatioRr_Vec': value['TireSlipRatioRr_Vec'],\n",
    "                                      'AccelerationX_Vec':   value['AccelerationX_Vec'],\n",
    "                                      'AccelerationY_Vec':   value['AccelerationY_Vec'],\n",
    "                                      'AccelerationZ_Vec':   value['AccelerationZ_Vec'],\n",
    "                                      'VelocityX_Vec':       value['VelocityX_Vec'],\n",
    "                                      'VelocityY_Vec':       value['VelocityY_Vec'],\n",
    "                                      'VelocityZ_Vec':       value['VelocityZ_Vec'],\n",
    "                                      'CombinedRace_Vec':    value['CombinedRace_Vec']\n",
    "                                      })\n",
    "            response = db.insert_records_from_json(\n",
    "                table_name='raceday.vectors',\n",
    "                json_records=json_record)\n",
    "tableObj.flush_data_to_server()"
   ],
   "metadata": {
    "collapsed": false
   },
   "id": "e8a30a5fcf6cc5be",
   "execution_count": null
  },
  {
   "cell_type": "markdown",
   "source": [
    "### Using SQLAssist to use vector similarity search"
   ],
   "metadata": {
    "collapsed": false
   },
   "id": "7dd3559a624c3566"
  },
  {
   "cell_type": "code",
   "outputs": [
    {
     "data": {
      "text/plain": "<IPython.core.display.HTML object>",
      "text/html": "<table border=\"1\" class=\"dataframe\">\n  <thead>\n    <tr style=\"text-align: right;\">\n      <th>ts_bkt</th>\n      <th>videopath</th>\n      <th>similarity</th>\n    </tr>\n  </thead>\n  <tbody>\n    <tr>\n      <td>2023-10-30 19:27:50</td>\n      <td>https://kinetica-raceday.s3.amazonaws.com/raceday1/forza_images/output-2-15.mp4</td>\n      <td>1.192093e-07</td>\n    </tr>\n    <tr>\n      <td>2023-10-30 19:42:20</td>\n      <td>https://kinetica-raceday.s3.amazonaws.com/raceday1/forza_images/output-3-49.mp4</td>\n      <td>4.190129e-02</td>\n    </tr>\n    <tr>\n      <td>2023-10-30 19:24:00</td>\n      <td>https://kinetica-raceday.s3.amazonaws.com/raceday1/forza_images/output-1-03.mp4</td>\n      <td>6.220514e-02</td>\n    </tr>\n    <tr>\n      <td>2023-10-30 19:42:00</td>\n      <td>https://kinetica-raceday.s3.amazonaws.com/raceday1/forza_images/output-3-45.mp4</td>\n      <td>7.793921e-02</td>\n    </tr>\n    <tr>\n      <td>2023-10-30 19:40:55</td>\n      <td>https://kinetica-raceday.s3.amazonaws.com/raceday1/forza_images/output-3-32.mp4</td>\n      <td>8.653277e-02</td>\n    </tr>\n  </tbody>\n</table>"
     },
     "metadata": {},
     "output_type": "display_data"
    }
   ],
   "source": [
    "# Here you must ask a question relevant to the LLM context provided in the prompt template.\n",
    "response: SqlResponse = chain.invoke({\"input\": 'find videos similar to https://kinetica-raceday.s3.amazonaws.com/raceday1/forza_images/output-2-15.mp4'})\n",
    "display(HTML(response.dataframe.to_html(index=False)))"
   ],
   "metadata": {
    "collapsed": false,
    "ExecuteTime": {
     "end_time": "2024-02-07T02:13:39.975531Z",
     "start_time": "2024-02-07T02:13:32.599859Z"
    }
   },
   "id": "5f5590fb2c0dc95b",
   "execution_count": 75
  },
  {
   "cell_type": "markdown",
   "source": [
    "# Interacting with Nemo\n",
    "Now we want to do something interesting, so instead of just converting natural language to SQL, lets get two LLM's talking to each other"
   ],
   "metadata": {
    "collapsed": false
   },
   "id": "f59c30ec5ac3a552"
  },
  {
   "cell_type": "code",
   "outputs": [
    {
     "name": "stderr",
     "output_type": "stream",
     "text": [
      "INFO:SqlAssistLLM:Connected to http://172.31.33.30:9191. (version 7.2.0.0)\n"
     ]
    }
   ],
   "source": [
    "import importlib\n",
    "import kinetica.kineai\n",
    "from kinetica.kineai import SqlAssistLLM\n",
    "\n",
    "importlib.reload(kinetica.kineai)\n",
    "kineticallm = kinetica.kineai.KineticaLLM('raceday.raceday_ui_ctxt')"
   ],
   "metadata": {
    "collapsed": false,
    "ExecuteTime": {
     "end_time": "2024-02-07T17:35:51.282032Z",
     "start_time": "2024-02-07T17:35:51.097443Z"
    }
   },
   "id": "423da5c6d446cdc3",
   "execution_count": 89
  },
  {
   "cell_type": "markdown",
   "source": [
    "### Create the context object"
   ],
   "metadata": {
    "collapsed": false
   },
   "id": "8338201092efaed6"
  },
  {
   "cell_type": "code",
   "outputs": [],
   "source": [
    "system = \"\"\" KineticAI is a cheerful AI assistant for engaging in a conversation between an LLM using the Nemo framework and the Kinetica LLM.  The Kinetica\n",
    "LLM is designed to translate natural language questions into SQL queries. \n",
    "\n",
    "In addition to responding with  natural language it is able to ask questions to a database AI named SqlAssist that can query and summarize the logs. \n",
    "If it responds with a \"KineticaLLM |  question\" where question is sent to the SqlAssist AI. The SqlAssist AI will respond with an answer \n",
    "to the question in JSON format to the question made to SqlAssist by KineticAI.\n",
    "\n",
    "when presented with a question, you should prefix your response with \"KineticaLLM |  \"\n",
    "if a sentence ends in a \"?\", you should prefix your response with \"KineticaLLM |  \"\n",
    "\n",
    "Consider the following example where a user asks KineticAI a question and KineticAI asks a followup question to SqlAssist. KineticAI uses the response from \n",
    "SqlAssist to answer the user's question.\n",
    "\n",
    "user: what is the weather like today?\n",
    "assistant: KineticaLLM |  what is the weather like today?\n",
    "user: KineticaLLM |  [{\"EXPR_0\": 5.4}]\n",
    "assistant: The answer is 5.4\n",
    "\"\"\"\n",
    "\n",
    "context0 = [dict(role=\"system\", content=system),\n",
    "            dict(role=\"user\", content=\"what is the weather like today?\"),\n",
    "            dict(role=\"assistant\", content=\"KineticaLLM |  what is the weather like today?\"),\n",
    "            dict(role=\"user\", content=\"how many rows of data are you storing?\"),\n",
    "            dict(role=\"assistant\", content=\"KineticaLLM |  how many rows of data are you storing?\"),\n",
    "            dict(role=\"user\", content=\"what is the average number of telemetry rows per 5 second increment?\"),\n",
    "            dict(role=\"assistant\", content=\"KineticaLLM |  what is the average number of telemetry rows per 5 second increment?\"),\n",
    "            dict(role=\"user\", content=\"find me videos\"),\n",
    "            dict(role=\"assistant\", content=\"KineticaLLM |  find me videos\")]\n",
    "\n",
    "# samples\n"
   ],
   "metadata": {
    "collapsed": false,
    "ExecuteTime": {
     "end_time": "2024-02-07T17:35:54.377071Z",
     "start_time": "2024-02-07T17:35:54.374393Z"
    }
   },
   "id": "d76d37e8d142458d",
   "execution_count": 90
  },
  {
   "cell_type": "code",
   "outputs": [
    {
     "name": "stderr",
     "output_type": "stream",
     "text": [
      "INFO:NemoChatLLM:user: what is the average velocity along the X axis? (tokens: 780/3316)\n",
      "INFO:NemoChatLLM:assistant: KineticaLLM |  what is the average velocity along the X axis? (tokens: 870/3226)\n",
      "INFO:SqlAssistLLM:Query: what is the average velocity along the X axis?\n",
      "INFO:SqlAssistLLM:SQL: SELECT\n",
      "    avg(VelocityX)\n",
      "FROM\n",
      "    raceday.video_join1\n",
      "INFO:NemoChatLLM:user: KineticaLLM |  [{\"EXPR_0\": 1.077429120258083}] (tokens: 803/3293)\n",
      "INFO:NemoChatLLM:assistant: The answer is 1.077429120258083 (tokens: 897/3199)\n"
     ]
    }
   ],
   "source": [
    "question = 'what is the average velocity along the X axis?'\n",
    "response = kineticallm.chat(context0, question)"
   ],
   "metadata": {
    "collapsed": false,
    "ExecuteTime": {
     "end_time": "2024-02-07T17:36:34.193076Z",
     "start_time": "2024-02-07T17:36:29.814629Z"
    }
   },
   "id": "57c900bdd2cccbd1",
   "execution_count": 92
  },
  {
   "cell_type": "markdown",
   "source": [
    "### Progression\n",
    "- without kinetica, nemo has no way to answer data question\n",
    "- "
   ],
   "metadata": {
    "collapsed": false
   },
   "id": "6d8498a62722cbac"
  }
 ],
 "metadata": {
  "kernelspec": {
   "display_name": "Python 3",
   "language": "python",
   "name": "python3"
  },
  "language_info": {
   "codemirror_mode": {
    "name": "ipython",
    "version": 3
   },
   "file_extension": ".py",
   "mimetype": "text/x-python",
   "name": "python",
   "nbconvert_exporter": "python",
   "pygments_lexer": "ipython3",
   "version": "3.10.13"
  }
 },
 "nbformat": 4,
 "nbformat_minor": 5
}
