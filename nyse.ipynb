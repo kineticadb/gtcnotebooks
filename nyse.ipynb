{
 "cells": [
  {
   "cell_type": "markdown",
   "id": "4725d6feada17a62",
   "metadata": {
    "collapsed": false
   },
   "source": [
    "# Interacting with Kinetica vector similarity search via LLM\n",
    "### Install required packages"
   ]
  },
  {
   "cell_type": "code",
   "execution_count": null,
   "id": "initial_id",
   "metadata": {},
   "outputs": [],
   "source": [
    "!pip3.10 install gpudb==7.2.0.0b0 pandas pyarrow typeguard langchain langchain_openai nemollm colorlog langchain-kinetica"
   ]
  },
  {
   "cell_type": "code",
   "execution_count": null,
   "id": "44d95cbf6cebeaf1",
   "metadata": {
    "collapsed": false
   },
   "outputs": [],
   "source": [
    "import kinetica.setup\n",
    "kinetica.setup.setup()"
   ]
  },
  {
   "cell_type": "markdown",
   "id": "4a772aad959674a7",
   "metadata": {
    "collapsed": false
   },
   "source": [
    "### Connect to Kinetica and the LLM"
   ]
  },
  {
   "cell_type": "code",
   "execution_count": 6,
   "id": "c901a1fbd82d73bb",
   "metadata": {
    "collapsed": false,
    "ExecuteTime": {
     "end_time": "2024-02-23T23:26:16.323500Z",
     "start_time": "2024-02-23T23:26:00.476114Z"
    }
   },
   "outputs": [
    {
     "name": "stdout",
     "output_type": "stream",
     "text": [
      "Connected to Kinetica: http://172.31.33.30:9191. (api=7.2.0.0b0, server=7.2.0.1)\n"
     ]
    }
   ],
   "source": [
    "from langchain_core.prompts import ChatPromptTemplate\n",
    "from langchain_kinetica import KineticaChatLLM, KineticaSqlOutputParser, SqlResponse\n",
    "from IPython.display import display, HTML\n",
    "\n",
    "# create the Kinetica connection\n",
    "kdbc = KineticaChatLLM._create_kdbc(host=\"https://demo72.kinetica.com/_gpudb\", login=\"gtc\", password=\"Kinetica123!\")\n",
    "\n",
    "# create the Kinetica LLM\n",
    "kinetica_llm = KineticaChatLLM(kdbc=kdbc)\n",
    "\n",
    "# Set the context to use\n",
    "kinetica_ctx = 'nyse.nyse_vector_ctxt'"
   ]
  },
  {
   "cell_type": "markdown",
   "id": "c0fe527e9c06d9ed",
   "metadata": {
    "collapsed": false
   },
   "source": [
    "### Set up the context"
   ]
  },
  {
   "cell_type": "code",
   "execution_count": 7,
   "id": "bf7eb0f3aae48fc3",
   "metadata": {
    "collapsed": false,
    "ExecuteTime": {
     "end_time": "2024-02-23T23:26:26.259977Z",
     "start_time": "2024-02-23T23:26:26.195514Z"
    }
   },
   "outputs": [
    {
     "name": "stdout",
     "output_type": "stream",
     "text": [
      "================================\u001B[1m System Message \u001B[0m================================\n",
      "\n",
      "CREATE TABLE nyse.prices AS\n",
      "(\n",
      "   t DATETIME NOT NULL COMMENT 'timestamp',\n",
      "   s VARCHAR (8, dict, shard_key) NOT NULL COMMENT 'symbol',\n",
      "   type VARCHAR (4, dict) NOT NULL,\n",
      "   ap REAL  COMMENT 'ask price',\n",
      "   as INTEGER,\n",
      "   bp REAL  COMMENT 'bid price',\n",
      "   bs INTEGER  COMMENT 'bid size',\n",
      "   lp REAL  COMMENT 'sale price',\n",
      "   ls INTEGER  COMMENT 'sale size'\n",
      ");\n",
      "COMMENT ON TABLE nyse.prices IS 'Stock prices including ask, bid, and sale price and size';\n",
      "-- When querying table nyse.prices the following rules apply:\n",
      "-- * when I ask about stock prices, use the nyse.prices table\n",
      "-- * when I ask about stock prices today, filter on all results that occurred between now and an interval of 1 day\n",
      "-- * all stock symbols are in lower case\n",
      "-- * when I ask about today I mean that the timestamp should be greater than or equal to now minus an interval of 1 day\n",
      "-- * when I ask about any column, make sure there are no null values or NaN values\n",
      "-- * replace all NaN values with 0 using the IFNAN() function\n",
      "-- * all numeric results should be larger than 0\n",
      "-- * convert all stock symbols to lower case\n",
      "-- * always filter out null values\n",
      "\n",
      "CREATE TABLE nyse.vector AS\n",
      "(\n",
      "   ap_vec VECTOR(22) NOT NULL,\n",
      "   symbol VARCHAR (32) NOT NULL,\n",
      "   ts_bkt DATETIME NOT NULL\n",
      ");\n",
      "COMMENT ON TABLE nyse.vector IS 'Time-series vector embeddings for NYSE stock characteristics';\n",
      "\n",
      "================================\u001B[1m Human Message \u001B[0m=================================\n",
      "\n",
      "can you create a SQL to find all stock symbols between 2024-01-22 13:00:00 and 2024-01-22 20:00:00 where the price is recorded that went up by more than 5 percent\n",
      "\n",
      "==================================\u001B[1m Ai Message \u001B[0m==================================\n",
      "\n",
      "SELECT DISTINCT s FROM (SELECT s,lp AS current_sale_price,LAG(lp) OVER (PARTITION BY s ORDER BY t) AS previous_sale_price, (((lp - LAG(lp) OVER (PARTITION BY s ORDER BY t)) / LAG(lp) OVER (PARTITION BY s ORDER BY t)) * 100) AS price_increase_percentage FROM  nyse.prices WHERE  t BETWEEN '2024-01-22 13:00:00' AND '2024-01-22 20:00:00' AND lp IS NOT NULL ) AS PriceChanges WHERE  price_increase_percentage > 20;\n",
      "\n",
      "================================\u001B[1m Human Message \u001B[0m=================================\n",
      "\n",
      "find all sofi stock trades between 2024-01-29 14:25:00 and 2024-01-29 14:35:00 where the price is not null\n",
      "\n",
      "==================================\u001B[1m Ai Message \u001B[0m==================================\n",
      "\n",
      "SELECT t, s, lp\n",
      "FROM nyse.prices\n",
      "WHERE s ='sofi'\n",
      "AND t BETWEEN '2024-01-29 14:25:00' AND '2024-01-29 14:35:00'\n",
      "AND lp IS NOT NULL;\n",
      "\n",
      "================================\u001B[1m Human Message \u001B[0m=================================\n",
      "\n",
      "what stock symbol other than QQQ has the highest price within the last 15 minutes?\n",
      "\n",
      "==================================\u001B[1m Ai Message \u001B[0m==================================\n",
      "\n",
      "SELECT\n",
      "    s\n",
      "FROM\n",
      "    nyse.prices\n",
      "WHERE\n",
      "    t >= now() - interval '15' minutes\n",
      "    and s <> 'qqq'\n",
      "GROUP BY\n",
      "    s\n",
      "ORDER BY\n",
      "    avg(lp) desc\n",
      "LIMIT\n",
      "    1\n",
      "\n",
      "================================\u001B[1m Human Message \u001B[0m=================================\n",
      "\n",
      "\u001B[33;1m\u001B[1;3m{input}\u001B[0m\n"
     ]
    }
   ],
   "source": [
    "# load the context from the database\n",
    "ctx_messages = kinetica_llm.load_messages_from_context(kinetica_ctx)\n",
    "\n",
    "# Add the input prompt. This is where input question will be substituted.\n",
    "ctx_messages.append((\"human\", \"{input}\"))\n",
    "\n",
    "# Create the prompt template.\n",
    "prompt_template = ChatPromptTemplate.from_messages(ctx_messages)\n",
    "prompt_template.pretty_print()\n",
    "\n",
    "# create the chain. \n",
    "# note: The KineticaSqlOutputParser will execute the SQL statement and is optional.\n",
    "chain = prompt_template | kinetica_llm | KineticaSqlOutputParser(kdbc=kdbc)"
   ]
  },
  {
   "cell_type": "markdown",
   "id": "e5cc184362ab9d09",
   "metadata": {
    "collapsed": false
   },
   "source": [
    "# Overview\n",
    "### Setup and expectations\n",
    "- Python code in the UDF folder is not intended to be run independently; it requires Kinetica to function properly\n",
    "- Python code in the UDF folder is included for illustrative purposes\n",
    "- Python code in the kinetica folder contains helper code and is not intended to be run independently\n",
    "### Data Flow\n",
    "- Data is streamed via websocket to Kinetica in JSON format\n",
    "- Create delta table (just new quotes since last refresh)\n",
    "- Invoke embedding model (UDF) over the delta table on every new record\n",
    "- Embedding model (catch22) inserts 22 dimensional vector embedding into vector table for 5 minute windows every 5 seconds for every observed stock symbol\n",
    "### Reference code\n",
    "- if you want to dive deeper on the UDF that creates the vector embeddings see [./UDF/nyse_vector_embedding.py]()\n",
    "- if you want to dive deeper on the data setup see [./kinetica/setup.py]()\n"
   ]
  },
  {
   "cell_type": "code",
   "execution_count": 11,
   "id": "32eb10171cc4904f",
   "metadata": {
    "collapsed": false,
    "ExecuteTime": {
     "end_time": "2024-02-23T23:29:07.185208Z",
     "start_time": "2024-02-23T23:29:04.917881Z"
    }
   },
   "outputs": [
    {
     "ename": "GPUdbException",
     "evalue": "'[ERROR]: SqlEngine: Syntax error near \";\" at line 3, column 9. (S/SDc:1454)'",
     "output_type": "error",
     "traceback": [
      "\u001B[0;31m---------------------------------------------------------------------------\u001B[0m",
      "\u001B[0;31mGPUdbException\u001B[0m                            Traceback (most recent call last)",
      "Cell \u001B[0;32mIn[11], line 1\u001B[0m\n\u001B[0;32m----> 1\u001B[0m response: SqlResponse \u001B[38;5;241m=\u001B[39m \u001B[43mchain\u001B[49m\u001B[38;5;241;43m.\u001B[39;49m\u001B[43minvoke\u001B[49m\u001B[43m(\u001B[49m\u001B[43m{\u001B[49m\u001B[38;5;124;43m\"\u001B[39;49m\u001B[38;5;124;43minput\u001B[39;49m\u001B[38;5;124;43m\"\u001B[39;49m\u001B[43m:\u001B[49m\u001B[43m \u001B[49m\u001B[38;5;124;43m'''\u001B[39;49m\u001B[38;5;124;43mshow me a sample of the vector data\u001B[39;49m\u001B[38;5;124;43m'''\u001B[39;49m\u001B[43m}\u001B[49m\u001B[43m)\u001B[49m\n\u001B[1;32m      2\u001B[0m \u001B[38;5;28mprint\u001B[39m(response\u001B[38;5;241m.\u001B[39msql)\n\u001B[1;32m      3\u001B[0m display(HTML(response\u001B[38;5;241m.\u001B[39mdataframe\u001B[38;5;241m.\u001B[39mto_html(index\u001B[38;5;241m=\u001B[39m\u001B[38;5;28;01mFalse\u001B[39;00m)))\n",
      "File \u001B[0;32m~/Documents/JetBrains/GTC_notebooks/.venv/lib/python3.10/site-packages/langchain_core/runnables/base.py:2053\u001B[0m, in \u001B[0;36mRunnableSequence.invoke\u001B[0;34m(self, input, config)\u001B[0m\n\u001B[1;32m   2051\u001B[0m \u001B[38;5;28;01mtry\u001B[39;00m:\n\u001B[1;32m   2052\u001B[0m     \u001B[38;5;28;01mfor\u001B[39;00m i, step \u001B[38;5;129;01min\u001B[39;00m \u001B[38;5;28menumerate\u001B[39m(\u001B[38;5;28mself\u001B[39m\u001B[38;5;241m.\u001B[39msteps):\n\u001B[0;32m-> 2053\u001B[0m         \u001B[38;5;28minput\u001B[39m \u001B[38;5;241m=\u001B[39m \u001B[43mstep\u001B[49m\u001B[38;5;241;43m.\u001B[39;49m\u001B[43minvoke\u001B[49m\u001B[43m(\u001B[49m\n\u001B[1;32m   2054\u001B[0m \u001B[43m            \u001B[49m\u001B[38;5;28;43minput\u001B[39;49m\u001B[43m,\u001B[49m\n\u001B[1;32m   2055\u001B[0m \u001B[43m            \u001B[49m\u001B[38;5;66;43;03m# mark each step as a child run\u001B[39;49;00m\n\u001B[1;32m   2056\u001B[0m \u001B[43m            \u001B[49m\u001B[43mpatch_config\u001B[49m\u001B[43m(\u001B[49m\n\u001B[1;32m   2057\u001B[0m \u001B[43m                \u001B[49m\u001B[43mconfig\u001B[49m\u001B[43m,\u001B[49m\u001B[43m \u001B[49m\u001B[43mcallbacks\u001B[49m\u001B[38;5;241;43m=\u001B[39;49m\u001B[43mrun_manager\u001B[49m\u001B[38;5;241;43m.\u001B[39;49m\u001B[43mget_child\u001B[49m\u001B[43m(\u001B[49m\u001B[38;5;124;43mf\u001B[39;49m\u001B[38;5;124;43m\"\u001B[39;49m\u001B[38;5;124;43mseq:step:\u001B[39;49m\u001B[38;5;132;43;01m{\u001B[39;49;00m\u001B[43mi\u001B[49m\u001B[38;5;241;43m+\u001B[39;49m\u001B[38;5;241;43m1\u001B[39;49m\u001B[38;5;132;43;01m}\u001B[39;49;00m\u001B[38;5;124;43m\"\u001B[39;49m\u001B[43m)\u001B[49m\n\u001B[1;32m   2058\u001B[0m \u001B[43m            \u001B[49m\u001B[43m)\u001B[49m\u001B[43m,\u001B[49m\n\u001B[1;32m   2059\u001B[0m \u001B[43m        \u001B[49m\u001B[43m)\u001B[49m\n\u001B[1;32m   2060\u001B[0m \u001B[38;5;66;03m# finish the root run\u001B[39;00m\n\u001B[1;32m   2061\u001B[0m \u001B[38;5;28;01mexcept\u001B[39;00m \u001B[38;5;167;01mBaseException\u001B[39;00m \u001B[38;5;28;01mas\u001B[39;00m e:\n",
      "File \u001B[0;32m~/Documents/JetBrains/GTC_notebooks/.venv/lib/python3.10/site-packages/langchain_core/output_parsers/base.py:167\u001B[0m, in \u001B[0;36mBaseOutputParser.invoke\u001B[0;34m(self, input, config)\u001B[0m\n\u001B[1;32m    163\u001B[0m \u001B[38;5;28;01mdef\u001B[39;00m \u001B[38;5;21minvoke\u001B[39m(\n\u001B[1;32m    164\u001B[0m     \u001B[38;5;28mself\u001B[39m, \u001B[38;5;28minput\u001B[39m: Union[\u001B[38;5;28mstr\u001B[39m, BaseMessage], config: Optional[RunnableConfig] \u001B[38;5;241m=\u001B[39m \u001B[38;5;28;01mNone\u001B[39;00m\n\u001B[1;32m    165\u001B[0m ) \u001B[38;5;241m-\u001B[39m\u001B[38;5;241m>\u001B[39m T:\n\u001B[1;32m    166\u001B[0m     \u001B[38;5;28;01mif\u001B[39;00m \u001B[38;5;28misinstance\u001B[39m(\u001B[38;5;28minput\u001B[39m, BaseMessage):\n\u001B[0;32m--> 167\u001B[0m         \u001B[38;5;28;01mreturn\u001B[39;00m \u001B[38;5;28;43mself\u001B[39;49m\u001B[38;5;241;43m.\u001B[39;49m\u001B[43m_call_with_config\u001B[49m\u001B[43m(\u001B[49m\n\u001B[1;32m    168\u001B[0m \u001B[43m            \u001B[49m\u001B[38;5;28;43;01mlambda\u001B[39;49;00m\u001B[43m \u001B[49m\u001B[43minner_input\u001B[49m\u001B[43m:\u001B[49m\u001B[43m \u001B[49m\u001B[38;5;28;43mself\u001B[39;49m\u001B[38;5;241;43m.\u001B[39;49m\u001B[43mparse_result\u001B[49m\u001B[43m(\u001B[49m\n\u001B[1;32m    169\u001B[0m \u001B[43m                \u001B[49m\u001B[43m[\u001B[49m\u001B[43mChatGeneration\u001B[49m\u001B[43m(\u001B[49m\u001B[43mmessage\u001B[49m\u001B[38;5;241;43m=\u001B[39;49m\u001B[43minner_input\u001B[49m\u001B[43m)\u001B[49m\u001B[43m]\u001B[49m\n\u001B[1;32m    170\u001B[0m \u001B[43m            \u001B[49m\u001B[43m)\u001B[49m\u001B[43m,\u001B[49m\n\u001B[1;32m    171\u001B[0m \u001B[43m            \u001B[49m\u001B[38;5;28;43minput\u001B[39;49m\u001B[43m,\u001B[49m\n\u001B[1;32m    172\u001B[0m \u001B[43m            \u001B[49m\u001B[43mconfig\u001B[49m\u001B[43m,\u001B[49m\n\u001B[1;32m    173\u001B[0m \u001B[43m            \u001B[49m\u001B[43mrun_type\u001B[49m\u001B[38;5;241;43m=\u001B[39;49m\u001B[38;5;124;43m\"\u001B[39;49m\u001B[38;5;124;43mparser\u001B[39;49m\u001B[38;5;124;43m\"\u001B[39;49m\u001B[43m,\u001B[49m\n\u001B[1;32m    174\u001B[0m \u001B[43m        \u001B[49m\u001B[43m)\u001B[49m\n\u001B[1;32m    175\u001B[0m     \u001B[38;5;28;01melse\u001B[39;00m:\n\u001B[1;32m    176\u001B[0m         \u001B[38;5;28;01mreturn\u001B[39;00m \u001B[38;5;28mself\u001B[39m\u001B[38;5;241m.\u001B[39m_call_with_config(\n\u001B[1;32m    177\u001B[0m             \u001B[38;5;28;01mlambda\u001B[39;00m inner_input: \u001B[38;5;28mself\u001B[39m\u001B[38;5;241m.\u001B[39mparse_result([Generation(text\u001B[38;5;241m=\u001B[39minner_input)]),\n\u001B[1;32m    178\u001B[0m             \u001B[38;5;28minput\u001B[39m,\n\u001B[1;32m    179\u001B[0m             config,\n\u001B[1;32m    180\u001B[0m             run_type\u001B[38;5;241m=\u001B[39m\u001B[38;5;124m\"\u001B[39m\u001B[38;5;124mparser\u001B[39m\u001B[38;5;124m\"\u001B[39m,\n\u001B[1;32m    181\u001B[0m         )\n",
      "File \u001B[0;32m~/Documents/JetBrains/GTC_notebooks/.venv/lib/python3.10/site-packages/langchain_core/runnables/base.py:1246\u001B[0m, in \u001B[0;36mRunnable._call_with_config\u001B[0;34m(self, func, input, config, run_type, **kwargs)\u001B[0m\n\u001B[1;32m   1242\u001B[0m     context \u001B[38;5;241m=\u001B[39m copy_context()\n\u001B[1;32m   1243\u001B[0m     context\u001B[38;5;241m.\u001B[39mrun(var_child_runnable_config\u001B[38;5;241m.\u001B[39mset, child_config)\n\u001B[1;32m   1244\u001B[0m     output \u001B[38;5;241m=\u001B[39m cast(\n\u001B[1;32m   1245\u001B[0m         Output,\n\u001B[0;32m-> 1246\u001B[0m         \u001B[43mcontext\u001B[49m\u001B[38;5;241;43m.\u001B[39;49m\u001B[43mrun\u001B[49m\u001B[43m(\u001B[49m\n\u001B[1;32m   1247\u001B[0m \u001B[43m            \u001B[49m\u001B[43mcall_func_with_variable_args\u001B[49m\u001B[43m,\u001B[49m\n\u001B[1;32m   1248\u001B[0m \u001B[43m            \u001B[49m\u001B[43mfunc\u001B[49m\u001B[43m,\u001B[49m\u001B[43m  \u001B[49m\u001B[38;5;66;43;03m# type: ignore[arg-type]\u001B[39;49;00m\n\u001B[1;32m   1249\u001B[0m \u001B[43m            \u001B[49m\u001B[38;5;28;43minput\u001B[39;49m\u001B[43m,\u001B[49m\u001B[43m  \u001B[49m\u001B[38;5;66;43;03m# type: ignore[arg-type]\u001B[39;49;00m\n\u001B[1;32m   1250\u001B[0m \u001B[43m            \u001B[49m\u001B[43mconfig\u001B[49m\u001B[43m,\u001B[49m\n\u001B[1;32m   1251\u001B[0m \u001B[43m            \u001B[49m\u001B[43mrun_manager\u001B[49m\u001B[43m,\u001B[49m\n\u001B[1;32m   1252\u001B[0m \u001B[43m            \u001B[49m\u001B[38;5;241;43m*\u001B[39;49m\u001B[38;5;241;43m*\u001B[39;49m\u001B[43mkwargs\u001B[49m\u001B[43m,\u001B[49m\n\u001B[1;32m   1253\u001B[0m \u001B[43m        \u001B[49m\u001B[43m)\u001B[49m,\n\u001B[1;32m   1254\u001B[0m     )\n\u001B[1;32m   1255\u001B[0m \u001B[38;5;28;01mexcept\u001B[39;00m \u001B[38;5;167;01mBaseException\u001B[39;00m \u001B[38;5;28;01mas\u001B[39;00m e:\n\u001B[1;32m   1256\u001B[0m     run_manager\u001B[38;5;241m.\u001B[39mon_chain_error(e)\n",
      "File \u001B[0;32m~/Documents/JetBrains/GTC_notebooks/.venv/lib/python3.10/site-packages/langchain_core/runnables/config.py:326\u001B[0m, in \u001B[0;36mcall_func_with_variable_args\u001B[0;34m(func, input, config, run_manager, **kwargs)\u001B[0m\n\u001B[1;32m    324\u001B[0m \u001B[38;5;28;01mif\u001B[39;00m run_manager \u001B[38;5;129;01mis\u001B[39;00m \u001B[38;5;129;01mnot\u001B[39;00m \u001B[38;5;28;01mNone\u001B[39;00m \u001B[38;5;129;01mand\u001B[39;00m accepts_run_manager(func):\n\u001B[1;32m    325\u001B[0m     kwargs[\u001B[38;5;124m\"\u001B[39m\u001B[38;5;124mrun_manager\u001B[39m\u001B[38;5;124m\"\u001B[39m] \u001B[38;5;241m=\u001B[39m run_manager\n\u001B[0;32m--> 326\u001B[0m \u001B[38;5;28;01mreturn\u001B[39;00m \u001B[43mfunc\u001B[49m\u001B[43m(\u001B[49m\u001B[38;5;28;43minput\u001B[39;49m\u001B[43m,\u001B[49m\u001B[43m \u001B[49m\u001B[38;5;241;43m*\u001B[39;49m\u001B[38;5;241;43m*\u001B[39;49m\u001B[43mkwargs\u001B[49m\u001B[43m)\u001B[49m\n",
      "File \u001B[0;32m~/Documents/JetBrains/GTC_notebooks/.venv/lib/python3.10/site-packages/langchain_core/output_parsers/base.py:168\u001B[0m, in \u001B[0;36mBaseOutputParser.invoke.<locals>.<lambda>\u001B[0;34m(inner_input)\u001B[0m\n\u001B[1;32m    163\u001B[0m \u001B[38;5;28;01mdef\u001B[39;00m \u001B[38;5;21minvoke\u001B[39m(\n\u001B[1;32m    164\u001B[0m     \u001B[38;5;28mself\u001B[39m, \u001B[38;5;28minput\u001B[39m: Union[\u001B[38;5;28mstr\u001B[39m, BaseMessage], config: Optional[RunnableConfig] \u001B[38;5;241m=\u001B[39m \u001B[38;5;28;01mNone\u001B[39;00m\n\u001B[1;32m    165\u001B[0m ) \u001B[38;5;241m-\u001B[39m\u001B[38;5;241m>\u001B[39m T:\n\u001B[1;32m    166\u001B[0m     \u001B[38;5;28;01mif\u001B[39;00m \u001B[38;5;28misinstance\u001B[39m(\u001B[38;5;28minput\u001B[39m, BaseMessage):\n\u001B[1;32m    167\u001B[0m         \u001B[38;5;28;01mreturn\u001B[39;00m \u001B[38;5;28mself\u001B[39m\u001B[38;5;241m.\u001B[39m_call_with_config(\n\u001B[0;32m--> 168\u001B[0m             \u001B[38;5;28;01mlambda\u001B[39;00m inner_input: \u001B[38;5;28;43mself\u001B[39;49m\u001B[38;5;241;43m.\u001B[39;49m\u001B[43mparse_result\u001B[49m\u001B[43m(\u001B[49m\n\u001B[1;32m    169\u001B[0m \u001B[43m                \u001B[49m\u001B[43m[\u001B[49m\u001B[43mChatGeneration\u001B[49m\u001B[43m(\u001B[49m\u001B[43mmessage\u001B[49m\u001B[38;5;241;43m=\u001B[39;49m\u001B[43minner_input\u001B[49m\u001B[43m)\u001B[49m\u001B[43m]\u001B[49m\n\u001B[1;32m    170\u001B[0m \u001B[43m            \u001B[49m\u001B[43m)\u001B[49m,\n\u001B[1;32m    171\u001B[0m             \u001B[38;5;28minput\u001B[39m,\n\u001B[1;32m    172\u001B[0m             config,\n\u001B[1;32m    173\u001B[0m             run_type\u001B[38;5;241m=\u001B[39m\u001B[38;5;124m\"\u001B[39m\u001B[38;5;124mparser\u001B[39m\u001B[38;5;124m\"\u001B[39m,\n\u001B[1;32m    174\u001B[0m         )\n\u001B[1;32m    175\u001B[0m     \u001B[38;5;28;01melse\u001B[39;00m:\n\u001B[1;32m    176\u001B[0m         \u001B[38;5;28;01mreturn\u001B[39;00m \u001B[38;5;28mself\u001B[39m\u001B[38;5;241m.\u001B[39m_call_with_config(\n\u001B[1;32m    177\u001B[0m             \u001B[38;5;28;01mlambda\u001B[39;00m inner_input: \u001B[38;5;28mself\u001B[39m\u001B[38;5;241m.\u001B[39mparse_result([Generation(text\u001B[38;5;241m=\u001B[39minner_input)]),\n\u001B[1;32m    178\u001B[0m             \u001B[38;5;28minput\u001B[39m,\n\u001B[1;32m    179\u001B[0m             config,\n\u001B[1;32m    180\u001B[0m             run_type\u001B[38;5;241m=\u001B[39m\u001B[38;5;124m\"\u001B[39m\u001B[38;5;124mparser\u001B[39m\u001B[38;5;124m\"\u001B[39m,\n\u001B[1;32m    181\u001B[0m         )\n",
      "File \u001B[0;32m~/Documents/JetBrains/GTC_notebooks/.venv/lib/python3.10/site-packages/langchain_kinetica/sql_output.py:40\u001B[0m, in \u001B[0;36mKineticaSqlOutputParser.parse_result\u001B[0;34m(self, result, partial)\u001B[0m\n\u001B[1;32m     39\u001B[0m \u001B[38;5;28;01mdef\u001B[39;00m \u001B[38;5;21mparse_result\u001B[39m(\u001B[38;5;28mself\u001B[39m, result: List[Generation], \u001B[38;5;241m*\u001B[39m, partial: \u001B[38;5;28mbool\u001B[39m \u001B[38;5;241m=\u001B[39m \u001B[38;5;28;01mFalse\u001B[39;00m) \u001B[38;5;241m-\u001B[39m\u001B[38;5;241m>\u001B[39m SqlResponse:\n\u001B[0;32m---> 40\u001B[0m     \u001B[38;5;28;01mreturn\u001B[39;00m \u001B[38;5;28;43mself\u001B[39;49m\u001B[38;5;241;43m.\u001B[39;49m\u001B[43mparse\u001B[49m\u001B[43m(\u001B[49m\u001B[43mresult\u001B[49m\u001B[43m[\u001B[49m\u001B[38;5;241;43m0\u001B[39;49m\u001B[43m]\u001B[49m\u001B[38;5;241;43m.\u001B[39;49m\u001B[43mtext\u001B[49m\u001B[43m)\u001B[49m\n",
      "File \u001B[0;32m~/Documents/JetBrains/GTC_notebooks/.venv/lib/python3.10/site-packages/langchain_kinetica/sql_output.py:36\u001B[0m, in \u001B[0;36mKineticaSqlOutputParser.parse\u001B[0;34m(self, text)\u001B[0m\n\u001B[1;32m     35\u001B[0m \u001B[38;5;28;01mdef\u001B[39;00m \u001B[38;5;21mparse\u001B[39m(\u001B[38;5;28mself\u001B[39m, text: \u001B[38;5;28mstr\u001B[39m) \u001B[38;5;241m-\u001B[39m\u001B[38;5;241m>\u001B[39m SqlResponse:\n\u001B[0;32m---> 36\u001B[0m     df \u001B[38;5;241m=\u001B[39m \u001B[38;5;28;43mself\u001B[39;49m\u001B[38;5;241;43m.\u001B[39;49m\u001B[43mkdbc\u001B[49m\u001B[38;5;241;43m.\u001B[39;49m\u001B[43mto_df\u001B[49m\u001B[43m(\u001B[49m\u001B[43mtext\u001B[49m\u001B[43m)\u001B[49m\n\u001B[1;32m     37\u001B[0m     \u001B[38;5;28;01mreturn\u001B[39;00m SqlResponse(sql\u001B[38;5;241m=\u001B[39mtext, dataframe\u001B[38;5;241m=\u001B[39mdf)\n",
      "File \u001B[0;32m~/Documents/JetBrains/GTC_notebooks/.venv/lib/python3.10/site-packages/gpudb/gpudb.py:10053\u001B[0m, in \u001B[0;36mGPUdb.to_df\u001B[0;34m(self, sql, **kwargs)\u001B[0m\n\u001B[1;32m  10041\u001B[0m \u001B[38;5;250m\u001B[39m\u001B[38;5;124;03m\"\"\"Runs the given query and converts the result to a Pandas Data Frame.\u001B[39;00m\n\u001B[1;32m  10042\u001B[0m \n\u001B[1;32m  10043\u001B[0m \u001B[38;5;124;03mParameters:\u001B[39;00m\n\u001B[0;32m   (...)\u001B[0m\n\u001B[1;32m  10050\u001B[0m \u001B[38;5;124;03m    A Pandas Data Frame containing the result set of the SQL query.\u001B[39;00m\n\u001B[1;32m  10051\u001B[0m \u001B[38;5;124;03m\"\"\"\u001B[39;00m\n\u001B[1;32m  10052\u001B[0m \u001B[38;5;28;01mfrom\u001B[39;00m \u001B[38;5;21;01m.\u001B[39;00m \u001B[38;5;28;01mimport\u001B[39;00m gpudb_dataframe\n\u001B[0;32m> 10053\u001B[0m \u001B[38;5;28;01mreturn\u001B[39;00m \u001B[43mgpudb_dataframe\u001B[49m\u001B[38;5;241;43m.\u001B[39;49m\u001B[43mDataFrameUtils\u001B[49m\u001B[38;5;241;43m.\u001B[39;49m\u001B[43msql_to_df\u001B[49m\u001B[43m(\u001B[49m\u001B[38;5;28;43mself\u001B[39;49m\u001B[43m,\u001B[49m\u001B[43m \u001B[49m\u001B[43msql\u001B[49m\u001B[43m,\u001B[49m\u001B[43m \u001B[49m\u001B[38;5;241;43m*\u001B[39;49m\u001B[38;5;241;43m*\u001B[39;49m\u001B[43mkwargs\u001B[49m\u001B[43m)\u001B[49m\n",
      "File \u001B[0;32m~/Documents/JetBrains/GTC_notebooks/.venv/lib/python3.10/site-packages/gpudb/gpudb_dataframe.py:80\u001B[0m, in \u001B[0;36mDataFrameUtils.sql_to_df\u001B[0;34m(cls, db, sql, param_list, batch_size, sql_opts, show_progress)\u001B[0m\n\u001B[1;32m     77\u001B[0m     \u001B[38;5;28mprint\u001B[39m(\u001B[38;5;124mf\u001B[39m\u001B[38;5;124m\"\u001B[39m\u001B[38;5;124mExecuting SQL...\u001B[39m\u001B[38;5;124m\"\u001B[39m)\n\u001B[1;32m     79\u001B[0m result_list \u001B[38;5;241m=\u001B[39m []\n\u001B[0;32m---> 80\u001B[0m \u001B[38;5;28;01mwith\u001B[39;00m GPUdbSqlIterator(db, sql,\n\u001B[1;32m     81\u001B[0m                       batch_size\u001B[38;5;241m=\u001B[39mbatch_size,\n\u001B[1;32m     82\u001B[0m                       sql_opts\u001B[38;5;241m=\u001B[39msql_opts) \u001B[38;5;28;01mas\u001B[39;00m sql_iter:\n\u001B[1;32m     83\u001B[0m     \u001B[38;5;28;01mif\u001B[39;00m (sql_iter\u001B[38;5;241m.\u001B[39mtype_map \u001B[38;5;129;01mis\u001B[39;00m \u001B[38;5;28;01mNone\u001B[39;00m):\n\u001B[1;32m     84\u001B[0m         \u001B[38;5;66;03m# If there are no results then we can't infer datatypes.\u001B[39;00m\n\u001B[1;32m     85\u001B[0m         \u001B[38;5;28mcls\u001B[39m\u001B[38;5;241m.\u001B[39m_LOG\u001B[38;5;241m.\u001B[39mdebug(\u001B[38;5;124m\"\u001B[39m\u001B[38;5;124mSQL returned no results.\u001B[39m\u001B[38;5;124m\"\u001B[39m)\n",
      "File \u001B[0;32m~/Documents/JetBrains/GTC_notebooks/.venv/lib/python3.10/site-packages/gpudb/gpudb_sql_iterator.py:71\u001B[0m, in \u001B[0;36mGPUdbSqlIterator.__enter__\u001B[0;34m(self)\u001B[0m\n\u001B[1;32m     68\u001B[0m \u001B[38;5;28;01mdef\u001B[39;00m \u001B[38;5;21m__enter__\u001B[39m(\u001B[38;5;28mself\u001B[39m):\n\u001B[1;32m     69\u001B[0m     \u001B[38;5;66;03m# Called when entering a with clause\u001B[39;00m\n\u001B[1;32m     70\u001B[0m     \u001B[38;5;28mself\u001B[39m\u001B[38;5;241m.\u001B[39m_log\u001B[38;5;241m.\u001B[39mdebug(\u001B[38;5;124m\"\u001B[39m\u001B[38;5;124mEnter iterator\u001B[39m\u001B[38;5;124m\"\u001B[39m)\n\u001B[0;32m---> 71\u001B[0m     \u001B[38;5;28;43mself\u001B[39;49m\u001B[38;5;241;43m.\u001B[39;49m\u001B[43mopen\u001B[49m\u001B[43m(\u001B[49m\u001B[43m)\u001B[49m\n\u001B[1;32m     72\u001B[0m     \u001B[38;5;28;01mreturn\u001B[39;00m \u001B[38;5;28mself\u001B[39m\n",
      "File \u001B[0;32m~/Documents/JetBrains/GTC_notebooks/.venv/lib/python3.10/site-packages/gpudb/gpudb_sql_iterator.py:62\u001B[0m, in \u001B[0;36mGPUdbSqlIterator.open\u001B[0;34m(self)\u001B[0m\n\u001B[1;32m     60\u001B[0m \u001B[38;5;28;01mdef\u001B[39;00m \u001B[38;5;21mopen\u001B[39m(\u001B[38;5;28mself\u001B[39m):\n\u001B[1;32m     61\u001B[0m     \u001B[38;5;66;03m# optional call\u001B[39;00m\n\u001B[0;32m---> 62\u001B[0m     \u001B[38;5;28;43mself\u001B[39;49m\u001B[38;5;241;43m.\u001B[39;49m\u001B[43m_check_fetch\u001B[49m\u001B[43m(\u001B[49m\u001B[43m)\u001B[49m\n",
      "File \u001B[0;32m~/Documents/JetBrains/GTC_notebooks/.venv/lib/python3.10/site-packages/gpudb/gpudb_sql_iterator.py:108\u001B[0m, in \u001B[0;36mGPUdbSqlIterator._check_fetch\u001B[0;34m(self)\u001B[0m\n\u001B[1;32m    104\u001B[0m \u001B[38;5;28;01mif\u001B[39;00m (\u001B[38;5;28mself\u001B[39m\u001B[38;5;241m.\u001B[39mtotal_count \u001B[38;5;129;01mis\u001B[39;00m \u001B[38;5;129;01mnot\u001B[39;00m \u001B[38;5;28;01mNone\u001B[39;00m \u001B[38;5;129;01mand\u001B[39;00m \u001B[38;5;28mself\u001B[39m\u001B[38;5;241m.\u001B[39moffset \u001B[38;5;241m>\u001B[39m\u001B[38;5;241m=\u001B[39m \u001B[38;5;28mself\u001B[39m\u001B[38;5;241m.\u001B[39mtotal_count):\n\u001B[1;32m    105\u001B[0m     \u001B[38;5;66;03m# no more records\u001B[39;00m\n\u001B[1;32m    106\u001B[0m     \u001B[38;5;28;01mreturn\u001B[39;00m\n\u001B[0;32m--> 108\u001B[0m \u001B[38;5;28;43mself\u001B[39;49m\u001B[38;5;241;43m.\u001B[39;49m\u001B[43m_execute_sql\u001B[49m\u001B[43m(\u001B[49m\u001B[43m)\u001B[49m\n\u001B[1;32m    109\u001B[0m \u001B[38;5;28mself\u001B[39m\u001B[38;5;241m.\u001B[39moffset \u001B[38;5;241m+\u001B[39m\u001B[38;5;241m=\u001B[39m \u001B[38;5;28mself\u001B[39m\u001B[38;5;241m.\u001B[39mbatch_size\n",
      "File \u001B[0;32m~/Documents/JetBrains/GTC_notebooks/.venv/lib/python3.10/site-packages/gpudb/gpudb_sql_iterator.py:130\u001B[0m, in \u001B[0;36mGPUdbSqlIterator._execute_sql\u001B[0;34m(self)\u001B[0m\n\u001B[1;32m    128\u001B[0m \u001B[38;5;28;01mif\u001B[39;00m (status \u001B[38;5;241m!=\u001B[39m \u001B[38;5;124m'\u001B[39m\u001B[38;5;124mOK\u001B[39m\u001B[38;5;124m'\u001B[39m):\n\u001B[1;32m    129\u001B[0m     message \u001B[38;5;241m=\u001B[39m response[\u001B[38;5;124m'\u001B[39m\u001B[38;5;124mstatus_info\u001B[39m\u001B[38;5;124m'\u001B[39m][\u001B[38;5;124m'\u001B[39m\u001B[38;5;124mmessage\u001B[39m\u001B[38;5;124m'\u001B[39m]\n\u001B[0;32m--> 130\u001B[0m     \u001B[38;5;28;01mraise\u001B[39;00m GPUdbException(\u001B[38;5;124m'\u001B[39m\u001B[38;5;124m[\u001B[39m\u001B[38;5;132;01m%s\u001B[39;00m\u001B[38;5;124m]: \u001B[39m\u001B[38;5;132;01m%s\u001B[39;00m\u001B[38;5;124m'\u001B[39m \u001B[38;5;241m%\u001B[39m (status, message))\n\u001B[1;32m    132\u001B[0m \u001B[38;5;28mself\u001B[39m\u001B[38;5;241m.\u001B[39mrecords \u001B[38;5;241m=\u001B[39m response[\u001B[38;5;124m'\u001B[39m\u001B[38;5;124mrecords\u001B[39m\u001B[38;5;124m'\u001B[39m]\n\u001B[1;32m    134\u001B[0m \u001B[38;5;28;01mif\u001B[39;00m (\u001B[38;5;28mself\u001B[39m\u001B[38;5;241m.\u001B[39mtotal_count \u001B[38;5;129;01mis\u001B[39;00m \u001B[38;5;28;01mNone\u001B[39;00m):\n",
      "\u001B[0;31mGPUdbException\u001B[0m: '[ERROR]: SqlEngine: Syntax error near \";\" at line 3, column 9. (S/SDc:1454)'"
     ]
    }
   ],
   "source": [
    "response: SqlResponse = chain.invoke({\"input\": '''show me a sample of the vector data'''})\n",
    "print(response.sql)\n",
    "display(HTML(response.dataframe.to_html(index=False)))"
   ]
  },
  {
   "cell_type": "code",
   "execution_count": 10,
   "id": "bef0bb63f092b236",
   "metadata": {
    "collapsed": false,
    "ExecuteTime": {
     "end_time": "2024-02-23T23:28:27.479751Z",
     "start_time": "2024-02-23T23:28:25.519317Z"
    }
   },
   "outputs": [
    {
     "data": {
      "text/plain": "<IPython.core.display.HTML object>",
      "text/html": "<table border=\"1\" class=\"dataframe\">\n  <thead>\n    <tr style=\"text-align: right;\">\n      <th>EXPR_0</th>\n    </tr>\n  </thead>\n  <tbody>\n    <tr>\n      <td>0</td>\n    </tr>\n  </tbody>\n</table>"
     },
     "metadata": {},
     "output_type": "display_data"
    }
   ],
   "source": [
    "response: SqlResponse = chain.invoke({\"input\": '''how many rows have flowed into the prices data in the last 15 minutes?'''})\n",
    "display(HTML(response.dataframe.to_html(index=False)))"
   ]
  },
  {
   "cell_type": "markdown",
   "id": "a1499db800912c12",
   "metadata": {
    "collapsed": false
   },
   "source": [
    "### Some questions, including vector similarity search, without the SQL fuss"
   ]
  },
  {
   "cell_type": "code",
   "execution_count": null,
   "id": "7f3e07ae2376b4a",
   "metadata": {
    "collapsed": false
   },
   "outputs": [],
   "source": [
    "from IPython.display import display, HTML\n",
    "\n",
    "# Here you must ask a question relevant to the LLM context provided in the prompt template.\n",
    "response: SqlResponse = chain.invoke({\"input\": '''what stock has traded with the highest volume today?'''})\n",
    "display(HTML(response.dataframe.to_html(index=False)))\n",
    "    "
   ]
  },
  {
   "cell_type": "code",
   "execution_count": null,
   "id": "2d03aa4914d7fa2d",
   "metadata": {
    "collapsed": false
   },
   "outputs": [],
   "source": [
    "response: SqlResponse = chain.invoke({\"input\": '''find all sofi stock trades between 2024-01-29 14:25:00 and 2024-01-29 14:35:00 where the price is recorded'''})\n",
    "response.dataframe.plot.line(x='t', y='lp')"
   ]
  },
  {
   "cell_type": "code",
   "execution_count": null,
   "id": "3f7656b794ab418f",
   "metadata": {
    "collapsed": false
   },
   "outputs": [],
   "source": [
    "response: SqlResponse = chain.invoke({\"input\": '''find similar patterns to sofi at 2024-01-29 14:25:00.000'''})\n",
    "display(HTML(response.dataframe.to_html(index=False)))"
   ]
  },
  {
   "cell_type": "code",
   "execution_count": null,
   "id": "275353076d998363",
   "metadata": {
    "collapsed": false
   },
   "outputs": [],
   "source": [
    "response: SqlResponse = chain.invoke({\"input\": '''find all qqq stock trades between 2024-01-22 16:00:00 and 2024-01-22 16:05:00 where the price is recorded'''})\n",
    "response.dataframe.plot.line(x='t', y='lp')"
   ]
  },
  {
   "cell_type": "markdown",
   "id": "eb2cc0092e008529",
   "metadata": {
    "collapsed": false
   },
   "source": [
    "### Get Kinetica LLM and Nemo talking to each other\n",
    "- Helper code is in [./kinetica/kineai.py]() and can be referenced to understand how the two LLM's are connected to each other\n",
    "- The intent with this exercise is to create a \"Man in the Middle\" RAG that provides us with the best features of two different LLM's, one for generating accurate SQL, then other to carry on a conversation and summarize tabular result sets when appropriate"
   ]
  },
  {
   "cell_type": "code",
   "execution_count": null,
   "id": "363f78d91c80727a",
   "metadata": {
    "collapsed": false
   },
   "outputs": [],
   "source": [
    "import importlib\n",
    "import kinetica.kineai\n",
    "\n",
    "importlib.reload(kinetica.kineai)\n",
    "kineticallm = kinetica.kineai.KineticaLLM('nyse.nyse_vector_ctxt')"
   ]
  },
  {
   "cell_type": "markdown",
   "id": "f8ba94baf9440c23",
   "metadata": {
    "collapsed": false
   },
   "source": [
    "### The Nemo context object\n",
    "- This is how we adjust how the LLM will react to our specific situation.\n",
    "- Many samples are provided so that Nemo will be able to take in plain english, pass it to Kinetica's LLM, then summarize the results\n",
    "- Note that small changes can have large effects.\n",
    "- Feel free to experiment with this context to see what the effects are"
   ]
  },
  {
   "cell_type": "code",
   "execution_count": null,
   "id": "9bbbaacbd2b6a0ce",
   "metadata": {
    "collapsed": false
   },
   "outputs": [],
   "source": [
    "system = \"\"\" KineticAI is a cheerful AI assistant for engaging in a conversation between an LLM using the Nemo framework and the Kinetica LLM.  The Kinetica\n",
    "LLM is designed to translate natural language questions into SQL queries. \n",
    "\n",
    "In addition to responding with  natural language it is able to ask questions to a database AI named SqlAssist that can query and summarize the logs. \n",
    "If it responds with a \"KineticaLLM |  question\" where question is sent to the SqlAssist AI. The SqlAssist AI will respond with an answer \n",
    "to the question in JSON format to the question made to SqlAssist by KineticAI.\n",
    "\n",
    "when presented with a question, you should prefix your response with \"KineticaLLM | \"\n",
    "if a sentence ends in a \"?\", you should prefix your response with \"KineticaLLM | \"\n",
    "\n",
    "Consider the following example where a user asks KineticAI a question and KineticAI asks a followup question to SqlAssist. KineticAI uses the response from \n",
    "SqlAssist to answer the user's question.\n",
    "\n",
    "user: what is the weather like today?\n",
    "assistant: KineticaLLM | what is the weather like today?\n",
    "user: KineticaLLM | [{\"EXPR_0\": 5.4}]\n",
    "assistant: The answer is 5.4\n",
    "\"\"\"\n",
    "\n",
    "context0 = [dict(role=\"system\", content=system),\n",
    "            dict(role=\"user\", content=\"what is the stock price today?\"),\n",
    "            dict(role=\"assistant\", content=\"KineticaLLM | what is the stock price today?\"),\n",
    "            dict(role=\"user\", content=\"how many rows of data are you storing?\"),\n",
    "            dict(role=\"assistant\", content=\"KineticaLLM | how many rows of data are you storing?\"),\n",
    "            dict(role=\"user\", content=\"what is the average number of telemetry rows per 5 second increment?\"),\n",
    "            dict(role=\"assistant\", content=\"KineticaLLM | what is the average number of telemetry rows per 5 second increment?\"),\n",
    "            dict(role=\"user\", content=\"find me top stock prices today\"),\n",
    "            dict(role=\"assistant\", content=\"KineticaLLM | find me top stock prices today\"),\n",
    "            dict(role=\"user\", content='KineticaLLM | [{\"EXPR_0\": 5.4}]'),\n",
    "            dict(role=\"assistant\", content='The answer is 5.4'),\n",
    "            dict(role=\"user\", content='KineticaLLM | [{\"ts_bkt\": \"2024-02-07 19:35:00.000\", \"symbol\": \"aapl\", \"d1\": -6467.2607421875}, {\"ts_bkt\": \"2024-02-07 19:30:00.000\", \"symbol\": \"aapl\", \"d1\": -6406.75341796875}, {\"ts_bkt\": \"2024-02-07 19:45:00.000\", \"symbol\": \"tsla\", \"d1\": -6331.88671875}, {\"ts_bkt\": \"2024-02-07 19:40:00.000\", \"symbol\": \"tsla\", \"d1\": -6128.375}]'),\n",
    "            dict(role=\"assistant\", content='It looks like aapl and tsla might be good choices')]"
   ]
  },
  {
   "cell_type": "code",
   "execution_count": null,
   "id": "63f688a7efca6afb",
   "metadata": {
    "collapsed": false
   },
   "outputs": [],
   "source": [
    "question = 'what stock symbol other than Apple has the highest price within the last 15 minutes?'\n",
    "kineticallm.chat(context0, question)"
   ]
  },
  {
   "cell_type": "code",
   "execution_count": null,
   "id": "155f800b9a4ede59",
   "metadata": {
    "collapsed": false
   },
   "outputs": [],
   "source": [
    "question = 'find potential buying opportunities over the next 30 min?'\n",
    "kineticallm.chat(context0, question)"
   ]
  },
  {
   "cell_type": "code",
   "execution_count": null,
   "id": "96163c553d77a5a1",
   "metadata": {
    "collapsed": false
   },
   "outputs": [],
   "source": [
    "question = '''show me sale prices for QQQ for the last 12 hours'''\n",
    "response: SqlResponse = chain.invoke({\"input\": question})\n",
    "response.dataframe.plot.line(x='t', y='lp')"
   ]
  },
  {
   "cell_type": "code",
   "execution_count": null,
   "id": "697db0f5dbb4b74b",
   "metadata": {
    "collapsed": false
   },
   "outputs": [],
   "source": []
  }
 ],
 "metadata": {
  "kernelspec": {
   "display_name": "Python 3 (ipykernel)",
   "language": "python",
   "name": "python3"
  },
  "language_info": {
   "codemirror_mode": {
    "name": "ipython",
    "version": 3
   },
   "file_extension": ".py",
   "mimetype": "text/x-python",
   "name": "python",
   "nbconvert_exporter": "python",
   "pygments_lexer": "ipython3",
   "version": "3.10.11"
  }
 },
 "nbformat": 4,
 "nbformat_minor": 5
}
