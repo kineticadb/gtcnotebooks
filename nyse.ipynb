{
 "cells": [
  {
   "cell_type": "markdown",
   "id": "4725d6feada17a62",
   "metadata": {
    "collapsed": false,
    "jupyter": {
     "outputs_hidden": false
    }
   },
   "source": [
    "# Interacting with Kinetica vector similarity search via LLM\n",
    "### Install required packages"
   ]
  },
  {
   "cell_type": "code",
   "execution_count": null,
   "id": "initial_id",
   "metadata": {},
   "outputs": [],
   "source": [
    "!pip3.10 install gpudb==7.2.0.0b0 pandas pyarrow typeguard langchain langchain_openai nemollm colorlog langchain-kinetica"
   ]
  },
  {
   "cell_type": "code",
   "execution_count": 92,
   "id": "44d95cbf6cebeaf1",
   "metadata": {
    "collapsed": false,
    "jupyter": {
     "outputs_hidden": false
    }
   },
   "outputs": [],
   "source": [
    "import kinetica.setup\n",
    "kinetica.setup.setup()"
   ]
  },
  {
   "cell_type": "markdown",
   "id": "4a772aad959674a7",
   "metadata": {
    "collapsed": false,
    "jupyter": {
     "outputs_hidden": false
    }
   },
   "source": [
    "### Connect to Kinetica and the LLM"
   ]
  },
  {
   "cell_type": "code",
   "execution_count": 93,
   "id": "c901a1fbd82d73bb",
   "metadata": {
    "ExecuteTime": {
     "end_time": "2024-02-23T23:26:16.323500Z",
     "start_time": "2024-02-23T23:26:00.476114Z"
    },
    "collapsed": false,
    "jupyter": {
     "outputs_hidden": false
    }
   },
   "outputs": [
    {
     "name": "stdout",
     "output_type": "stream",
     "text": [
      "Connected to Kinetica: http://172.31.33.30:9191. (api=7.2.0.0b0, server=7.2.0.1)\n"
     ]
    }
   ],
   "source": [
    "from langchain_core.prompts import ChatPromptTemplate\n",
    "from langchain_kinetica import KineticaChatLLM, KineticaSqlOutputParser, SqlResponse\n",
    "from IPython.display import display, HTML\n",
    "\n",
    "# create the Kinetica connection\n",
    "kdbc = KineticaChatLLM._create_kdbc(host=\"https://demo72.kinetica.com/_gpudb\", login=\"gtc\", password=\"Kinetica123!\")\n",
    "\n",
    "# create the Kinetica LLM\n",
    "kinetica_llm = KineticaChatLLM(kdbc=kdbc)\n",
    "\n",
    "# Set the context to use\n",
    "kinetica_ctx = 'nyse.nyse_vector_ctxt'"
   ]
  },
  {
   "cell_type": "markdown",
   "id": "c0fe527e9c06d9ed",
   "metadata": {
    "collapsed": false,
    "jupyter": {
     "outputs_hidden": false
    }
   },
   "source": [
    "### Set up the context"
   ]
  },
  {
   "cell_type": "code",
   "execution_count": null,
   "id": "bf7eb0f3aae48fc3",
   "metadata": {
    "ExecuteTime": {
     "end_time": "2024-02-23T23:26:26.259977Z",
     "start_time": "2024-02-23T23:26:26.195514Z"
    },
    "collapsed": false,
    "jupyter": {
     "outputs_hidden": false
    }
   },
   "outputs": [],
   "source": [
    "# load the context from the database\n",
    "ctx_messages = kinetica_llm.load_messages_from_context(kinetica_ctx)\n",
    "\n",
    "# Add the input prompt. This is where input question will be substituted.\n",
    "ctx_messages.append((\"human\", \"{input}\"))\n",
    "\n",
    "# Create the prompt template.\n",
    "prompt_template = ChatPromptTemplate.from_messages(ctx_messages)\n",
    "prompt_template.pretty_print()\n",
    "\n",
    "# create the chain. \n",
    "# note: The KineticaSqlOutputParser will execute the SQL statement and is optional.\n",
    "chain = prompt_template | kinetica_llm | KineticaSqlOutputParser(kdbc=kdbc)"
   ]
  },
  {
   "cell_type": "markdown",
   "id": "e5cc184362ab9d09",
   "metadata": {
    "collapsed": false,
    "jupyter": {
     "outputs_hidden": false
    }
   },
   "source": [
    "# Overview\n",
    "### Setup and expectations\n",
    "- Python code in the UDF folder is not intended to be run independently; it requires Kinetica to function properly\n",
    "- Python code in the UDF folder is included for illustrative purposes\n",
    "- Python code in the kinetica folder contains helper code and is not intended to be run independently\n",
    "### Data Flow\n",
    "- Data is streamed via websocket to Kinetica in JSON format\n",
    "- Create delta table (just new quotes since last refresh)\n",
    "- Invoke embedding model (UDF) over the delta table on every new record\n",
    "- Embedding model (catch22) inserts 22 dimensional vector embedding into vector table for 5 minute windows every 5 seconds for every observed stock symbol\n",
    "### Reference code\n",
    "- if you want to dive deeper on the UDF that creates the vector embeddings see [./UDF/nyse_vector_embedding.py]()\n",
    "- if you want to dive deeper on the data setup see [./kinetica/setup.py]()\n"
   ]
  },
  {
   "cell_type": "code",
   "execution_count": 121,
   "id": "32eb10171cc4904f",
   "metadata": {
    "ExecuteTime": {
     "end_time": "2024-02-23T23:29:07.185208Z",
     "start_time": "2024-02-23T23:29:04.917881Z"
    },
    "collapsed": false,
    "jupyter": {
     "outputs_hidden": false
    }
   },
   "outputs": [
    {
     "name": "stdout",
     "output_type": "stream",
     "text": [
      "SELECT\n",
      "    ts_bkt,\n",
      "    symbol,\n",
      "    ap_vec\n",
      "FROM\n",
      "    nyse.vector\n",
      "LIMIT\n",
      "    5;\n"
     ]
    },
    {
     "data": {
      "text/html": [
       "<table border=\"1\" class=\"dataframe\">\n",
       "  <thead>\n",
       "    <tr style=\"text-align: right;\">\n",
       "      <th>ts_bkt</th>\n",
       "      <th>symbol</th>\n",
       "      <th>ap_vec</th>\n",
       "    </tr>\n",
       "  </thead>\n",
       "  <tbody>\n",
       "    <tr>\n",
       "      <td>2024-01-18 19:20:00</td>\n",
       "      <td>agi</td>\n",
       "      <td>[0.7157128, 0.24307618, 1.0, 0.31836814, 12.311852, 0.0068143937, -0.41851786, -0.19839777, -0.25925925, 2.0, 2.0, 1.1140754, 0.083333336, 0.0, 0.0, 0.3312133, 1.1780972, 0.16666667, 0.97474235, 2.0, 0.6923077, 3.0]</td>\n",
       "    </tr>\n",
       "    <tr>\n",
       "      <td>2024-01-18 19:20:00</td>\n",
       "      <td>rf</td>\n",
       "      <td>[5.22299, 0.17355777, 8.0, 0.84007204, 17.851154, 0.01861802, 0.7437121, 0.8779936, -0.6923077, 2.0, 10.0, 1.6697112, 0.16666667, 0.0, 0.0, 0.73660153, 0.19634955, 0.1, 0.5486776, 2.0, 0.64, 4.0]</td>\n",
       "    </tr>\n",
       "    <tr>\n",
       "      <td>2024-01-18 19:20:00</td>\n",
       "      <td>csx</td>\n",
       "      <td>[17.156063, -0.010141926, 1.0, 0.81526804, 34.53108, 0.012893033, 0.53672105, 0.6918471, 0.30935252, 2.0, 33.0, 1.5210154, 0.041666668, 0.84615386, 0.15384616, 0.88331944, 0.049087387, 0.03448276, 0.4404318, 2.0, 0.557971, 3.0]</td>\n",
       "    </tr>\n",
       "    <tr>\n",
       "      <td>2024-01-18 19:20:00</td>\n",
       "      <td>cprt</td>\n",
       "      <td>[55.24041, 0.00086633745, 1.0, 1.0624288, 47.86036, 0.03185335, -0.6705102, -0.81177694, -0.4621514, 3.0, 98.0, 1.6115193, 0.11111111, 0.74418604, 0.1627907, 0.9805896, 0.024543693, 0.012658228, 0.15176305, 2.0, 0.332, 0.0]</td>\n",
       "    </tr>\n",
       "    <tr>\n",
       "      <td>2024-01-18 19:20:00</td>\n",
       "      <td>cl</td>\n",
       "      <td>[55.483887, 0.002795388, 1.0, 0.90458995, 80.59633, 0.024089143, -0.80239725, -0.6155988, -0.39285713, 2.0, 103.0, 1.3576953, 0.11111111, 0.79545456, 0.13636364, 0.9662218, 0.012271847, 0.010752688, 0.23587954, 2.0, 0.48534203, 3.0]</td>\n",
       "    </tr>\n",
       "  </tbody>\n",
       "</table>"
      ],
      "text/plain": [
       "<IPython.core.display.HTML object>"
      ]
     },
     "metadata": {},
     "output_type": "display_data"
    }
   ],
   "source": [
    "response: SqlResponse = chain.invoke({\"input\": '''show me a sample of the vector data'''})\n",
    "print(response.sql)\n",
    "display(HTML(response.dataframe.to_html(index=False)))"
   ]
  },
  {
   "cell_type": "code",
   "execution_count": 122,
   "id": "bef0bb63f092b236",
   "metadata": {
    "ExecuteTime": {
     "end_time": "2024-02-23T23:28:27.479751Z",
     "start_time": "2024-02-23T23:28:25.519317Z"
    },
    "collapsed": false,
    "jupyter": {
     "outputs_hidden": false
    }
   },
   "outputs": [
    {
     "data": {
      "text/html": [
       "<table border=\"1\" class=\"dataframe\">\n",
       "  <thead>\n",
       "    <tr style=\"text-align: right;\">\n",
       "      <th>EXPR_0</th>\n",
       "    </tr>\n",
       "  </thead>\n",
       "  <tbody>\n",
       "    <tr>\n",
       "      <td>127360</td>\n",
       "    </tr>\n",
       "  </tbody>\n",
       "</table>"
      ],
      "text/plain": [
       "<IPython.core.display.HTML object>"
      ]
     },
     "metadata": {},
     "output_type": "display_data"
    }
   ],
   "source": [
    "response: SqlResponse = chain.invoke({\"input\": '''how many rows have flowed into the prices data in the last 15 minutes?'''})\n",
    "display(HTML(response.dataframe.to_html(index=False)))"
   ]
  },
  {
   "cell_type": "markdown",
   "id": "a1499db800912c12",
   "metadata": {
    "collapsed": false,
    "jupyter": {
     "outputs_hidden": false
    }
   },
   "source": [
    "### Some questions, including vector similarity search, without the SQL fuss"
   ]
  },
  {
   "cell_type": "code",
   "execution_count": 123,
   "id": "7f3e07ae2376b4a",
   "metadata": {
    "collapsed": false,
    "jupyter": {
     "outputs_hidden": false
    }
   },
   "outputs": [
    {
     "data": {
      "text/html": [
       "<table border=\"1\" class=\"dataframe\">\n",
       "  <thead>\n",
       "    <tr style=\"text-align: right;\">\n",
       "      <th>s</th>\n",
       "    </tr>\n",
       "  </thead>\n",
       "  <tbody>\n",
       "    <tr>\n",
       "      <td>soxs</td>\n",
       "    </tr>\n",
       "  </tbody>\n",
       "</table>"
      ],
      "text/plain": [
       "<IPython.core.display.HTML object>"
      ]
     },
     "metadata": {},
     "output_type": "display_data"
    }
   ],
   "source": [
    "from IPython.display import display, HTML\n",
    "\n",
    "response: SqlResponse = chain.invoke({\"input\": '''what stock has traded with the highest volume today?'''})\n",
    "display(HTML(response.dataframe.to_html(index=False)))\n",
    "    "
   ]
  },
  {
   "cell_type": "code",
   "execution_count": 124,
   "id": "2d03aa4914d7fa2d",
   "metadata": {
    "collapsed": false,
    "jupyter": {
     "outputs_hidden": false
    }
   },
   "outputs": [
    {
     "name": "stdout",
     "output_type": "stream",
     "text": [
      "SELECT t, s, lp\n",
      "FROM nyse.prices\n",
      "WHERE s ='sofi'\n",
      "AND t BETWEEN '2024-01-29 14:25:00' AND '2024-01-29 14:35:00'\n",
      "AND lp IS NOT NULL;\n"
     ]
    },
    {
     "data": {
      "text/plain": [
       "<Axes: xlabel='t'>"
      ]
     },
     "execution_count": 124,
     "metadata": {},
     "output_type": "execute_result"
    },
    {
     "data": {
      "image/png": "[encoded data removed]",
      "text/plain": [
       "<Figure size 640x480 with 1 Axes>"
      ]
     },
     "metadata": {},
     "output_type": "display_data"
    }
   ],
   "source": [
    "response: SqlResponse = chain.invoke({\"input\": '''find all sofi stock trades between 2024-01-29 14:25:00 and 2024-01-29 14:35:00 where the price is recorded'''})\n",
    "print(response.sql)\n",
    "response.dataframe.plot.line(x='t', y='lp')"
   ]
  },
  {
   "cell_type": "code",
   "execution_count": 125,
   "id": "3f7656b794ab418f",
   "metadata": {
    "collapsed": false,
    "jupyter": {
     "outputs_hidden": false
    }
   },
   "outputs": [
    {
     "name": "stdout",
     "output_type": "stream",
     "text": [
      "SELECT\n",
      "    ts_bkt,\n",
      "    symbol,\n",
      "    dot_product(ap_vec,(select string(ap_vec) from (select * from nyse.vector where ts_bkt = '2024-01-29 14:25:00.000' and symbol ='sofi' limit 1))) as d1\n",
      "FROM\n",
      "    nyse.vector\n",
      "ORDER BY\n",
      "    d1 asc\n",
      "LIMIT\n",
      "    5\n"
     ]
    },
    {
     "data": {
      "text/html": [
       "<table border=\"1\" class=\"dataframe\">\n",
       "  <thead>\n",
       "    <tr style=\"text-align: right;\">\n",
       "      <th>ts_bkt</th>\n",
       "      <th>symbol</th>\n",
       "      <th>d1</th>\n",
       "    </tr>\n",
       "  </thead>\n",
       "  <tbody>\n",
       "    <tr>\n",
       "      <td>2023-06-28 16:00:00</td>\n",
       "      <td>alny</td>\n",
       "      <td>-365788.06250</td>\n",
       "    </tr>\n",
       "    <tr>\n",
       "      <td>2023-06-27 13:30:00</td>\n",
       "      <td>tqqq</td>\n",
       "      <td>-356100.87500</td>\n",
       "    </tr>\n",
       "    <tr>\n",
       "      <td>2023-12-20 19:50:00</td>\n",
       "      <td>qqq</td>\n",
       "      <td>-322043.28125</td>\n",
       "    </tr>\n",
       "    <tr>\n",
       "      <td>2023-06-22 13:35:00</td>\n",
       "      <td>tqqq</td>\n",
       "      <td>-309997.68750</td>\n",
       "    </tr>\n",
       "    <tr>\n",
       "      <td>2023-07-13 13:30:00</td>\n",
       "      <td>tqqq</td>\n",
       "      <td>-307590.68750</td>\n",
       "    </tr>\n",
       "  </tbody>\n",
       "</table>"
      ],
      "text/plain": [
       "<IPython.core.display.HTML object>"
      ]
     },
     "metadata": {},
     "output_type": "display_data"
    }
   ],
   "source": [
    "response: SqlResponse = chain.invoke({\"input\": '''find similar patterns to sofi at 2024-01-29 14:25:00.000'''})\n",
    "print(response.sql)\n",
    "display(HTML(response.dataframe.to_html(index=False)))"
   ]
  },
  {
   "cell_type": "code",
   "execution_count": 112,
   "id": "275353076d998363",
   "metadata": {
    "collapsed": false,
    "jupyter": {
     "outputs_hidden": false
    }
   },
   "outputs": [
    {
     "data": {
      "text/plain": [
       "<Axes: xlabel='t'>"
      ]
     },
     "execution_count": 112,
     "metadata": {},
     "output_type": "execute_result"
    },
    {
     "data": {
      "image/png": "[encoded data removed]",
      "text/plain": [
       "<Figure size 640x480 with 1 Axes>"
      ]
     },
     "metadata": {},
     "output_type": "display_data"
    }
   ],
   "source": [
    "response: SqlResponse = chain.invoke({\"input\": '''find all qqq stock trades between 2024-01-22 16:00:00 and 2024-01-22 16:05:00 where the price is recorded'''})\n",
    "response.dataframe.plot.line(x='t', y='lp')"
   ]
  },
  {
   "cell_type": "markdown",
   "id": "eb2cc0092e008529",
   "metadata": {
    "collapsed": false,
    "jupyter": {
     "outputs_hidden": false
    }
   },
   "source": [
    "### Get Kinetica LLM and Nemo talking to each other\n",
    "- Helper code is in [./kinetica/kineai.py]() and can be referenced to understand how the two LLM's are connected to each other\n",
    "- The intent with this exercise is to create a \"Man in the Middle\" RAG that provides us with the best features of two different LLM's, one for generating accurate SQL, then other to carry on a conversation and summarize tabular result sets when appropriate"
   ]
  },
  {
   "cell_type": "code",
   "execution_count": 126,
   "id": "363f78d91c80727a",
   "metadata": {
    "collapsed": false,
    "jupyter": {
     "outputs_hidden": false
    }
   },
   "outputs": [
    {
     "name": "stderr",
     "output_type": "stream",
     "text": [
      "INFO:SqlAssistLLM:Connected to http://172.31.33.30:9191. (version 7.2.0.1)\n"
     ]
    }
   ],
   "source": [
    "import importlib\n",
    "import kinetica.kineai\n",
    "\n",
    "importlib.reload(kinetica.kineai)\n",
    "kineticallm = kinetica.kineai.KineticaLLM('nyse.nyse_vector_ctxt')"
   ]
  },
  {
   "cell_type": "markdown",
   "id": "f8ba94baf9440c23",
   "metadata": {
    "collapsed": false,
    "jupyter": {
     "outputs_hidden": false
    }
   },
   "source": [
    "### The Nemo context object\n",
    "- This is how we adjust how the LLM will react to our specific situation.\n",
    "- Many samples are provided so that Nemo will be able to take in plain english, pass it to Kinetica's LLM, then summarize the results\n",
    "- Note that small changes can have large effects.\n",
    "- Feel free to experiment with this context to see what the effects are"
   ]
  },
  {
   "cell_type": "code",
   "execution_count": 102,
   "id": "9bbbaacbd2b6a0ce",
   "metadata": {
    "collapsed": false,
    "jupyter": {
     "outputs_hidden": false
    }
   },
   "outputs": [],
   "source": [
    "system = \"\"\" KineticAI is a cheerful AI assistant for engaging in a conversation between an LLM using the Nemo framework and the Kinetica LLM.  The Kinetica\n",
    "LLM is designed to translate natural language questions into SQL queries. \n",
    "\n",
    "In addition to responding with  natural language it is able to ask questions to a database AI named SqlAssist that can query and summarize the logs. \n",
    "If it responds with a \"KineticaLLM |  question\" where question is sent to the SqlAssist AI. The SqlAssist AI will respond with an answer \n",
    "to the question in JSON format to the question made to SqlAssist by KineticAI.\n",
    "\n",
    "when presented with a question, you should prefix your response with \"KineticaLLM | \"\n",
    "if a sentence ends in a \"?\", you should prefix your response with \"KineticaLLM | \"\n",
    "\n",
    "Consider the following example where a user asks KineticAI a question and KineticAI asks a followup question to SqlAssist. KineticAI uses the response from \n",
    "SqlAssist to answer the user's question.\n",
    "\n",
    "user: what is the weather like today?\n",
    "assistant: KineticaLLM | what is the weather like today?\n",
    "user: KineticaLLM | [{\"EXPR_0\": 5.4}]\n",
    "assistant: The answer is 5.4\n",
    "\"\"\"\n",
    "\n",
    "context0 = [dict(role=\"system\", content=system),\n",
    "            dict(role=\"user\", content=\"what is the stock price today?\"),\n",
    "            dict(role=\"assistant\", content=\"KineticaLLM | what is the stock price today?\"),\n",
    "            dict(role=\"user\", content=\"how many rows of data are you storing?\"),\n",
    "            dict(role=\"assistant\", content=\"KineticaLLM | how many rows of data are you storing?\"),\n",
    "            dict(role=\"user\", content=\"what is the average number of telemetry rows per 5 second increment?\"),\n",
    "            dict(role=\"assistant\", content=\"KineticaLLM | what is the average number of telemetry rows per 5 second increment?\"),\n",
    "            dict(role=\"user\", content=\"find me top stock prices today\"),\n",
    "            dict(role=\"assistant\", content=\"KineticaLLM | find me top stock prices today\"),\n",
    "            dict(role=\"user\", content='KineticaLLM | [{\"EXPR_0\": 5.4}]'),\n",
    "            dict(role=\"assistant\", content='The answer is 5.4'),\n",
    "            dict(role=\"user\", content='KineticaLLM | [{\"ts_bkt\": \"2024-02-07 19:35:00.000\", \"symbol\": \"aapl\", \"d1\": -6467.2607421875}, {\"ts_bkt\": \"2024-02-07 19:30:00.000\", \"symbol\": \"aapl\", \"d1\": -6406.75341796875}, {\"ts_bkt\": \"2024-02-07 19:45:00.000\", \"symbol\": \"tsla\", \"d1\": -6331.88671875}, {\"ts_bkt\": \"2024-02-07 19:40:00.000\", \"symbol\": \"tsla\", \"d1\": -6128.375}]'),\n",
    "            dict(role=\"assistant\", content='It looks like aapl and tsla might be good choices')]"
   ]
  },
  {
   "cell_type": "code",
   "execution_count": 104,
   "id": "63f688a7efca6afb",
   "metadata": {
    "collapsed": false,
    "jupyter": {
     "outputs_hidden": false
    }
   },
   "outputs": [
    {
     "name": "stderr",
     "output_type": "stream",
     "text": [
      "INFO:SqlAssistLLM:Query: what stock symbol other than Apple has the highest price within the last 15 minutes?\n",
      "INFO:SqlAssistLLM:SQL: SELECT\n",
      "    s\n",
      "FROM\n",
      "    nyse.prices\n",
      "WHERE\n",
      "    t >= now() - interval '15' minutes\n",
      "    and s <> 'apple'\n",
      "GROUP BY\n",
      "    s\n",
      "ORDER BY\n",
      "    avg(lp) desc\n",
      "LIMIT\n",
      "    1\n",
      "INFO:NemoChatLLM:user: KineticaLLM |  [{\"s\": \"nvr\"}] (tokens: 1204/2892)\n",
      "INFO:NemoChatLLM:assistant: NVR is a good choice (tokens: 1283/2813)\n"
     ]
    },
    {
     "data": {
      "text/plain": [
       "[{'role': 'system',\n",
       "  'content': ' KineticAI is a cheerful AI assistant for engaging in a conversation between an LLM using the Nemo framework and the Kinetica LLM.  The Kinetica\\nLLM is designed to translate natural language questions into SQL queries. \\n\\nIn addition to responding with  natural language it is able to ask questions to a database AI named SqlAssist that can query and summarize the logs. \\nIf it responds with a \"KineticaLLM |  question\" where question is sent to the SqlAssist AI. The SqlAssist AI will respond with an answer \\nto the question in JSON format to the question made to SqlAssist by KineticAI.\\n\\nwhen presented with a question, you should prefix your response with \"KineticaLLM | \"\\nif a sentence ends in a \"?\", you should prefix your response with \"KineticaLLM | \"\\n\\nConsider the following example where a user asks KineticAI a question and KineticAI asks a followup question to SqlAssist. KineticAI uses the response from \\nSqlAssist to answer the user\\'s question.\\n\\nuser: what is the weather like today?\\nassistant: KineticaLLM | what is the weather like today?\\nuser: KineticaLLM | [{\"EXPR_0\": 5.4}]\\nassistant: The answer is 5.4\\n'},\n",
       " {'role': 'user', 'content': 'what is the stock price today?'},\n",
       " {'role': 'assistant',\n",
       "  'content': 'KineticaLLM | what is the stock price today?'},\n",
       " {'role': 'user', 'content': 'how many rows of data are you storing?'},\n",
       " {'role': 'assistant',\n",
       "  'content': 'KineticaLLM | how many rows of data are you storing?'},\n",
       " {'role': 'user',\n",
       "  'content': 'what is the average number of telemetry rows per 5 second increment?'},\n",
       " {'role': 'assistant',\n",
       "  'content': 'KineticaLLM | what is the average number of telemetry rows per 5 second increment?'},\n",
       " {'role': 'user', 'content': 'find me top stock prices today'},\n",
       " {'role': 'assistant',\n",
       "  'content': 'KineticaLLM | find me top stock prices today'},\n",
       " {'role': 'user', 'content': 'KineticaLLM | [{\"EXPR_0\": 5.4}]'},\n",
       " {'role': 'assistant', 'content': 'The answer is 5.4'},\n",
       " {'role': 'user',\n",
       "  'content': 'KineticaLLM | [{\"ts_bkt\": \"2024-02-07 19:35:00.000\", \"symbol\": \"aapl\", \"d1\": -6467.2607421875}, {\"ts_bkt\": \"2024-02-07 19:30:00.000\", \"symbol\": \"aapl\", \"d1\": -6406.75341796875}, {\"ts_bkt\": \"2024-02-07 19:45:00.000\", \"symbol\": \"tsla\", \"d1\": -6331.88671875}, {\"ts_bkt\": \"2024-02-07 19:40:00.000\", \"symbol\": \"tsla\", \"d1\": -6128.375}]'},\n",
       " {'role': 'assistant',\n",
       "  'content': 'It looks like aapl and tsla might be good choices'},\n",
       " {'role': 'user', 'content': 'KineticaLLM |  [{\"s\": \"nvr\"}]'},\n",
       " {'role': 'assistant', 'content': '\\nNVR is a good choice'}]"
      ]
     },
     "execution_count": 104,
     "metadata": {},
     "output_type": "execute_result"
    }
   ],
   "source": [
    "question = 'what stock symbol other than Apple has the highest price within the last 15 minutes?'\n",
    "kineticallm.chat(context0, question)"
   ]
  },
  {
   "cell_type": "code",
   "execution_count": 117,
   "id": "155f800b9a4ede59",
   "metadata": {
    "collapsed": false,
    "jupyter": {
     "outputs_hidden": false
    }
   },
   "outputs": [
    {
     "name": "stderr",
     "output_type": "stream",
     "text": [
      "INFO:SqlAssistLLM:Query: find potential buying opportunities over the next 30 min?\n",
      "INFO:SqlAssistLLM:SQL: SELECT\n",
      "    ts_bkt,\n",
      "    symbol,\n",
      "    dot_product(ap_vec,(select string(ap_vec) from (select * from nyse.vector where ts_bkt = '2024-01-29 14:25:00.000' and symbol ='sofi' limit 1))) as d1\n",
      "FROM\n",
      "    nyse.vector\n",
      "WHERE\n",
      "    ts_bkt >= now() - interval '30' minutes\n",
      "ORDER BY\n",
      "    d1 asc\n",
      "LIMIT\n",
      "    5\n",
      "INFO:NemoChatLLM:user: KineticaLLM |  [{\"ts_bkt\": \"2024-02-26 18:15:00.000\", \"symbol\": \"qqq\", \"d1\": -7166.876953125}, {\"ts_bkt\": \"2024-02-26 18:30:00.000\", \"symbol\": \"qqq\", \"d1\": -6741.68701171875}, {\"ts_bkt\": \"2024-02-26 18:25:00.000\", \"symbol\": \"soxx\", \"d1\": -6355.7998046875}, {\"ts_bkt\": \"2024-02-26 18:15:00.000\", \"symbol\": \"soxx\", \"d1\": -6264.248046875}, {\"ts_bkt\": \"2024-02-26 18:30:00.000\", \"symbol\": \"spy\", \"d1\": -5976.92138671875}] (tokens: 1491/2605)\n",
      "INFO:NemoChatLLM:assistant: It looks like qqq and spy might be good choices (tokens: 1575/2521)\n"
     ]
    },
    {
     "data": {
      "text/plain": [
       "[{'role': 'system',\n",
       "  'content': ' KineticAI is a cheerful AI assistant for engaging in a conversation between an LLM using the Nemo framework and the Kinetica LLM.  The Kinetica\\nLLM is designed to translate natural language questions into SQL queries. \\n\\nIn addition to responding with  natural language it is able to ask questions to a database AI named SqlAssist that can query and summarize the logs. \\nIf it responds with a \"KineticaLLM |  question\" where question is sent to the SqlAssist AI. The SqlAssist AI will respond with an answer \\nto the question in JSON format to the question made to SqlAssist by KineticAI.\\n\\nwhen presented with a question, you should prefix your response with \"KineticaLLM | \"\\nif a sentence ends in a \"?\", you should prefix your response with \"KineticaLLM | \"\\n\\nConsider the following example where a user asks KineticAI a question and KineticAI asks a followup question to SqlAssist. KineticAI uses the response from \\nSqlAssist to answer the user\\'s question.\\n\\nuser: what is the weather like today?\\nassistant: KineticaLLM | what is the weather like today?\\nuser: KineticaLLM | [{\"EXPR_0\": 5.4}]\\nassistant: The answer is 5.4\\n'},\n",
       " {'role': 'user', 'content': 'what is the stock price today?'},\n",
       " {'role': 'assistant',\n",
       "  'content': 'KineticaLLM | what is the stock price today?'},\n",
       " {'role': 'user', 'content': 'how many rows of data are you storing?'},\n",
       " {'role': 'assistant',\n",
       "  'content': 'KineticaLLM | how many rows of data are you storing?'},\n",
       " {'role': 'user',\n",
       "  'content': 'what is the average number of telemetry rows per 5 second increment?'},\n",
       " {'role': 'assistant',\n",
       "  'content': 'KineticaLLM | what is the average number of telemetry rows per 5 second increment?'},\n",
       " {'role': 'user', 'content': 'find me top stock prices today'},\n",
       " {'role': 'assistant',\n",
       "  'content': 'KineticaLLM | find me top stock prices today'},\n",
       " {'role': 'user', 'content': 'KineticaLLM | [{\"EXPR_0\": 5.4}]'},\n",
       " {'role': 'assistant', 'content': 'The answer is 5.4'},\n",
       " {'role': 'user',\n",
       "  'content': 'KineticaLLM | [{\"ts_bkt\": \"2024-02-07 19:35:00.000\", \"symbol\": \"aapl\", \"d1\": -6467.2607421875}, {\"ts_bkt\": \"2024-02-07 19:30:00.000\", \"symbol\": \"aapl\", \"d1\": -6406.75341796875}, {\"ts_bkt\": \"2024-02-07 19:45:00.000\", \"symbol\": \"tsla\", \"d1\": -6331.88671875}, {\"ts_bkt\": \"2024-02-07 19:40:00.000\", \"symbol\": \"tsla\", \"d1\": -6128.375}]'},\n",
       " {'role': 'assistant',\n",
       "  'content': 'It looks like aapl and tsla might be good choices'},\n",
       " {'role': 'user',\n",
       "  'content': 'KineticaLLM |  [{\"ts_bkt\": \"2024-02-26 18:15:00.000\", \"symbol\": \"qqq\", \"d1\": -7166.876953125}, {\"ts_bkt\": \"2024-02-26 18:30:00.000\", \"symbol\": \"qqq\", \"d1\": -6741.68701171875}, {\"ts_bkt\": \"2024-02-26 18:25:00.000\", \"symbol\": \"soxx\", \"d1\": -6355.7998046875}, {\"ts_bkt\": \"2024-02-26 18:15:00.000\", \"symbol\": \"soxx\", \"d1\": -6264.248046875}, {\"ts_bkt\": \"2024-02-26 18:30:00.000\", \"symbol\": \"spy\", \"d1\": -5976.92138671875}]'},\n",
       " {'role': 'assistant',\n",
       "  'content': '\\nIt looks like qqq and spy might be good choices'}]"
      ]
     },
     "execution_count": 117,
     "metadata": {},
     "output_type": "execute_result"
    }
   ],
   "source": [
    "question = 'find potential buying opportunities over the next 30 min?'\n",
    "kineticallm.chat(context0, question)"
   ]
  },
  {
   "cell_type": "code",
   "execution_count": 120,
   "id": "96163c553d77a5a1",
   "metadata": {
    "collapsed": false,
    "jupyter": {
     "outputs_hidden": false
    }
   },
   "outputs": [
    {
     "data": {
      "text/plain": [
       "<Axes: xlabel='t'>"
      ]
     },
     "execution_count": 120,
     "metadata": {},
     "output_type": "execute_result"
    },
    {
     "data": {
      "image/png": "[encoded data removed]",
      "text/plain": [
       "<Figure size 640x480 with 1 Axes>"
      ]
     },
     "metadata": {},
     "output_type": "display_data"
    }
   ],
   "source": [
    "question = '''show me ask prices for spy for the last 24 hours'''\n",
    "response: SqlResponse = chain.invoke({\"input\": question})\n",
    "response.dataframe.plot.line(x='t', y='ap')"
   ]
  },
  {
   "cell_type": "code",
   "execution_count": null,
   "id": "697db0f5dbb4b74b",
   "metadata": {
    "collapsed": false,
    "jupyter": {
     "outputs_hidden": false
    }
   },
   "outputs": [],
   "source": []
  }
 ],
 "metadata": {
  "kernelspec": {
   "display_name": "Python 3 (ipykernel)",
   "language": "python",
   "name": "python3"
  },
  "language_info": {
   "codemirror_mode": {
    "name": "ipython",
    "version": 3
   },
   "file_extension": ".py",
   "mimetype": "text/x-python",
   "name": "python",
   "nbconvert_exporter": "python",
   "pygments_lexer": "ipython3",
   "version": "3.10.11"
  }
 },
 "nbformat": 4,
 "nbformat_minor": 5
}
